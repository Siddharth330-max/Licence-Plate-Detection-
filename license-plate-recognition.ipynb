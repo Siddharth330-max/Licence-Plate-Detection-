{
 "cells": [
  {
   "cell_type": "markdown",
   "metadata": {},
   "source": [
    "**LICENCE PLATE DETECTION USING YOLOV8 -: In this project we will get the cropped images which contain the license plates**"
   ]
  },
  {
   "cell_type": "markdown",
   "metadata": {},
   "source": [
    "**First Let us convert CSV file(which has dimentions of boxes) to YOLO format**"
   ]
  },
  {
   "cell_type": "code",
   "execution_count": 1,
   "metadata": {
    "execution": {
     "iopub.execute_input": "2025-06-15T14:14:16.860467Z",
     "iopub.status.busy": "2025-06-15T14:14:16.860195Z",
     "iopub.status.idle": "2025-06-15T14:14:19.892640Z",
     "shell.execute_reply": "2025-06-15T14:14:19.891733Z",
     "shell.execute_reply.started": "2025-06-15T14:14:16.860449Z"
    },
    "trusted": true
   },
   "outputs": [],
   "source": [
    "import os \n",
    "import pandas as pd \n",
    "from PIL import Image"
   ]
  },
  {
   "cell_type": "code",
   "execution_count": null,
   "metadata": {
    "execution": {
     "iopub.execute_input": "2025-06-15T14:32:09.117548Z",
     "iopub.status.busy": "2025-06-15T14:32:09.117260Z",
     "iopub.status.idle": "2025-06-15T14:32:24.515747Z",
     "shell.execute_reply": "2025-06-15T14:32:24.515109Z",
     "shell.execute_reply.started": "2025-06-15T14:32:09.117528Z"
    },
    "trusted": true
   },
   "outputs": [
    {
     "name": "stdout",
     "output_type": "stream",
     "text": [
      "Looking for: /kaggle/input/license-plate-prediction/Licplatesdetection_train/license_plates_detection_train/1.jpg\n",
      "Looking for: /kaggle/input/license-plate-prediction/Licplatesdetection_train/license_plates_detection_train/10.jpg\n",
      "Looking for: /kaggle/input/license-plate-prediction/Licplatesdetection_train/license_plates_detection_train/100.jpg\n",
      "Looking for: /kaggle/input/license-plate-prediction/Licplatesdetection_train/license_plates_detection_train/101.jpg\n",
      "Looking for: /kaggle/input/license-plate-prediction/Licplatesdetection_train/license_plates_detection_train/102.jpg\n",
      "Looking for: /kaggle/input/license-plate-prediction/Licplatesdetection_train/license_plates_detection_train/103.jpg\n",
      "Looking for: /kaggle/input/license-plate-prediction/Licplatesdetection_train/license_plates_detection_train/104.jpg\n",
      "Looking for: /kaggle/input/license-plate-prediction/Licplatesdetection_train/license_plates_detection_train/105.jpg\n",
      "Looking for: /kaggle/input/license-plate-prediction/Licplatesdetection_train/license_plates_detection_train/106.jpg\n",
      "Looking for: /kaggle/input/license-plate-prediction/Licplatesdetection_train/license_plates_detection_train/107.jpg\n",
      "Looking for: /kaggle/input/license-plate-prediction/Licplatesdetection_train/license_plates_detection_train/108.jpg\n",
      "Looking for: /kaggle/input/license-plate-prediction/Licplatesdetection_train/license_plates_detection_train/109.jpg\n",
      "Looking for: /kaggle/input/license-plate-prediction/Licplatesdetection_train/license_plates_detection_train/11.jpg\n",
      "Looking for: /kaggle/input/license-plate-prediction/Licplatesdetection_train/license_plates_detection_train/110.jpg\n",
      "Looking for: /kaggle/input/license-plate-prediction/Licplatesdetection_train/license_plates_detection_train/111.jpg\n",
      "Looking for: /kaggle/input/license-plate-prediction/Licplatesdetection_train/license_plates_detection_train/112.jpg\n",
      "Looking for: /kaggle/input/license-plate-prediction/Licplatesdetection_train/license_plates_detection_train/113.jpg\n",
      "Looking for: /kaggle/input/license-plate-prediction/Licplatesdetection_train/license_plates_detection_train/114.jpg\n",
      "Looking for: /kaggle/input/license-plate-prediction/Licplatesdetection_train/license_plates_detection_train/115.jpg\n",
      "Looking for: /kaggle/input/license-plate-prediction/Licplatesdetection_train/license_plates_detection_train/116.jpg\n",
      "Looking for: /kaggle/input/license-plate-prediction/Licplatesdetection_train/license_plates_detection_train/117.jpg\n",
      "Looking for: /kaggle/input/license-plate-prediction/Licplatesdetection_train/license_plates_detection_train/118.jpg\n",
      "Looking for: /kaggle/input/license-plate-prediction/Licplatesdetection_train/license_plates_detection_train/119.jpg\n",
      "Looking for: /kaggle/input/license-plate-prediction/Licplatesdetection_train/license_plates_detection_train/12.jpg\n",
      "Looking for: /kaggle/input/license-plate-prediction/Licplatesdetection_train/license_plates_detection_train/120.jpg\n",
      "Looking for: /kaggle/input/license-plate-prediction/Licplatesdetection_train/license_plates_detection_train/121.jpg\n",
      "Looking for: /kaggle/input/license-plate-prediction/Licplatesdetection_train/license_plates_detection_train/122.jpg\n",
      "Looking for: /kaggle/input/license-plate-prediction/Licplatesdetection_train/license_plates_detection_train/123.jpg\n",
      "Looking for: /kaggle/input/license-plate-prediction/Licplatesdetection_train/license_plates_detection_train/124.jpg\n",
      "Looking for: /kaggle/input/license-plate-prediction/Licplatesdetection_train/license_plates_detection_train/125.jpg\n",
      "Looking for: /kaggle/input/license-plate-prediction/Licplatesdetection_train/license_plates_detection_train/126.jpg\n",
      "Looking for: /kaggle/input/license-plate-prediction/Licplatesdetection_train/license_plates_detection_train/127.jpg\n",
      "Looking for: /kaggle/input/license-plate-prediction/Licplatesdetection_train/license_plates_detection_train/128.jpg\n",
      "Looking for: /kaggle/input/license-plate-prediction/Licplatesdetection_train/license_plates_detection_train/129.jpg\n",
      "Looking for: /kaggle/input/license-plate-prediction/Licplatesdetection_train/license_plates_detection_train/13.jpg\n",
      "Looking for: /kaggle/input/license-plate-prediction/Licplatesdetection_train/license_plates_detection_train/130.jpg\n",
      "Looking for: /kaggle/input/license-plate-prediction/Licplatesdetection_train/license_plates_detection_train/131.jpg\n",
      "Looking for: /kaggle/input/license-plate-prediction/Licplatesdetection_train/license_plates_detection_train/132.jpg\n",
      "Looking for: /kaggle/input/license-plate-prediction/Licplatesdetection_train/license_plates_detection_train/133.jpg\n",
      "Looking for: /kaggle/input/license-plate-prediction/Licplatesdetection_train/license_plates_detection_train/134.jpg\n",
      "Looking for: /kaggle/input/license-plate-prediction/Licplatesdetection_train/license_plates_detection_train/135.jpg\n",
      "Looking for: /kaggle/input/license-plate-prediction/Licplatesdetection_train/license_plates_detection_train/136.jpg\n",
      "Looking for: /kaggle/input/license-plate-prediction/Licplatesdetection_train/license_plates_detection_train/137.jpg\n",
      "Looking for: /kaggle/input/license-plate-prediction/Licplatesdetection_train/license_plates_detection_train/138.jpg\n",
      "Looking for: /kaggle/input/license-plate-prediction/Licplatesdetection_train/license_plates_detection_train/139.jpg\n",
      "Looking for: /kaggle/input/license-plate-prediction/Licplatesdetection_train/license_plates_detection_train/14.jpg\n",
      "Looking for: /kaggle/input/license-plate-prediction/Licplatesdetection_train/license_plates_detection_train/140.jpg\n",
      "Looking for: /kaggle/input/license-plate-prediction/Licplatesdetection_train/license_plates_detection_train/141.jpg\n",
      "Looking for: /kaggle/input/license-plate-prediction/Licplatesdetection_train/license_plates_detection_train/142.jpg\n",
      "Looking for: /kaggle/input/license-plate-prediction/Licplatesdetection_train/license_plates_detection_train/143.jpg\n",
      "Looking for: /kaggle/input/license-plate-prediction/Licplatesdetection_train/license_plates_detection_train/144.jpg\n",
      "Looking for: /kaggle/input/license-plate-prediction/Licplatesdetection_train/license_plates_detection_train/145.jpg\n",
      "Looking for: /kaggle/input/license-plate-prediction/Licplatesdetection_train/license_plates_detection_train/146.jpg\n",
      "Looking for: /kaggle/input/license-plate-prediction/Licplatesdetection_train/license_plates_detection_train/147.jpg\n",
      "Looking for: /kaggle/input/license-plate-prediction/Licplatesdetection_train/license_plates_detection_train/148.jpg\n",
      "Looking for: /kaggle/input/license-plate-prediction/Licplatesdetection_train/license_plates_detection_train/149.jpg\n",
      "Looking for: /kaggle/input/license-plate-prediction/Licplatesdetection_train/license_plates_detection_train/15.jpg\n",
      "Looking for: /kaggle/input/license-plate-prediction/Licplatesdetection_train/license_plates_detection_train/150.jpg\n",
      "Looking for: /kaggle/input/license-plate-prediction/Licplatesdetection_train/license_plates_detection_train/151.jpg\n",
      "Looking for: /kaggle/input/license-plate-prediction/Licplatesdetection_train/license_plates_detection_train/152.jpg\n",
      "Looking for: /kaggle/input/license-plate-prediction/Licplatesdetection_train/license_plates_detection_train/153.jpg\n",
      "Looking for: /kaggle/input/license-plate-prediction/Licplatesdetection_train/license_plates_detection_train/154.jpg\n",
      "Looking for: /kaggle/input/license-plate-prediction/Licplatesdetection_train/license_plates_detection_train/155.jpg\n",
      "Looking for: /kaggle/input/license-plate-prediction/Licplatesdetection_train/license_plates_detection_train/156.jpg\n",
      "Looking for: /kaggle/input/license-plate-prediction/Licplatesdetection_train/license_plates_detection_train/157.jpg\n",
      "Looking for: /kaggle/input/license-plate-prediction/Licplatesdetection_train/license_plates_detection_train/158.jpg\n",
      "Looking for: /kaggle/input/license-plate-prediction/Licplatesdetection_train/license_plates_detection_train/159.jpg\n",
      "Looking for: /kaggle/input/license-plate-prediction/Licplatesdetection_train/license_plates_detection_train/16.jpg\n",
      "Looking for: /kaggle/input/license-plate-prediction/Licplatesdetection_train/license_plates_detection_train/160.jpg\n",
      "Looking for: /kaggle/input/license-plate-prediction/Licplatesdetection_train/license_plates_detection_train/161.jpg\n",
      "Looking for: /kaggle/input/license-plate-prediction/Licplatesdetection_train/license_plates_detection_train/162.jpg\n",
      "Looking for: /kaggle/input/license-plate-prediction/Licplatesdetection_train/license_plates_detection_train/163.jpg\n",
      "Looking for: /kaggle/input/license-plate-prediction/Licplatesdetection_train/license_plates_detection_train/164.jpg\n",
      "Looking for: /kaggle/input/license-plate-prediction/Licplatesdetection_train/license_plates_detection_train/165.jpg\n",
      "Looking for: /kaggle/input/license-plate-prediction/Licplatesdetection_train/license_plates_detection_train/166.jpg\n",
      "Looking for: /kaggle/input/license-plate-prediction/Licplatesdetection_train/license_plates_detection_train/167.jpg\n",
      "Looking for: /kaggle/input/license-plate-prediction/Licplatesdetection_train/license_plates_detection_train/168.jpg\n",
      "Looking for: /kaggle/input/license-plate-prediction/Licplatesdetection_train/license_plates_detection_train/169.jpg\n",
      "Looking for: /kaggle/input/license-plate-prediction/Licplatesdetection_train/license_plates_detection_train/17.jpg\n",
      "Looking for: /kaggle/input/license-plate-prediction/Licplatesdetection_train/license_plates_detection_train/170.jpg\n",
      "Looking for: /kaggle/input/license-plate-prediction/Licplatesdetection_train/license_plates_detection_train/171.jpg\n",
      "Looking for: /kaggle/input/license-plate-prediction/Licplatesdetection_train/license_plates_detection_train/172.jpg\n",
      "Looking for: /kaggle/input/license-plate-prediction/Licplatesdetection_train/license_plates_detection_train/173.jpg\n",
      "Looking for: /kaggle/input/license-plate-prediction/Licplatesdetection_train/license_plates_detection_train/174.jpg\n",
      "Looking for: /kaggle/input/license-plate-prediction/Licplatesdetection_train/license_plates_detection_train/175.jpg\n",
      "Looking for: /kaggle/input/license-plate-prediction/Licplatesdetection_train/license_plates_detection_train/176.jpg\n",
      "Looking for: /kaggle/input/license-plate-prediction/Licplatesdetection_train/license_plates_detection_train/177.jpg\n",
      "Looking for: /kaggle/input/license-plate-prediction/Licplatesdetection_train/license_plates_detection_train/178.jpg\n",
      "Looking for: /kaggle/input/license-plate-prediction/Licplatesdetection_train/license_plates_detection_train/179.jpg\n",
      "Looking for: /kaggle/input/license-plate-prediction/Licplatesdetection_train/license_plates_detection_train/18.jpg\n",
      "Looking for: /kaggle/input/license-plate-prediction/Licplatesdetection_train/license_plates_detection_train/180.jpg\n",
      "Looking for: /kaggle/input/license-plate-prediction/Licplatesdetection_train/license_plates_detection_train/181.jpg\n",
      "Looking for: /kaggle/input/license-plate-prediction/Licplatesdetection_train/license_plates_detection_train/182.jpg\n",
      "Looking for: /kaggle/input/license-plate-prediction/Licplatesdetection_train/license_plates_detection_train/183.jpg\n",
      "Looking for: /kaggle/input/license-plate-prediction/Licplatesdetection_train/license_plates_detection_train/184.jpg\n",
      "Looking for: /kaggle/input/license-plate-prediction/Licplatesdetection_train/license_plates_detection_train/185.jpg\n",
      "Looking for: /kaggle/input/license-plate-prediction/Licplatesdetection_train/license_plates_detection_train/186.jpg\n",
      "Looking for: /kaggle/input/license-plate-prediction/Licplatesdetection_train/license_plates_detection_train/187.jpg\n",
      "Looking for: /kaggle/input/license-plate-prediction/Licplatesdetection_train/license_plates_detection_train/188.jpg\n",
      "Looking for: /kaggle/input/license-plate-prediction/Licplatesdetection_train/license_plates_detection_train/189.jpg\n",
      "Looking for: /kaggle/input/license-plate-prediction/Licplatesdetection_train/license_plates_detection_train/19.jpg\n",
      "Looking for: /kaggle/input/license-plate-prediction/Licplatesdetection_train/license_plates_detection_train/190.jpg\n",
      "Looking for: /kaggle/input/license-plate-prediction/Licplatesdetection_train/license_plates_detection_train/191.jpg\n",
      "Looking for: /kaggle/input/license-plate-prediction/Licplatesdetection_train/license_plates_detection_train/192.jpg\n",
      "Looking for: /kaggle/input/license-plate-prediction/Licplatesdetection_train/license_plates_detection_train/193.jpg\n",
      "Looking for: /kaggle/input/license-plate-prediction/Licplatesdetection_train/license_plates_detection_train/194.jpg\n",
      "Looking for: /kaggle/input/license-plate-prediction/Licplatesdetection_train/license_plates_detection_train/195.jpg\n",
      "Looking for: /kaggle/input/license-plate-prediction/Licplatesdetection_train/license_plates_detection_train/196.jpg\n",
      "Looking for: /kaggle/input/license-plate-prediction/Licplatesdetection_train/license_plates_detection_train/197.jpg\n",
      "Looking for: /kaggle/input/license-plate-prediction/Licplatesdetection_train/license_plates_detection_train/198.jpg\n",
      "Looking for: /kaggle/input/license-plate-prediction/Licplatesdetection_train/license_plates_detection_train/199.jpg\n",
      "Looking for: /kaggle/input/license-plate-prediction/Licplatesdetection_train/license_plates_detection_train/2.jpg\n",
      "Looking for: /kaggle/input/license-plate-prediction/Licplatesdetection_train/license_plates_detection_train/20.jpg\n",
      "Looking for: /kaggle/input/license-plate-prediction/Licplatesdetection_train/license_plates_detection_train/200.jpg\n",
      "Looking for: /kaggle/input/license-plate-prediction/Licplatesdetection_train/license_plates_detection_train/201.jpg\n",
      "Looking for: /kaggle/input/license-plate-prediction/Licplatesdetection_train/license_plates_detection_train/202.jpg\n",
      "Looking for: /kaggle/input/license-plate-prediction/Licplatesdetection_train/license_plates_detection_train/203.jpg\n",
      "Looking for: /kaggle/input/license-plate-prediction/Licplatesdetection_train/license_plates_detection_train/204.jpg\n",
      "Looking for: /kaggle/input/license-plate-prediction/Licplatesdetection_train/license_plates_detection_train/205.jpg\n",
      "Looking for: /kaggle/input/license-plate-prediction/Licplatesdetection_train/license_plates_detection_train/206.jpg\n",
      "Looking for: /kaggle/input/license-plate-prediction/Licplatesdetection_train/license_plates_detection_train/207.jpg\n",
      "Looking for: /kaggle/input/license-plate-prediction/Licplatesdetection_train/license_plates_detection_train/208.jpg\n",
      "Looking for: /kaggle/input/license-plate-prediction/Licplatesdetection_train/license_plates_detection_train/209.jpg\n",
      "Looking for: /kaggle/input/license-plate-prediction/Licplatesdetection_train/license_plates_detection_train/21.jpg\n",
      "Looking for: /kaggle/input/license-plate-prediction/Licplatesdetection_train/license_plates_detection_train/210.jpg\n",
      "Looking for: /kaggle/input/license-plate-prediction/Licplatesdetection_train/license_plates_detection_train/211.jpg\n",
      "Looking for: /kaggle/input/license-plate-prediction/Licplatesdetection_train/license_plates_detection_train/212.jpg\n",
      "Looking for: /kaggle/input/license-plate-prediction/Licplatesdetection_train/license_plates_detection_train/213.jpg\n",
      "Looking for: /kaggle/input/license-plate-prediction/Licplatesdetection_train/license_plates_detection_train/214.jpg\n",
      "Looking for: /kaggle/input/license-plate-prediction/Licplatesdetection_train/license_plates_detection_train/215.jpg\n",
      "Looking for: /kaggle/input/license-plate-prediction/Licplatesdetection_train/license_plates_detection_train/216.jpg\n",
      "Looking for: /kaggle/input/license-plate-prediction/Licplatesdetection_train/license_plates_detection_train/217.jpg\n",
      "Looking for: /kaggle/input/license-plate-prediction/Licplatesdetection_train/license_plates_detection_train/218.jpg\n",
      "Looking for: /kaggle/input/license-plate-prediction/Licplatesdetection_train/license_plates_detection_train/219.jpg\n",
      "Looking for: /kaggle/input/license-plate-prediction/Licplatesdetection_train/license_plates_detection_train/22.jpg\n",
      "Looking for: /kaggle/input/license-plate-prediction/Licplatesdetection_train/license_plates_detection_train/220.jpg\n",
      "Looking for: /kaggle/input/license-plate-prediction/Licplatesdetection_train/license_plates_detection_train/221.jpg\n",
      "Looking for: /kaggle/input/license-plate-prediction/Licplatesdetection_train/license_plates_detection_train/222.jpg\n",
      "Looking for: /kaggle/input/license-plate-prediction/Licplatesdetection_train/license_plates_detection_train/223.jpg\n",
      "Looking for: /kaggle/input/license-plate-prediction/Licplatesdetection_train/license_plates_detection_train/224.jpg\n",
      "Looking for: /kaggle/input/license-plate-prediction/Licplatesdetection_train/license_plates_detection_train/225.jpg\n",
      "Looking for: /kaggle/input/license-plate-prediction/Licplatesdetection_train/license_plates_detection_train/226.jpg\n",
      "Looking for: /kaggle/input/license-plate-prediction/Licplatesdetection_train/license_plates_detection_train/227.jpg\n",
      "Looking for: /kaggle/input/license-plate-prediction/Licplatesdetection_train/license_plates_detection_train/228.jpg\n",
      "Looking for: /kaggle/input/license-plate-prediction/Licplatesdetection_train/license_plates_detection_train/229.jpg\n",
      "Looking for: /kaggle/input/license-plate-prediction/Licplatesdetection_train/license_plates_detection_train/23.jpg\n",
      "Looking for: /kaggle/input/license-plate-prediction/Licplatesdetection_train/license_plates_detection_train/230.jpg\n",
      "Looking for: /kaggle/input/license-plate-prediction/Licplatesdetection_train/license_plates_detection_train/231.jpg\n",
      "Looking for: /kaggle/input/license-plate-prediction/Licplatesdetection_train/license_plates_detection_train/232.jpg\n",
      "Looking for: /kaggle/input/license-plate-prediction/Licplatesdetection_train/license_plates_detection_train/233.jpg\n",
      "Looking for: /kaggle/input/license-plate-prediction/Licplatesdetection_train/license_plates_detection_train/234.jpg\n",
      "Looking for: /kaggle/input/license-plate-prediction/Licplatesdetection_train/license_plates_detection_train/235.jpg\n",
      "Looking for: /kaggle/input/license-plate-prediction/Licplatesdetection_train/license_plates_detection_train/236.jpg\n",
      "Looking for: /kaggle/input/license-plate-prediction/Licplatesdetection_train/license_plates_detection_train/237.jpg\n",
      "Looking for: /kaggle/input/license-plate-prediction/Licplatesdetection_train/license_plates_detection_train/238.jpg\n",
      "Looking for: /kaggle/input/license-plate-prediction/Licplatesdetection_train/license_plates_detection_train/239.jpg\n",
      "Looking for: /kaggle/input/license-plate-prediction/Licplatesdetection_train/license_plates_detection_train/24.jpg\n",
      "Looking for: /kaggle/input/license-plate-prediction/Licplatesdetection_train/license_plates_detection_train/240.jpg\n",
      "Looking for: /kaggle/input/license-plate-prediction/Licplatesdetection_train/license_plates_detection_train/241.jpg\n",
      "Looking for: /kaggle/input/license-plate-prediction/Licplatesdetection_train/license_plates_detection_train/242.jpg\n",
      "Looking for: /kaggle/input/license-plate-prediction/Licplatesdetection_train/license_plates_detection_train/243.jpg\n",
      "Looking for: /kaggle/input/license-plate-prediction/Licplatesdetection_train/license_plates_detection_train/244.jpg\n",
      "Looking for: /kaggle/input/license-plate-prediction/Licplatesdetection_train/license_plates_detection_train/245.jpg\n",
      "Looking for: /kaggle/input/license-plate-prediction/Licplatesdetection_train/license_plates_detection_train/246.jpg\n",
      "Looking for: /kaggle/input/license-plate-prediction/Licplatesdetection_train/license_plates_detection_train/247.jpg\n",
      "Looking for: /kaggle/input/license-plate-prediction/Licplatesdetection_train/license_plates_detection_train/248.jpg\n",
      "Looking for: /kaggle/input/license-plate-prediction/Licplatesdetection_train/license_plates_detection_train/249.jpg\n",
      "Looking for: /kaggle/input/license-plate-prediction/Licplatesdetection_train/license_plates_detection_train/25.jpg\n",
      "Looking for: /kaggle/input/license-plate-prediction/Licplatesdetection_train/license_plates_detection_train/250.jpg\n",
      "Looking for: /kaggle/input/license-plate-prediction/Licplatesdetection_train/license_plates_detection_train/251.jpg\n",
      "Looking for: /kaggle/input/license-plate-prediction/Licplatesdetection_train/license_plates_detection_train/252.jpg\n",
      "Looking for: /kaggle/input/license-plate-prediction/Licplatesdetection_train/license_plates_detection_train/253.jpg\n",
      "Looking for: /kaggle/input/license-plate-prediction/Licplatesdetection_train/license_plates_detection_train/254.jpg\n",
      "Looking for: /kaggle/input/license-plate-prediction/Licplatesdetection_train/license_plates_detection_train/255.jpg\n",
      "Looking for: /kaggle/input/license-plate-prediction/Licplatesdetection_train/license_plates_detection_train/256.jpg\n",
      "Looking for: /kaggle/input/license-plate-prediction/Licplatesdetection_train/license_plates_detection_train/257.jpg\n",
      "Looking for: /kaggle/input/license-plate-prediction/Licplatesdetection_train/license_plates_detection_train/258.jpg\n",
      "Looking for: /kaggle/input/license-plate-prediction/Licplatesdetection_train/license_plates_detection_train/259.jpg\n",
      "Looking for: /kaggle/input/license-plate-prediction/Licplatesdetection_train/license_plates_detection_train/26.jpg\n",
      "Looking for: /kaggle/input/license-plate-prediction/Licplatesdetection_train/license_plates_detection_train/260.jpg\n",
      "Looking for: /kaggle/input/license-plate-prediction/Licplatesdetection_train/license_plates_detection_train/261.jpg\n",
      "Looking for: /kaggle/input/license-plate-prediction/Licplatesdetection_train/license_plates_detection_train/262.jpg\n",
      "Looking for: /kaggle/input/license-plate-prediction/Licplatesdetection_train/license_plates_detection_train/263.jpg\n",
      "Looking for: /kaggle/input/license-plate-prediction/Licplatesdetection_train/license_plates_detection_train/264.jpg\n",
      "Looking for: /kaggle/input/license-plate-prediction/Licplatesdetection_train/license_plates_detection_train/265.jpg\n",
      "Looking for: /kaggle/input/license-plate-prediction/Licplatesdetection_train/license_plates_detection_train/266.jpg\n",
      "Looking for: /kaggle/input/license-plate-prediction/Licplatesdetection_train/license_plates_detection_train/267.jpg\n",
      "Looking for: /kaggle/input/license-plate-prediction/Licplatesdetection_train/license_plates_detection_train/268.jpg\n",
      "Looking for: /kaggle/input/license-plate-prediction/Licplatesdetection_train/license_plates_detection_train/269.jpg\n",
      "Looking for: /kaggle/input/license-plate-prediction/Licplatesdetection_train/license_plates_detection_train/27.jpg\n",
      "Looking for: /kaggle/input/license-plate-prediction/Licplatesdetection_train/license_plates_detection_train/270.jpg\n",
      "Looking for: /kaggle/input/license-plate-prediction/Licplatesdetection_train/license_plates_detection_train/271.jpg\n",
      "Looking for: /kaggle/input/license-plate-prediction/Licplatesdetection_train/license_plates_detection_train/272.jpg\n",
      "Looking for: /kaggle/input/license-plate-prediction/Licplatesdetection_train/license_plates_detection_train/273.jpg\n",
      "Looking for: /kaggle/input/license-plate-prediction/Licplatesdetection_train/license_plates_detection_train/274.jpg\n",
      "Looking for: /kaggle/input/license-plate-prediction/Licplatesdetection_train/license_plates_detection_train/275.jpg\n",
      "Looking for: /kaggle/input/license-plate-prediction/Licplatesdetection_train/license_plates_detection_train/276.jpg\n",
      "Looking for: /kaggle/input/license-plate-prediction/Licplatesdetection_train/license_plates_detection_train/277.jpg\n",
      "Looking for: /kaggle/input/license-plate-prediction/Licplatesdetection_train/license_plates_detection_train/278.jpg\n",
      "Looking for: /kaggle/input/license-plate-prediction/Licplatesdetection_train/license_plates_detection_train/279.jpg\n",
      "Looking for: /kaggle/input/license-plate-prediction/Licplatesdetection_train/license_plates_detection_train/28.jpg\n",
      "Looking for: /kaggle/input/license-plate-prediction/Licplatesdetection_train/license_plates_detection_train/280.jpg\n",
      "Looking for: /kaggle/input/license-plate-prediction/Licplatesdetection_train/license_plates_detection_train/281.jpg\n",
      "Looking for: /kaggle/input/license-plate-prediction/Licplatesdetection_train/license_plates_detection_train/282.jpg\n",
      "Looking for: /kaggle/input/license-plate-prediction/Licplatesdetection_train/license_plates_detection_train/283.jpg\n",
      "Looking for: /kaggle/input/license-plate-prediction/Licplatesdetection_train/license_plates_detection_train/284.jpg\n",
      "Looking for: /kaggle/input/license-plate-prediction/Licplatesdetection_train/license_plates_detection_train/285.jpg\n",
      "Looking for: /kaggle/input/license-plate-prediction/Licplatesdetection_train/license_plates_detection_train/286.jpg\n",
      "Looking for: /kaggle/input/license-plate-prediction/Licplatesdetection_train/license_plates_detection_train/287.jpg\n",
      "Looking for: /kaggle/input/license-plate-prediction/Licplatesdetection_train/license_plates_detection_train/288.jpg\n",
      "Looking for: /kaggle/input/license-plate-prediction/Licplatesdetection_train/license_plates_detection_train/289.jpg\n",
      "Looking for: /kaggle/input/license-plate-prediction/Licplatesdetection_train/license_plates_detection_train/29.jpg\n",
      "Looking for: /kaggle/input/license-plate-prediction/Licplatesdetection_train/license_plates_detection_train/290.jpg\n",
      "Looking for: /kaggle/input/license-plate-prediction/Licplatesdetection_train/license_plates_detection_train/291.jpg\n",
      "Looking for: /kaggle/input/license-plate-prediction/Licplatesdetection_train/license_plates_detection_train/292.jpg\n",
      "Looking for: /kaggle/input/license-plate-prediction/Licplatesdetection_train/license_plates_detection_train/293.jpg\n",
      "Looking for: /kaggle/input/license-plate-prediction/Licplatesdetection_train/license_plates_detection_train/294.jpg\n",
      "Looking for: /kaggle/input/license-plate-prediction/Licplatesdetection_train/license_plates_detection_train/295.jpg\n",
      "Looking for: /kaggle/input/license-plate-prediction/Licplatesdetection_train/license_plates_detection_train/296.jpg\n",
      "Looking for: /kaggle/input/license-plate-prediction/Licplatesdetection_train/license_plates_detection_train/297.jpg\n",
      "Looking for: /kaggle/input/license-plate-prediction/Licplatesdetection_train/license_plates_detection_train/298.jpg\n",
      "Looking for: /kaggle/input/license-plate-prediction/Licplatesdetection_train/license_plates_detection_train/299.jpg\n",
      "Looking for: /kaggle/input/license-plate-prediction/Licplatesdetection_train/license_plates_detection_train/3.jpg\n",
      "Looking for: /kaggle/input/license-plate-prediction/Licplatesdetection_train/license_plates_detection_train/30.jpg\n",
      "Looking for: /kaggle/input/license-plate-prediction/Licplatesdetection_train/license_plates_detection_train/300.jpg\n",
      "Looking for: /kaggle/input/license-plate-prediction/Licplatesdetection_train/license_plates_detection_train/301.jpg\n",
      "Looking for: /kaggle/input/license-plate-prediction/Licplatesdetection_train/license_plates_detection_train/302.jpg\n",
      "Looking for: /kaggle/input/license-plate-prediction/Licplatesdetection_train/license_plates_detection_train/303.jpg\n",
      "Looking for: /kaggle/input/license-plate-prediction/Licplatesdetection_train/license_plates_detection_train/304.jpg\n",
      "Looking for: /kaggle/input/license-plate-prediction/Licplatesdetection_train/license_plates_detection_train/305.jpg\n",
      "Looking for: /kaggle/input/license-plate-prediction/Licplatesdetection_train/license_plates_detection_train/306.jpg\n",
      "Looking for: /kaggle/input/license-plate-prediction/Licplatesdetection_train/license_plates_detection_train/307.jpg\n",
      "Looking for: /kaggle/input/license-plate-prediction/Licplatesdetection_train/license_plates_detection_train/308.jpg\n",
      "Looking for: /kaggle/input/license-plate-prediction/Licplatesdetection_train/license_plates_detection_train/309.jpg\n",
      "Looking for: /kaggle/input/license-plate-prediction/Licplatesdetection_train/license_plates_detection_train/31.jpg\n",
      "Looking for: /kaggle/input/license-plate-prediction/Licplatesdetection_train/license_plates_detection_train/310.jpg\n",
      "Looking for: /kaggle/input/license-plate-prediction/Licplatesdetection_train/license_plates_detection_train/311.jpg\n",
      "Looking for: /kaggle/input/license-plate-prediction/Licplatesdetection_train/license_plates_detection_train/312.jpg\n",
      "Looking for: /kaggle/input/license-plate-prediction/Licplatesdetection_train/license_plates_detection_train/313.jpg\n",
      "Looking for: /kaggle/input/license-plate-prediction/Licplatesdetection_train/license_plates_detection_train/314.jpg\n",
      "Looking for: /kaggle/input/license-plate-prediction/Licplatesdetection_train/license_plates_detection_train/315.jpg\n",
      "Looking for: /kaggle/input/license-plate-prediction/Licplatesdetection_train/license_plates_detection_train/316.jpg\n",
      "Looking for: /kaggle/input/license-plate-prediction/Licplatesdetection_train/license_plates_detection_train/317.jpg\n",
      "Looking for: /kaggle/input/license-plate-prediction/Licplatesdetection_train/license_plates_detection_train/318.jpg\n",
      "Looking for: /kaggle/input/license-plate-prediction/Licplatesdetection_train/license_plates_detection_train/319.jpg\n",
      "Looking for: /kaggle/input/license-plate-prediction/Licplatesdetection_train/license_plates_detection_train/32.jpg\n",
      "Looking for: /kaggle/input/license-plate-prediction/Licplatesdetection_train/license_plates_detection_train/320.jpg\n",
      "Looking for: /kaggle/input/license-plate-prediction/Licplatesdetection_train/license_plates_detection_train/321.jpg\n",
      "Looking for: /kaggle/input/license-plate-prediction/Licplatesdetection_train/license_plates_detection_train/322.jpg\n",
      "Looking for: /kaggle/input/license-plate-prediction/Licplatesdetection_train/license_plates_detection_train/323.jpg\n",
      "Looking for: /kaggle/input/license-plate-prediction/Licplatesdetection_train/license_plates_detection_train/324.jpg\n",
      "Looking for: /kaggle/input/license-plate-prediction/Licplatesdetection_train/license_plates_detection_train/325.jpg\n",
      "Looking for: /kaggle/input/license-plate-prediction/Licplatesdetection_train/license_plates_detection_train/326.jpg\n",
      "Looking for: /kaggle/input/license-plate-prediction/Licplatesdetection_train/license_plates_detection_train/327.jpg\n",
      "Looking for: /kaggle/input/license-plate-prediction/Licplatesdetection_train/license_plates_detection_train/328.jpg\n",
      "Looking for: /kaggle/input/license-plate-prediction/Licplatesdetection_train/license_plates_detection_train/329.jpg\n",
      "Looking for: /kaggle/input/license-plate-prediction/Licplatesdetection_train/license_plates_detection_train/33.jpg\n",
      "Looking for: /kaggle/input/license-plate-prediction/Licplatesdetection_train/license_plates_detection_train/330.jpg\n",
      "Looking for: /kaggle/input/license-plate-prediction/Licplatesdetection_train/license_plates_detection_train/331.jpg\n",
      "Looking for: /kaggle/input/license-plate-prediction/Licplatesdetection_train/license_plates_detection_train/332.jpg\n",
      "Looking for: /kaggle/input/license-plate-prediction/Licplatesdetection_train/license_plates_detection_train/333.jpg\n",
      "Looking for: /kaggle/input/license-plate-prediction/Licplatesdetection_train/license_plates_detection_train/334.jpg\n",
      "Looking for: /kaggle/input/license-plate-prediction/Licplatesdetection_train/license_plates_detection_train/335.jpg\n",
      "Looking for: /kaggle/input/license-plate-prediction/Licplatesdetection_train/license_plates_detection_train/336.jpg\n",
      "Looking for: /kaggle/input/license-plate-prediction/Licplatesdetection_train/license_plates_detection_train/337.jpg\n",
      "Looking for: /kaggle/input/license-plate-prediction/Licplatesdetection_train/license_plates_detection_train/338.jpg\n",
      "Looking for: /kaggle/input/license-plate-prediction/Licplatesdetection_train/license_plates_detection_train/339.jpg\n",
      "Looking for: /kaggle/input/license-plate-prediction/Licplatesdetection_train/license_plates_detection_train/34.jpg\n",
      "Looking for: /kaggle/input/license-plate-prediction/Licplatesdetection_train/license_plates_detection_train/340.jpg\n",
      "Looking for: /kaggle/input/license-plate-prediction/Licplatesdetection_train/license_plates_detection_train/341.jpg\n",
      "Looking for: /kaggle/input/license-plate-prediction/Licplatesdetection_train/license_plates_detection_train/342.jpg\n",
      "Looking for: /kaggle/input/license-plate-prediction/Licplatesdetection_train/license_plates_detection_train/343.jpg\n",
      "Looking for: /kaggle/input/license-plate-prediction/Licplatesdetection_train/license_plates_detection_train/344.jpg\n",
      "Looking for: /kaggle/input/license-plate-prediction/Licplatesdetection_train/license_plates_detection_train/345.jpg\n",
      "Looking for: /kaggle/input/license-plate-prediction/Licplatesdetection_train/license_plates_detection_train/346.jpg\n",
      "Looking for: /kaggle/input/license-plate-prediction/Licplatesdetection_train/license_plates_detection_train/347.jpg\n",
      "Looking for: /kaggle/input/license-plate-prediction/Licplatesdetection_train/license_plates_detection_train/348.jpg\n",
      "Looking for: /kaggle/input/license-plate-prediction/Licplatesdetection_train/license_plates_detection_train/349.jpg\n",
      "Looking for: /kaggle/input/license-plate-prediction/Licplatesdetection_train/license_plates_detection_train/35.jpg\n",
      "Looking for: /kaggle/input/license-plate-prediction/Licplatesdetection_train/license_plates_detection_train/350.jpg\n",
      "Looking for: /kaggle/input/license-plate-prediction/Licplatesdetection_train/license_plates_detection_train/351.jpg\n",
      "Looking for: /kaggle/input/license-plate-prediction/Licplatesdetection_train/license_plates_detection_train/352.jpg\n",
      "Looking for: /kaggle/input/license-plate-prediction/Licplatesdetection_train/license_plates_detection_train/353.jpg\n",
      "Looking for: /kaggle/input/license-plate-prediction/Licplatesdetection_train/license_plates_detection_train/354.jpg\n",
      "Looking for: /kaggle/input/license-plate-prediction/Licplatesdetection_train/license_plates_detection_train/355.jpg\n",
      "Looking for: /kaggle/input/license-plate-prediction/Licplatesdetection_train/license_plates_detection_train/356.jpg\n",
      "Looking for: /kaggle/input/license-plate-prediction/Licplatesdetection_train/license_plates_detection_train/357.jpg\n",
      "Looking for: /kaggle/input/license-plate-prediction/Licplatesdetection_train/license_plates_detection_train/358.jpg\n",
      "Looking for: /kaggle/input/license-plate-prediction/Licplatesdetection_train/license_plates_detection_train/359.jpg\n",
      "Looking for: /kaggle/input/license-plate-prediction/Licplatesdetection_train/license_plates_detection_train/36.jpg\n",
      "Looking for: /kaggle/input/license-plate-prediction/Licplatesdetection_train/license_plates_detection_train/360.jpg\n",
      "Looking for: /kaggle/input/license-plate-prediction/Licplatesdetection_train/license_plates_detection_train/361.jpg\n",
      "Looking for: /kaggle/input/license-plate-prediction/Licplatesdetection_train/license_plates_detection_train/362.jpg\n",
      "Looking for: /kaggle/input/license-plate-prediction/Licplatesdetection_train/license_plates_detection_train/363.jpg\n",
      "Looking for: /kaggle/input/license-plate-prediction/Licplatesdetection_train/license_plates_detection_train/364.jpg\n",
      "Looking for: /kaggle/input/license-plate-prediction/Licplatesdetection_train/license_plates_detection_train/365.jpg\n",
      "Looking for: /kaggle/input/license-plate-prediction/Licplatesdetection_train/license_plates_detection_train/366.jpg\n",
      "Looking for: /kaggle/input/license-plate-prediction/Licplatesdetection_train/license_plates_detection_train/367.jpg\n",
      "Looking for: /kaggle/input/license-plate-prediction/Licplatesdetection_train/license_plates_detection_train/368.jpg\n",
      "Looking for: /kaggle/input/license-plate-prediction/Licplatesdetection_train/license_plates_detection_train/369.jpg\n",
      "Looking for: /kaggle/input/license-plate-prediction/Licplatesdetection_train/license_plates_detection_train/37.jpg\n",
      "Looking for: /kaggle/input/license-plate-prediction/Licplatesdetection_train/license_plates_detection_train/370.jpg\n",
      "Looking for: /kaggle/input/license-plate-prediction/Licplatesdetection_train/license_plates_detection_train/371.jpg\n",
      "Looking for: /kaggle/input/license-plate-prediction/Licplatesdetection_train/license_plates_detection_train/372.jpg\n",
      "Looking for: /kaggle/input/license-plate-prediction/Licplatesdetection_train/license_plates_detection_train/373.jpg\n",
      "Looking for: /kaggle/input/license-plate-prediction/Licplatesdetection_train/license_plates_detection_train/374.jpg\n",
      "Looking for: /kaggle/input/license-plate-prediction/Licplatesdetection_train/license_plates_detection_train/375.jpg\n",
      "Looking for: /kaggle/input/license-plate-prediction/Licplatesdetection_train/license_plates_detection_train/376.jpg\n",
      "Looking for: /kaggle/input/license-plate-prediction/Licplatesdetection_train/license_plates_detection_train/377.jpg\n",
      "Looking for: /kaggle/input/license-plate-prediction/Licplatesdetection_train/license_plates_detection_train/378.jpg\n",
      "Looking for: /kaggle/input/license-plate-prediction/Licplatesdetection_train/license_plates_detection_train/379.jpg\n",
      "Looking for: /kaggle/input/license-plate-prediction/Licplatesdetection_train/license_plates_detection_train/38.jpg\n",
      "Looking for: /kaggle/input/license-plate-prediction/Licplatesdetection_train/license_plates_detection_train/380.jpg\n",
      "Looking for: /kaggle/input/license-plate-prediction/Licplatesdetection_train/license_plates_detection_train/381.jpg\n",
      "Looking for: /kaggle/input/license-plate-prediction/Licplatesdetection_train/license_plates_detection_train/382.jpg\n",
      "Looking for: /kaggle/input/license-plate-prediction/Licplatesdetection_train/license_plates_detection_train/383.jpg\n",
      "Looking for: /kaggle/input/license-plate-prediction/Licplatesdetection_train/license_plates_detection_train/384.jpg\n",
      "Looking for: /kaggle/input/license-plate-prediction/Licplatesdetection_train/license_plates_detection_train/385.jpg\n",
      "Looking for: /kaggle/input/license-plate-prediction/Licplatesdetection_train/license_plates_detection_train/386.jpg\n",
      "Looking for: /kaggle/input/license-plate-prediction/Licplatesdetection_train/license_plates_detection_train/387.jpg\n",
      "Looking for: /kaggle/input/license-plate-prediction/Licplatesdetection_train/license_plates_detection_train/388.jpg\n",
      "Looking for: /kaggle/input/license-plate-prediction/Licplatesdetection_train/license_plates_detection_train/389.jpg\n",
      "Looking for: /kaggle/input/license-plate-prediction/Licplatesdetection_train/license_plates_detection_train/39.jpg\n",
      "Looking for: /kaggle/input/license-plate-prediction/Licplatesdetection_train/license_plates_detection_train/390.jpg\n",
      "Looking for: /kaggle/input/license-plate-prediction/Licplatesdetection_train/license_plates_detection_train/391.jpg\n",
      "Looking for: /kaggle/input/license-plate-prediction/Licplatesdetection_train/license_plates_detection_train/392.jpg\n",
      "Looking for: /kaggle/input/license-plate-prediction/Licplatesdetection_train/license_plates_detection_train/393.jpg\n",
      "Looking for: /kaggle/input/license-plate-prediction/Licplatesdetection_train/license_plates_detection_train/394.jpg\n",
      "Looking for: /kaggle/input/license-plate-prediction/Licplatesdetection_train/license_plates_detection_train/395.jpg\n",
      "Looking for: /kaggle/input/license-plate-prediction/Licplatesdetection_train/license_plates_detection_train/396.jpg\n",
      "Looking for: /kaggle/input/license-plate-prediction/Licplatesdetection_train/license_plates_detection_train/397.jpg\n",
      "Looking for: /kaggle/input/license-plate-prediction/Licplatesdetection_train/license_plates_detection_train/398.jpg\n",
      "Looking for: /kaggle/input/license-plate-prediction/Licplatesdetection_train/license_plates_detection_train/399.jpg\n",
      "Looking for: /kaggle/input/license-plate-prediction/Licplatesdetection_train/license_plates_detection_train/4.jpg\n",
      "Looking for: /kaggle/input/license-plate-prediction/Licplatesdetection_train/license_plates_detection_train/40.jpg\n",
      "Looking for: /kaggle/input/license-plate-prediction/Licplatesdetection_train/license_plates_detection_train/400.jpg\n",
      "Looking for: /kaggle/input/license-plate-prediction/Licplatesdetection_train/license_plates_detection_train/401.jpg\n",
      "Looking for: /kaggle/input/license-plate-prediction/Licplatesdetection_train/license_plates_detection_train/402.jpg\n",
      "Looking for: /kaggle/input/license-plate-prediction/Licplatesdetection_train/license_plates_detection_train/403.jpg\n",
      "Looking for: /kaggle/input/license-plate-prediction/Licplatesdetection_train/license_plates_detection_train/404.jpg\n",
      "Looking for: /kaggle/input/license-plate-prediction/Licplatesdetection_train/license_plates_detection_train/405.jpg\n",
      "Looking for: /kaggle/input/license-plate-prediction/Licplatesdetection_train/license_plates_detection_train/406.jpg\n",
      "Looking for: /kaggle/input/license-plate-prediction/Licplatesdetection_train/license_plates_detection_train/407.jpg\n",
      "Looking for: /kaggle/input/license-plate-prediction/Licplatesdetection_train/license_plates_detection_train/408.jpg\n",
      "Looking for: /kaggle/input/license-plate-prediction/Licplatesdetection_train/license_plates_detection_train/409.jpg\n",
      "Looking for: /kaggle/input/license-plate-prediction/Licplatesdetection_train/license_plates_detection_train/41.jpg\n",
      "Looking for: /kaggle/input/license-plate-prediction/Licplatesdetection_train/license_plates_detection_train/410.jpg\n",
      "Looking for: /kaggle/input/license-plate-prediction/Licplatesdetection_train/license_plates_detection_train/411.jpg\n",
      "Looking for: /kaggle/input/license-plate-prediction/Licplatesdetection_train/license_plates_detection_train/412.jpg\n",
      "Looking for: /kaggle/input/license-plate-prediction/Licplatesdetection_train/license_plates_detection_train/413.jpg\n",
      "Looking for: /kaggle/input/license-plate-prediction/Licplatesdetection_train/license_plates_detection_train/414.jpg\n",
      "Looking for: /kaggle/input/license-plate-prediction/Licplatesdetection_train/license_plates_detection_train/415.jpg\n",
      "Looking for: /kaggle/input/license-plate-prediction/Licplatesdetection_train/license_plates_detection_train/416.jpg\n",
      "Looking for: /kaggle/input/license-plate-prediction/Licplatesdetection_train/license_plates_detection_train/417.jpg\n",
      "Looking for: /kaggle/input/license-plate-prediction/Licplatesdetection_train/license_plates_detection_train/418.jpg\n",
      "Looking for: /kaggle/input/license-plate-prediction/Licplatesdetection_train/license_plates_detection_train/419.jpg\n",
      "Looking for: /kaggle/input/license-plate-prediction/Licplatesdetection_train/license_plates_detection_train/42.jpg\n",
      "Looking for: /kaggle/input/license-plate-prediction/Licplatesdetection_train/license_plates_detection_train/420.jpg\n",
      "Looking for: /kaggle/input/license-plate-prediction/Licplatesdetection_train/license_plates_detection_train/421.jpg\n",
      "Looking for: /kaggle/input/license-plate-prediction/Licplatesdetection_train/license_plates_detection_train/422.jpg\n",
      "Looking for: /kaggle/input/license-plate-prediction/Licplatesdetection_train/license_plates_detection_train/423.jpg\n",
      "Looking for: /kaggle/input/license-plate-prediction/Licplatesdetection_train/license_plates_detection_train/424.jpg\n",
      "Looking for: /kaggle/input/license-plate-prediction/Licplatesdetection_train/license_plates_detection_train/425.jpg\n",
      "Looking for: /kaggle/input/license-plate-prediction/Licplatesdetection_train/license_plates_detection_train/426.jpg\n",
      "Looking for: /kaggle/input/license-plate-prediction/Licplatesdetection_train/license_plates_detection_train/427.jpg\n",
      "Looking for: /kaggle/input/license-plate-prediction/Licplatesdetection_train/license_plates_detection_train/428.jpg\n",
      "Looking for: /kaggle/input/license-plate-prediction/Licplatesdetection_train/license_plates_detection_train/429.jpg\n",
      "Looking for: /kaggle/input/license-plate-prediction/Licplatesdetection_train/license_plates_detection_train/43.jpg\n",
      "Looking for: /kaggle/input/license-plate-prediction/Licplatesdetection_train/license_plates_detection_train/430.jpg\n",
      "Looking for: /kaggle/input/license-plate-prediction/Licplatesdetection_train/license_plates_detection_train/431.jpg\n",
      "Looking for: /kaggle/input/license-plate-prediction/Licplatesdetection_train/license_plates_detection_train/432.jpg\n",
      "Looking for: /kaggle/input/license-plate-prediction/Licplatesdetection_train/license_plates_detection_train/433.jpg\n",
      "Looking for: /kaggle/input/license-plate-prediction/Licplatesdetection_train/license_plates_detection_train/434.jpg\n",
      "Looking for: /kaggle/input/license-plate-prediction/Licplatesdetection_train/license_plates_detection_train/435.jpg\n",
      "Looking for: /kaggle/input/license-plate-prediction/Licplatesdetection_train/license_plates_detection_train/436.jpg\n",
      "Looking for: /kaggle/input/license-plate-prediction/Licplatesdetection_train/license_plates_detection_train/437.jpg\n",
      "Looking for: /kaggle/input/license-plate-prediction/Licplatesdetection_train/license_plates_detection_train/438.jpg\n",
      "Looking for: /kaggle/input/license-plate-prediction/Licplatesdetection_train/license_plates_detection_train/439.jpg\n",
      "Looking for: /kaggle/input/license-plate-prediction/Licplatesdetection_train/license_plates_detection_train/44.jpg\n",
      "Looking for: /kaggle/input/license-plate-prediction/Licplatesdetection_train/license_plates_detection_train/440.jpg\n",
      "Looking for: /kaggle/input/license-plate-prediction/Licplatesdetection_train/license_plates_detection_train/441.jpg\n",
      "Looking for: /kaggle/input/license-plate-prediction/Licplatesdetection_train/license_plates_detection_train/442.jpg\n",
      "Looking for: /kaggle/input/license-plate-prediction/Licplatesdetection_train/license_plates_detection_train/443.jpg\n",
      "Looking for: /kaggle/input/license-plate-prediction/Licplatesdetection_train/license_plates_detection_train/444.jpg\n",
      "Looking for: /kaggle/input/license-plate-prediction/Licplatesdetection_train/license_plates_detection_train/445.jpg\n",
      "Looking for: /kaggle/input/license-plate-prediction/Licplatesdetection_train/license_plates_detection_train/446.jpg\n",
      "Looking for: /kaggle/input/license-plate-prediction/Licplatesdetection_train/license_plates_detection_train/447.jpg\n",
      "Looking for: /kaggle/input/license-plate-prediction/Licplatesdetection_train/license_plates_detection_train/448.jpg\n",
      "Looking for: /kaggle/input/license-plate-prediction/Licplatesdetection_train/license_plates_detection_train/449.jpg\n",
      "Looking for: /kaggle/input/license-plate-prediction/Licplatesdetection_train/license_plates_detection_train/45.jpg\n",
      "Looking for: /kaggle/input/license-plate-prediction/Licplatesdetection_train/license_plates_detection_train/450.jpg\n",
      "Looking for: /kaggle/input/license-plate-prediction/Licplatesdetection_train/license_plates_detection_train/451.jpg\n",
      "Looking for: /kaggle/input/license-plate-prediction/Licplatesdetection_train/license_plates_detection_train/452.jpg\n",
      "Looking for: /kaggle/input/license-plate-prediction/Licplatesdetection_train/license_plates_detection_train/453.jpg\n",
      "Looking for: /kaggle/input/license-plate-prediction/Licplatesdetection_train/license_plates_detection_train/454.jpg\n",
      "Looking for: /kaggle/input/license-plate-prediction/Licplatesdetection_train/license_plates_detection_train/455.jpg\n",
      "Looking for: /kaggle/input/license-plate-prediction/Licplatesdetection_train/license_plates_detection_train/456.jpg\n",
      "Looking for: /kaggle/input/license-plate-prediction/Licplatesdetection_train/license_plates_detection_train/457.jpg\n",
      "Looking for: /kaggle/input/license-plate-prediction/Licplatesdetection_train/license_plates_detection_train/458.jpg\n",
      "Looking for: /kaggle/input/license-plate-prediction/Licplatesdetection_train/license_plates_detection_train/459.jpg\n",
      "Looking for: /kaggle/input/license-plate-prediction/Licplatesdetection_train/license_plates_detection_train/46.jpg\n",
      "Looking for: /kaggle/input/license-plate-prediction/Licplatesdetection_train/license_plates_detection_train/460.jpg\n",
      "Looking for: /kaggle/input/license-plate-prediction/Licplatesdetection_train/license_plates_detection_train/461.jpg\n",
      "Looking for: /kaggle/input/license-plate-prediction/Licplatesdetection_train/license_plates_detection_train/462.jpg\n",
      "Looking for: /kaggle/input/license-plate-prediction/Licplatesdetection_train/license_plates_detection_train/463.jpg\n",
      "Looking for: /kaggle/input/license-plate-prediction/Licplatesdetection_train/license_plates_detection_train/464.jpg\n",
      "Looking for: /kaggle/input/license-plate-prediction/Licplatesdetection_train/license_plates_detection_train/465.jpg\n",
      "Looking for: /kaggle/input/license-plate-prediction/Licplatesdetection_train/license_plates_detection_train/466.jpg\n",
      "Looking for: /kaggle/input/license-plate-prediction/Licplatesdetection_train/license_plates_detection_train/467.jpg\n",
      "Looking for: /kaggle/input/license-plate-prediction/Licplatesdetection_train/license_plates_detection_train/468.jpg\n",
      "Looking for: /kaggle/input/license-plate-prediction/Licplatesdetection_train/license_plates_detection_train/469.jpg\n",
      "Looking for: /kaggle/input/license-plate-prediction/Licplatesdetection_train/license_plates_detection_train/47.jpg\n",
      "Looking for: /kaggle/input/license-plate-prediction/Licplatesdetection_train/license_plates_detection_train/470.jpg\n",
      "Looking for: /kaggle/input/license-plate-prediction/Licplatesdetection_train/license_plates_detection_train/471.jpg\n",
      "Looking for: /kaggle/input/license-plate-prediction/Licplatesdetection_train/license_plates_detection_train/472.jpg\n",
      "Looking for: /kaggle/input/license-plate-prediction/Licplatesdetection_train/license_plates_detection_train/473.jpg\n",
      "Looking for: /kaggle/input/license-plate-prediction/Licplatesdetection_train/license_plates_detection_train/474.jpg\n",
      "Looking for: /kaggle/input/license-plate-prediction/Licplatesdetection_train/license_plates_detection_train/475.jpg\n",
      "Looking for: /kaggle/input/license-plate-prediction/Licplatesdetection_train/license_plates_detection_train/476.jpg\n",
      "Looking for: /kaggle/input/license-plate-prediction/Licplatesdetection_train/license_plates_detection_train/477.jpg\n",
      "Looking for: /kaggle/input/license-plate-prediction/Licplatesdetection_train/license_plates_detection_train/478.jpg\n",
      "Looking for: /kaggle/input/license-plate-prediction/Licplatesdetection_train/license_plates_detection_train/479.jpg\n",
      "Looking for: /kaggle/input/license-plate-prediction/Licplatesdetection_train/license_plates_detection_train/48.jpg\n",
      "Looking for: /kaggle/input/license-plate-prediction/Licplatesdetection_train/license_plates_detection_train/480.jpg\n",
      "Looking for: /kaggle/input/license-plate-prediction/Licplatesdetection_train/license_plates_detection_train/481.jpg\n",
      "Looking for: /kaggle/input/license-plate-prediction/Licplatesdetection_train/license_plates_detection_train/482.jpg\n",
      "Looking for: /kaggle/input/license-plate-prediction/Licplatesdetection_train/license_plates_detection_train/483.jpg\n",
      "Looking for: /kaggle/input/license-plate-prediction/Licplatesdetection_train/license_plates_detection_train/484.jpg\n",
      "Looking for: /kaggle/input/license-plate-prediction/Licplatesdetection_train/license_plates_detection_train/485.jpg\n",
      "Looking for: /kaggle/input/license-plate-prediction/Licplatesdetection_train/license_plates_detection_train/486.jpg\n",
      "Looking for: /kaggle/input/license-plate-prediction/Licplatesdetection_train/license_plates_detection_train/487.jpg\n",
      "Looking for: /kaggle/input/license-plate-prediction/Licplatesdetection_train/license_plates_detection_train/488.jpg\n",
      "Looking for: /kaggle/input/license-plate-prediction/Licplatesdetection_train/license_plates_detection_train/489.jpg\n",
      "Looking for: /kaggle/input/license-plate-prediction/Licplatesdetection_train/license_plates_detection_train/49.jpg\n",
      "Looking for: /kaggle/input/license-plate-prediction/Licplatesdetection_train/license_plates_detection_train/490.jpg\n",
      "Looking for: /kaggle/input/license-plate-prediction/Licplatesdetection_train/license_plates_detection_train/491.jpg\n",
      "Looking for: /kaggle/input/license-plate-prediction/Licplatesdetection_train/license_plates_detection_train/492.jpg\n",
      "Looking for: /kaggle/input/license-plate-prediction/Licplatesdetection_train/license_plates_detection_train/493.jpg\n",
      "Looking for: /kaggle/input/license-plate-prediction/Licplatesdetection_train/license_plates_detection_train/494.jpg\n",
      "Looking for: /kaggle/input/license-plate-prediction/Licplatesdetection_train/license_plates_detection_train/495.jpg\n",
      "Looking for: /kaggle/input/license-plate-prediction/Licplatesdetection_train/license_plates_detection_train/496.jpg\n",
      "Looking for: /kaggle/input/license-plate-prediction/Licplatesdetection_train/license_plates_detection_train/497.jpg\n",
      "Looking for: /kaggle/input/license-plate-prediction/Licplatesdetection_train/license_plates_detection_train/498.jpg\n",
      "Looking for: /kaggle/input/license-plate-prediction/Licplatesdetection_train/license_plates_detection_train/499.jpg\n",
      "Looking for: /kaggle/input/license-plate-prediction/Licplatesdetection_train/license_plates_detection_train/5.jpg\n",
      "Looking for: /kaggle/input/license-plate-prediction/Licplatesdetection_train/license_plates_detection_train/50.jpg\n",
      "Looking for: /kaggle/input/license-plate-prediction/Licplatesdetection_train/license_plates_detection_train/500.jpg\n",
      "Looking for: /kaggle/input/license-plate-prediction/Licplatesdetection_train/license_plates_detection_train/501.jpg\n",
      "Looking for: /kaggle/input/license-plate-prediction/Licplatesdetection_train/license_plates_detection_train/502.jpg\n",
      "Looking for: /kaggle/input/license-plate-prediction/Licplatesdetection_train/license_plates_detection_train/503.jpg\n",
      "Looking for: /kaggle/input/license-plate-prediction/Licplatesdetection_train/license_plates_detection_train/504.jpg\n",
      "Looking for: /kaggle/input/license-plate-prediction/Licplatesdetection_train/license_plates_detection_train/505.jpg\n",
      "Looking for: /kaggle/input/license-plate-prediction/Licplatesdetection_train/license_plates_detection_train/506.jpg\n",
      "Looking for: /kaggle/input/license-plate-prediction/Licplatesdetection_train/license_plates_detection_train/507.jpg\n",
      "Looking for: /kaggle/input/license-plate-prediction/Licplatesdetection_train/license_plates_detection_train/508.jpg\n",
      "Looking for: /kaggle/input/license-plate-prediction/Licplatesdetection_train/license_plates_detection_train/509.jpg\n",
      "Looking for: /kaggle/input/license-plate-prediction/Licplatesdetection_train/license_plates_detection_train/51.jpg\n",
      "Looking for: /kaggle/input/license-plate-prediction/Licplatesdetection_train/license_plates_detection_train/510.jpg\n",
      "Looking for: /kaggle/input/license-plate-prediction/Licplatesdetection_train/license_plates_detection_train/511.jpg\n",
      "Looking for: /kaggle/input/license-plate-prediction/Licplatesdetection_train/license_plates_detection_train/512.jpg\n",
      "Looking for: /kaggle/input/license-plate-prediction/Licplatesdetection_train/license_plates_detection_train/513.jpg\n",
      "Looking for: /kaggle/input/license-plate-prediction/Licplatesdetection_train/license_plates_detection_train/514.jpg\n",
      "Looking for: /kaggle/input/license-plate-prediction/Licplatesdetection_train/license_plates_detection_train/515.jpg\n",
      "Looking for: /kaggle/input/license-plate-prediction/Licplatesdetection_train/license_plates_detection_train/516.jpg\n",
      "Looking for: /kaggle/input/license-plate-prediction/Licplatesdetection_train/license_plates_detection_train/517.jpg\n",
      "Looking for: /kaggle/input/license-plate-prediction/Licplatesdetection_train/license_plates_detection_train/518.jpg\n",
      "Looking for: /kaggle/input/license-plate-prediction/Licplatesdetection_train/license_plates_detection_train/519.jpg\n",
      "Looking for: /kaggle/input/license-plate-prediction/Licplatesdetection_train/license_plates_detection_train/52.jpg\n",
      "Looking for: /kaggle/input/license-plate-prediction/Licplatesdetection_train/license_plates_detection_train/520.jpg\n",
      "Looking for: /kaggle/input/license-plate-prediction/Licplatesdetection_train/license_plates_detection_train/521.jpg\n",
      "Looking for: /kaggle/input/license-plate-prediction/Licplatesdetection_train/license_plates_detection_train/522.jpg\n",
      "Looking for: /kaggle/input/license-plate-prediction/Licplatesdetection_train/license_plates_detection_train/523.jpg\n",
      "Looking for: /kaggle/input/license-plate-prediction/Licplatesdetection_train/license_plates_detection_train/524.jpg\n",
      "Looking for: /kaggle/input/license-plate-prediction/Licplatesdetection_train/license_plates_detection_train/525.jpg\n",
      "Looking for: /kaggle/input/license-plate-prediction/Licplatesdetection_train/license_plates_detection_train/526.jpg\n",
      "Looking for: /kaggle/input/license-plate-prediction/Licplatesdetection_train/license_plates_detection_train/527.jpg\n",
      "Looking for: /kaggle/input/license-plate-prediction/Licplatesdetection_train/license_plates_detection_train/528.jpg\n",
      "Looking for: /kaggle/input/license-plate-prediction/Licplatesdetection_train/license_plates_detection_train/529.jpg\n",
      "Looking for: /kaggle/input/license-plate-prediction/Licplatesdetection_train/license_plates_detection_train/53.jpg\n",
      "Looking for: /kaggle/input/license-plate-prediction/Licplatesdetection_train/license_plates_detection_train/530.jpg\n",
      "Looking for: /kaggle/input/license-plate-prediction/Licplatesdetection_train/license_plates_detection_train/531.jpg\n",
      "Looking for: /kaggle/input/license-plate-prediction/Licplatesdetection_train/license_plates_detection_train/532.jpg\n",
      "Looking for: /kaggle/input/license-plate-prediction/Licplatesdetection_train/license_plates_detection_train/533.jpg\n",
      "Looking for: /kaggle/input/license-plate-prediction/Licplatesdetection_train/license_plates_detection_train/534.jpg\n",
      "Looking for: /kaggle/input/license-plate-prediction/Licplatesdetection_train/license_plates_detection_train/535.jpg\n",
      "Looking for: /kaggle/input/license-plate-prediction/Licplatesdetection_train/license_plates_detection_train/536.jpg\n",
      "Looking for: /kaggle/input/license-plate-prediction/Licplatesdetection_train/license_plates_detection_train/537.jpg\n",
      "Looking for: /kaggle/input/license-plate-prediction/Licplatesdetection_train/license_plates_detection_train/538.jpg\n",
      "Looking for: /kaggle/input/license-plate-prediction/Licplatesdetection_train/license_plates_detection_train/539.jpg\n",
      "Looking for: /kaggle/input/license-plate-prediction/Licplatesdetection_train/license_plates_detection_train/54.jpg\n",
      "Looking for: /kaggle/input/license-plate-prediction/Licplatesdetection_train/license_plates_detection_train/540.jpg\n",
      "Looking for: /kaggle/input/license-plate-prediction/Licplatesdetection_train/license_plates_detection_train/541.jpg\n",
      "Looking for: /kaggle/input/license-plate-prediction/Licplatesdetection_train/license_plates_detection_train/542.jpg\n",
      "Looking for: /kaggle/input/license-plate-prediction/Licplatesdetection_train/license_plates_detection_train/543.jpg\n",
      "Looking for: /kaggle/input/license-plate-prediction/Licplatesdetection_train/license_plates_detection_train/544.jpg\n",
      "Looking for: /kaggle/input/license-plate-prediction/Licplatesdetection_train/license_plates_detection_train/545.jpg\n",
      "Looking for: /kaggle/input/license-plate-prediction/Licplatesdetection_train/license_plates_detection_train/546.jpg\n",
      "Looking for: /kaggle/input/license-plate-prediction/Licplatesdetection_train/license_plates_detection_train/547.jpg\n",
      "Looking for: /kaggle/input/license-plate-prediction/Licplatesdetection_train/license_plates_detection_train/548.jpg\n",
      "Looking for: /kaggle/input/license-plate-prediction/Licplatesdetection_train/license_plates_detection_train/549.jpg\n",
      "Looking for: /kaggle/input/license-plate-prediction/Licplatesdetection_train/license_plates_detection_train/55.jpg\n",
      "Looking for: /kaggle/input/license-plate-prediction/Licplatesdetection_train/license_plates_detection_train/550.jpg\n",
      "Looking for: /kaggle/input/license-plate-prediction/Licplatesdetection_train/license_plates_detection_train/551.jpg\n",
      "Looking for: /kaggle/input/license-plate-prediction/Licplatesdetection_train/license_plates_detection_train/552.jpg\n",
      "Looking for: /kaggle/input/license-plate-prediction/Licplatesdetection_train/license_plates_detection_train/553.jpg\n",
      "Looking for: /kaggle/input/license-plate-prediction/Licplatesdetection_train/license_plates_detection_train/554.jpg\n",
      "Looking for: /kaggle/input/license-plate-prediction/Licplatesdetection_train/license_plates_detection_train/555.jpg\n",
      "Looking for: /kaggle/input/license-plate-prediction/Licplatesdetection_train/license_plates_detection_train/556.jpg\n",
      "Looking for: /kaggle/input/license-plate-prediction/Licplatesdetection_train/license_plates_detection_train/557.jpg\n",
      "Looking for: /kaggle/input/license-plate-prediction/Licplatesdetection_train/license_plates_detection_train/558.jpg\n",
      "Looking for: /kaggle/input/license-plate-prediction/Licplatesdetection_train/license_plates_detection_train/559.jpg\n",
      "Looking for: /kaggle/input/license-plate-prediction/Licplatesdetection_train/license_plates_detection_train/56.jpg\n",
      "Looking for: /kaggle/input/license-plate-prediction/Licplatesdetection_train/license_plates_detection_train/560.jpg\n",
      "Looking for: /kaggle/input/license-plate-prediction/Licplatesdetection_train/license_plates_detection_train/561.jpg\n",
      "Looking for: /kaggle/input/license-plate-prediction/Licplatesdetection_train/license_plates_detection_train/562.jpg\n",
      "Looking for: /kaggle/input/license-plate-prediction/Licplatesdetection_train/license_plates_detection_train/563.jpg\n",
      "Looking for: /kaggle/input/license-plate-prediction/Licplatesdetection_train/license_plates_detection_train/564.jpg\n",
      "Looking for: /kaggle/input/license-plate-prediction/Licplatesdetection_train/license_plates_detection_train/565.jpg\n",
      "Looking for: /kaggle/input/license-plate-prediction/Licplatesdetection_train/license_plates_detection_train/566.jpg\n",
      "Looking for: /kaggle/input/license-plate-prediction/Licplatesdetection_train/license_plates_detection_train/567.jpg\n",
      "Looking for: /kaggle/input/license-plate-prediction/Licplatesdetection_train/license_plates_detection_train/568.jpg\n",
      "Looking for: /kaggle/input/license-plate-prediction/Licplatesdetection_train/license_plates_detection_train/569.jpg\n",
      "Looking for: /kaggle/input/license-plate-prediction/Licplatesdetection_train/license_plates_detection_train/57.jpg\n",
      "Looking for: /kaggle/input/license-plate-prediction/Licplatesdetection_train/license_plates_detection_train/570.jpg\n",
      "Looking for: /kaggle/input/license-plate-prediction/Licplatesdetection_train/license_plates_detection_train/571.jpg\n",
      "Looking for: /kaggle/input/license-plate-prediction/Licplatesdetection_train/license_plates_detection_train/572.jpg\n",
      "Looking for: /kaggle/input/license-plate-prediction/Licplatesdetection_train/license_plates_detection_train/573.jpg\n",
      "Looking for: /kaggle/input/license-plate-prediction/Licplatesdetection_train/license_plates_detection_train/574.jpg\n",
      "Looking for: /kaggle/input/license-plate-prediction/Licplatesdetection_train/license_plates_detection_train/575.jpg\n",
      "Looking for: /kaggle/input/license-plate-prediction/Licplatesdetection_train/license_plates_detection_train/576.jpg\n",
      "Looking for: /kaggle/input/license-plate-prediction/Licplatesdetection_train/license_plates_detection_train/577.jpg\n",
      "Looking for: /kaggle/input/license-plate-prediction/Licplatesdetection_train/license_plates_detection_train/578.jpg\n",
      "Looking for: /kaggle/input/license-plate-prediction/Licplatesdetection_train/license_plates_detection_train/579.jpg\n",
      "Looking for: /kaggle/input/license-plate-prediction/Licplatesdetection_train/license_plates_detection_train/58.jpg\n",
      "Looking for: /kaggle/input/license-plate-prediction/Licplatesdetection_train/license_plates_detection_train/580.jpg\n",
      "Looking for: /kaggle/input/license-plate-prediction/Licplatesdetection_train/license_plates_detection_train/581.jpg\n",
      "Looking for: /kaggle/input/license-plate-prediction/Licplatesdetection_train/license_plates_detection_train/582.jpg\n",
      "Looking for: /kaggle/input/license-plate-prediction/Licplatesdetection_train/license_plates_detection_train/583.jpg\n",
      "Looking for: /kaggle/input/license-plate-prediction/Licplatesdetection_train/license_plates_detection_train/584.jpg\n",
      "Looking for: /kaggle/input/license-plate-prediction/Licplatesdetection_train/license_plates_detection_train/585.jpg\n",
      "Looking for: /kaggle/input/license-plate-prediction/Licplatesdetection_train/license_plates_detection_train/586.jpg\n",
      "Looking for: /kaggle/input/license-plate-prediction/Licplatesdetection_train/license_plates_detection_train/587.jpg\n",
      "Looking for: /kaggle/input/license-plate-prediction/Licplatesdetection_train/license_plates_detection_train/588.jpg\n",
      "Looking for: /kaggle/input/license-plate-prediction/Licplatesdetection_train/license_plates_detection_train/589.jpg\n",
      "Looking for: /kaggle/input/license-plate-prediction/Licplatesdetection_train/license_plates_detection_train/59.jpg\n",
      "Looking for: /kaggle/input/license-plate-prediction/Licplatesdetection_train/license_plates_detection_train/590.jpg\n",
      "Looking for: /kaggle/input/license-plate-prediction/Licplatesdetection_train/license_plates_detection_train/591.jpg\n",
      "Looking for: /kaggle/input/license-plate-prediction/Licplatesdetection_train/license_plates_detection_train/592.jpg\n",
      "Looking for: /kaggle/input/license-plate-prediction/Licplatesdetection_train/license_plates_detection_train/593.jpg\n",
      "Looking for: /kaggle/input/license-plate-prediction/Licplatesdetection_train/license_plates_detection_train/594.jpg\n",
      "Looking for: /kaggle/input/license-plate-prediction/Licplatesdetection_train/license_plates_detection_train/595.jpg\n",
      "Looking for: /kaggle/input/license-plate-prediction/Licplatesdetection_train/license_plates_detection_train/596.jpg\n",
      "Looking for: /kaggle/input/license-plate-prediction/Licplatesdetection_train/license_plates_detection_train/597.jpg\n",
      "Looking for: /kaggle/input/license-plate-prediction/Licplatesdetection_train/license_plates_detection_train/598.jpg\n",
      "Looking for: /kaggle/input/license-plate-prediction/Licplatesdetection_train/license_plates_detection_train/599.jpg\n",
      "Looking for: /kaggle/input/license-plate-prediction/Licplatesdetection_train/license_plates_detection_train/6.jpg\n",
      "Looking for: /kaggle/input/license-plate-prediction/Licplatesdetection_train/license_plates_detection_train/60.jpg\n",
      "Looking for: /kaggle/input/license-plate-prediction/Licplatesdetection_train/license_plates_detection_train/600.jpg\n",
      "Looking for: /kaggle/input/license-plate-prediction/Licplatesdetection_train/license_plates_detection_train/601.jpg\n",
      "Looking for: /kaggle/input/license-plate-prediction/Licplatesdetection_train/license_plates_detection_train/602.jpg\n",
      "Looking for: /kaggle/input/license-plate-prediction/Licplatesdetection_train/license_plates_detection_train/603.jpg\n",
      "Looking for: /kaggle/input/license-plate-prediction/Licplatesdetection_train/license_plates_detection_train/604.jpg\n",
      "Looking for: /kaggle/input/license-plate-prediction/Licplatesdetection_train/license_plates_detection_train/605.jpg\n",
      "Looking for: /kaggle/input/license-plate-prediction/Licplatesdetection_train/license_plates_detection_train/606.jpg\n",
      "Looking for: /kaggle/input/license-plate-prediction/Licplatesdetection_train/license_plates_detection_train/607.jpg\n",
      "Looking for: /kaggle/input/license-plate-prediction/Licplatesdetection_train/license_plates_detection_train/608.jpg\n",
      "Looking for: /kaggle/input/license-plate-prediction/Licplatesdetection_train/license_plates_detection_train/609.jpg\n",
      "Looking for: /kaggle/input/license-plate-prediction/Licplatesdetection_train/license_plates_detection_train/61.jpg\n",
      "Looking for: /kaggle/input/license-plate-prediction/Licplatesdetection_train/license_plates_detection_train/610.jpg\n",
      "Looking for: /kaggle/input/license-plate-prediction/Licplatesdetection_train/license_plates_detection_train/611.jpg\n",
      "Looking for: /kaggle/input/license-plate-prediction/Licplatesdetection_train/license_plates_detection_train/612.jpg\n",
      "Looking for: /kaggle/input/license-plate-prediction/Licplatesdetection_train/license_plates_detection_train/613.jpg\n",
      "Looking for: /kaggle/input/license-plate-prediction/Licplatesdetection_train/license_plates_detection_train/614.jpg\n",
      "Looking for: /kaggle/input/license-plate-prediction/Licplatesdetection_train/license_plates_detection_train/615.jpg\n",
      "Looking for: /kaggle/input/license-plate-prediction/Licplatesdetection_train/license_plates_detection_train/616.jpg\n",
      "Looking for: /kaggle/input/license-plate-prediction/Licplatesdetection_train/license_plates_detection_train/617.jpg\n",
      "Looking for: /kaggle/input/license-plate-prediction/Licplatesdetection_train/license_plates_detection_train/618.jpg\n",
      "Looking for: /kaggle/input/license-plate-prediction/Licplatesdetection_train/license_plates_detection_train/619.jpg\n",
      "Looking for: /kaggle/input/license-plate-prediction/Licplatesdetection_train/license_plates_detection_train/62.jpg\n",
      "Looking for: /kaggle/input/license-plate-prediction/Licplatesdetection_train/license_plates_detection_train/620.jpg\n",
      "Looking for: /kaggle/input/license-plate-prediction/Licplatesdetection_train/license_plates_detection_train/621.jpg\n",
      "Looking for: /kaggle/input/license-plate-prediction/Licplatesdetection_train/license_plates_detection_train/622.jpg\n",
      "Looking for: /kaggle/input/license-plate-prediction/Licplatesdetection_train/license_plates_detection_train/623.jpg\n",
      "Looking for: /kaggle/input/license-plate-prediction/Licplatesdetection_train/license_plates_detection_train/624.jpg\n",
      "Looking for: /kaggle/input/license-plate-prediction/Licplatesdetection_train/license_plates_detection_train/625.jpg\n",
      "Looking for: /kaggle/input/license-plate-prediction/Licplatesdetection_train/license_plates_detection_train/626.jpg\n",
      "Looking for: /kaggle/input/license-plate-prediction/Licplatesdetection_train/license_plates_detection_train/627.jpg\n",
      "Looking for: /kaggle/input/license-plate-prediction/Licplatesdetection_train/license_plates_detection_train/628.jpg\n",
      "Looking for: /kaggle/input/license-plate-prediction/Licplatesdetection_train/license_plates_detection_train/629.jpg\n",
      "Looking for: /kaggle/input/license-plate-prediction/Licplatesdetection_train/license_plates_detection_train/63.jpg\n",
      "Looking for: /kaggle/input/license-plate-prediction/Licplatesdetection_train/license_plates_detection_train/630.jpg\n",
      "Looking for: /kaggle/input/license-plate-prediction/Licplatesdetection_train/license_plates_detection_train/631.jpg\n",
      "Looking for: /kaggle/input/license-plate-prediction/Licplatesdetection_train/license_plates_detection_train/632.jpg\n",
      "Looking for: /kaggle/input/license-plate-prediction/Licplatesdetection_train/license_plates_detection_train/633.jpg\n",
      "Looking for: /kaggle/input/license-plate-prediction/Licplatesdetection_train/license_plates_detection_train/634.jpg\n",
      "Looking for: /kaggle/input/license-plate-prediction/Licplatesdetection_train/license_plates_detection_train/635.jpg\n",
      "Looking for: /kaggle/input/license-plate-prediction/Licplatesdetection_train/license_plates_detection_train/636.jpg\n",
      "Looking for: /kaggle/input/license-plate-prediction/Licplatesdetection_train/license_plates_detection_train/637.jpg\n",
      "Looking for: /kaggle/input/license-plate-prediction/Licplatesdetection_train/license_plates_detection_train/638.jpg\n",
      "Looking for: /kaggle/input/license-plate-prediction/Licplatesdetection_train/license_plates_detection_train/639.jpg\n",
      "Looking for: /kaggle/input/license-plate-prediction/Licplatesdetection_train/license_plates_detection_train/64.jpg\n",
      "Looking for: /kaggle/input/license-plate-prediction/Licplatesdetection_train/license_plates_detection_train/640.jpg\n",
      "Looking for: /kaggle/input/license-plate-prediction/Licplatesdetection_train/license_plates_detection_train/641.jpg\n",
      "Looking for: /kaggle/input/license-plate-prediction/Licplatesdetection_train/license_plates_detection_train/642.jpg\n",
      "Looking for: /kaggle/input/license-plate-prediction/Licplatesdetection_train/license_plates_detection_train/643.jpg\n",
      "Looking for: /kaggle/input/license-plate-prediction/Licplatesdetection_train/license_plates_detection_train/644.jpg\n",
      "Looking for: /kaggle/input/license-plate-prediction/Licplatesdetection_train/license_plates_detection_train/645.jpg\n",
      "Looking for: /kaggle/input/license-plate-prediction/Licplatesdetection_train/license_plates_detection_train/646.jpg\n",
      "Looking for: /kaggle/input/license-plate-prediction/Licplatesdetection_train/license_plates_detection_train/647.jpg\n",
      "Looking for: /kaggle/input/license-plate-prediction/Licplatesdetection_train/license_plates_detection_train/648.jpg\n",
      "Looking for: /kaggle/input/license-plate-prediction/Licplatesdetection_train/license_plates_detection_train/649.jpg\n",
      "Looking for: /kaggle/input/license-plate-prediction/Licplatesdetection_train/license_plates_detection_train/65.jpg\n",
      "Looking for: /kaggle/input/license-plate-prediction/Licplatesdetection_train/license_plates_detection_train/650.jpg\n",
      "Looking for: /kaggle/input/license-plate-prediction/Licplatesdetection_train/license_plates_detection_train/651.jpg\n",
      "Looking for: /kaggle/input/license-plate-prediction/Licplatesdetection_train/license_plates_detection_train/652.jpg\n",
      "Looking for: /kaggle/input/license-plate-prediction/Licplatesdetection_train/license_plates_detection_train/653.jpg\n",
      "Looking for: /kaggle/input/license-plate-prediction/Licplatesdetection_train/license_plates_detection_train/654.jpg\n",
      "Looking for: /kaggle/input/license-plate-prediction/Licplatesdetection_train/license_plates_detection_train/655.jpg\n",
      "Looking for: /kaggle/input/license-plate-prediction/Licplatesdetection_train/license_plates_detection_train/656.jpg\n",
      "Looking for: /kaggle/input/license-plate-prediction/Licplatesdetection_train/license_plates_detection_train/657.jpg\n",
      "Looking for: /kaggle/input/license-plate-prediction/Licplatesdetection_train/license_plates_detection_train/658.jpg\n",
      "Looking for: /kaggle/input/license-plate-prediction/Licplatesdetection_train/license_plates_detection_train/659.jpg\n",
      "Looking for: /kaggle/input/license-plate-prediction/Licplatesdetection_train/license_plates_detection_train/66.jpg\n",
      "Looking for: /kaggle/input/license-plate-prediction/Licplatesdetection_train/license_plates_detection_train/660.jpg\n",
      "Looking for: /kaggle/input/license-plate-prediction/Licplatesdetection_train/license_plates_detection_train/661.jpg\n",
      "Looking for: /kaggle/input/license-plate-prediction/Licplatesdetection_train/license_plates_detection_train/662.jpg\n",
      "Looking for: /kaggle/input/license-plate-prediction/Licplatesdetection_train/license_plates_detection_train/663.jpg\n",
      "Looking for: /kaggle/input/license-plate-prediction/Licplatesdetection_train/license_plates_detection_train/664.jpg\n",
      "Looking for: /kaggle/input/license-plate-prediction/Licplatesdetection_train/license_plates_detection_train/665.jpg\n",
      "Looking for: /kaggle/input/license-plate-prediction/Licplatesdetection_train/license_plates_detection_train/666.jpg\n",
      "Looking for: /kaggle/input/license-plate-prediction/Licplatesdetection_train/license_plates_detection_train/667.jpg\n",
      "Looking for: /kaggle/input/license-plate-prediction/Licplatesdetection_train/license_plates_detection_train/668.jpg\n",
      "Looking for: /kaggle/input/license-plate-prediction/Licplatesdetection_train/license_plates_detection_train/669.jpg\n",
      "Looking for: /kaggle/input/license-plate-prediction/Licplatesdetection_train/license_plates_detection_train/67.jpg\n",
      "Looking for: /kaggle/input/license-plate-prediction/Licplatesdetection_train/license_plates_detection_train/670.jpg\n",
      "Looking for: /kaggle/input/license-plate-prediction/Licplatesdetection_train/license_plates_detection_train/671.jpg\n",
      "Looking for: /kaggle/input/license-plate-prediction/Licplatesdetection_train/license_plates_detection_train/672.jpg\n",
      "Looking for: /kaggle/input/license-plate-prediction/Licplatesdetection_train/license_plates_detection_train/673.jpg\n",
      "Looking for: /kaggle/input/license-plate-prediction/Licplatesdetection_train/license_plates_detection_train/674.jpg\n",
      "Looking for: /kaggle/input/license-plate-prediction/Licplatesdetection_train/license_plates_detection_train/675.jpg\n",
      "Looking for: /kaggle/input/license-plate-prediction/Licplatesdetection_train/license_plates_detection_train/676.jpg\n",
      "Looking for: /kaggle/input/license-plate-prediction/Licplatesdetection_train/license_plates_detection_train/677.jpg\n",
      "Looking for: /kaggle/input/license-plate-prediction/Licplatesdetection_train/license_plates_detection_train/678.jpg\n",
      "Looking for: /kaggle/input/license-plate-prediction/Licplatesdetection_train/license_plates_detection_train/679.jpg\n",
      "Looking for: /kaggle/input/license-plate-prediction/Licplatesdetection_train/license_plates_detection_train/68.jpg\n",
      "Looking for: /kaggle/input/license-plate-prediction/Licplatesdetection_train/license_plates_detection_train/680.jpg\n",
      "Looking for: /kaggle/input/license-plate-prediction/Licplatesdetection_train/license_plates_detection_train/681.jpg\n",
      "Looking for: /kaggle/input/license-plate-prediction/Licplatesdetection_train/license_plates_detection_train/682.jpg\n",
      "Looking for: /kaggle/input/license-plate-prediction/Licplatesdetection_train/license_plates_detection_train/683.jpg\n",
      "Looking for: /kaggle/input/license-plate-prediction/Licplatesdetection_train/license_plates_detection_train/684.jpg\n",
      "Looking for: /kaggle/input/license-plate-prediction/Licplatesdetection_train/license_plates_detection_train/685.jpg\n",
      "Looking for: /kaggle/input/license-plate-prediction/Licplatesdetection_train/license_plates_detection_train/686.jpg\n",
      "Looking for: /kaggle/input/license-plate-prediction/Licplatesdetection_train/license_plates_detection_train/687.jpg\n",
      "Looking for: /kaggle/input/license-plate-prediction/Licplatesdetection_train/license_plates_detection_train/688.jpg\n",
      "Looking for: /kaggle/input/license-plate-prediction/Licplatesdetection_train/license_plates_detection_train/689.jpg\n",
      "Looking for: /kaggle/input/license-plate-prediction/Licplatesdetection_train/license_plates_detection_train/69.jpg\n",
      "Looking for: /kaggle/input/license-plate-prediction/Licplatesdetection_train/license_plates_detection_train/690.jpg\n",
      "Looking for: /kaggle/input/license-plate-prediction/Licplatesdetection_train/license_plates_detection_train/691.jpg\n",
      "Looking for: /kaggle/input/license-plate-prediction/Licplatesdetection_train/license_plates_detection_train/692.jpg\n",
      "Looking for: /kaggle/input/license-plate-prediction/Licplatesdetection_train/license_plates_detection_train/693.jpg\n",
      "Looking for: /kaggle/input/license-plate-prediction/Licplatesdetection_train/license_plates_detection_train/694.jpg\n",
      "Looking for: /kaggle/input/license-plate-prediction/Licplatesdetection_train/license_plates_detection_train/695.jpg\n",
      "Looking for: /kaggle/input/license-plate-prediction/Licplatesdetection_train/license_plates_detection_train/696.jpg\n",
      "Looking for: /kaggle/input/license-plate-prediction/Licplatesdetection_train/license_plates_detection_train/697.jpg\n",
      "Looking for: /kaggle/input/license-plate-prediction/Licplatesdetection_train/license_plates_detection_train/698.jpg\n",
      "Looking for: /kaggle/input/license-plate-prediction/Licplatesdetection_train/license_plates_detection_train/699.jpg\n",
      "Looking for: /kaggle/input/license-plate-prediction/Licplatesdetection_train/license_plates_detection_train/7.jpg\n",
      "Looking for: /kaggle/input/license-plate-prediction/Licplatesdetection_train/license_plates_detection_train/70.jpg\n",
      "Looking for: /kaggle/input/license-plate-prediction/Licplatesdetection_train/license_plates_detection_train/700.jpg\n",
      "Looking for: /kaggle/input/license-plate-prediction/Licplatesdetection_train/license_plates_detection_train/701.jpg\n",
      "Looking for: /kaggle/input/license-plate-prediction/Licplatesdetection_train/license_plates_detection_train/702.jpg\n",
      "Looking for: /kaggle/input/license-plate-prediction/Licplatesdetection_train/license_plates_detection_train/703.jpg\n",
      "Looking for: /kaggle/input/license-plate-prediction/Licplatesdetection_train/license_plates_detection_train/704.jpg\n",
      "Looking for: /kaggle/input/license-plate-prediction/Licplatesdetection_train/license_plates_detection_train/705.jpg\n",
      "Looking for: /kaggle/input/license-plate-prediction/Licplatesdetection_train/license_plates_detection_train/706.jpg\n",
      "Looking for: /kaggle/input/license-plate-prediction/Licplatesdetection_train/license_plates_detection_train/707.jpg\n",
      "Looking for: /kaggle/input/license-plate-prediction/Licplatesdetection_train/license_plates_detection_train/708.jpg\n",
      "Looking for: /kaggle/input/license-plate-prediction/Licplatesdetection_train/license_plates_detection_train/709.jpg\n",
      "Looking for: /kaggle/input/license-plate-prediction/Licplatesdetection_train/license_plates_detection_train/71.jpg\n",
      "Looking for: /kaggle/input/license-plate-prediction/Licplatesdetection_train/license_plates_detection_train/710.jpg\n",
      "Looking for: /kaggle/input/license-plate-prediction/Licplatesdetection_train/license_plates_detection_train/711.jpg\n",
      "Looking for: /kaggle/input/license-plate-prediction/Licplatesdetection_train/license_plates_detection_train/712.jpg\n",
      "Looking for: /kaggle/input/license-plate-prediction/Licplatesdetection_train/license_plates_detection_train/713.jpg\n",
      "Looking for: /kaggle/input/license-plate-prediction/Licplatesdetection_train/license_plates_detection_train/714.jpg\n",
      "Looking for: /kaggle/input/license-plate-prediction/Licplatesdetection_train/license_plates_detection_train/715.jpg\n",
      "Looking for: /kaggle/input/license-plate-prediction/Licplatesdetection_train/license_plates_detection_train/716.jpg\n",
      "Looking for: /kaggle/input/license-plate-prediction/Licplatesdetection_train/license_plates_detection_train/717.jpg\n",
      "Looking for: /kaggle/input/license-plate-prediction/Licplatesdetection_train/license_plates_detection_train/718.jpg\n",
      "Looking for: /kaggle/input/license-plate-prediction/Licplatesdetection_train/license_plates_detection_train/719.jpg\n",
      "Looking for: /kaggle/input/license-plate-prediction/Licplatesdetection_train/license_plates_detection_train/72.jpg\n",
      "Looking for: /kaggle/input/license-plate-prediction/Licplatesdetection_train/license_plates_detection_train/720.jpg\n",
      "Looking for: /kaggle/input/license-plate-prediction/Licplatesdetection_train/license_plates_detection_train/721.jpg\n",
      "Looking for: /kaggle/input/license-plate-prediction/Licplatesdetection_train/license_plates_detection_train/722.jpg\n",
      "Looking for: /kaggle/input/license-plate-prediction/Licplatesdetection_train/license_plates_detection_train/723.jpg\n",
      "Looking for: /kaggle/input/license-plate-prediction/Licplatesdetection_train/license_plates_detection_train/724.jpg\n",
      "Looking for: /kaggle/input/license-plate-prediction/Licplatesdetection_train/license_plates_detection_train/725.jpg\n",
      "Looking for: /kaggle/input/license-plate-prediction/Licplatesdetection_train/license_plates_detection_train/726.jpg\n",
      "Looking for: /kaggle/input/license-plate-prediction/Licplatesdetection_train/license_plates_detection_train/727.jpg\n",
      "Looking for: /kaggle/input/license-plate-prediction/Licplatesdetection_train/license_plates_detection_train/728.jpg\n",
      "Looking for: /kaggle/input/license-plate-prediction/Licplatesdetection_train/license_plates_detection_train/729.jpg\n",
      "Looking for: /kaggle/input/license-plate-prediction/Licplatesdetection_train/license_plates_detection_train/73.jpg\n",
      "Looking for: /kaggle/input/license-plate-prediction/Licplatesdetection_train/license_plates_detection_train/730.jpg\n",
      "Looking for: /kaggle/input/license-plate-prediction/Licplatesdetection_train/license_plates_detection_train/731.jpg\n",
      "Looking for: /kaggle/input/license-plate-prediction/Licplatesdetection_train/license_plates_detection_train/732.jpg\n",
      "Looking for: /kaggle/input/license-plate-prediction/Licplatesdetection_train/license_plates_detection_train/733.jpg\n",
      "Looking for: /kaggle/input/license-plate-prediction/Licplatesdetection_train/license_plates_detection_train/734.jpg\n",
      "Looking for: /kaggle/input/license-plate-prediction/Licplatesdetection_train/license_plates_detection_train/735.jpg\n",
      "Looking for: /kaggle/input/license-plate-prediction/Licplatesdetection_train/license_plates_detection_train/736.jpg\n",
      "Looking for: /kaggle/input/license-plate-prediction/Licplatesdetection_train/license_plates_detection_train/737.jpg\n",
      "Looking for: /kaggle/input/license-plate-prediction/Licplatesdetection_train/license_plates_detection_train/738.jpg\n",
      "Looking for: /kaggle/input/license-plate-prediction/Licplatesdetection_train/license_plates_detection_train/739.jpg\n",
      "Looking for: /kaggle/input/license-plate-prediction/Licplatesdetection_train/license_plates_detection_train/74.jpg\n",
      "Looking for: /kaggle/input/license-plate-prediction/Licplatesdetection_train/license_plates_detection_train/740.jpg\n",
      "Looking for: /kaggle/input/license-plate-prediction/Licplatesdetection_train/license_plates_detection_train/741.jpg\n",
      "Looking for: /kaggle/input/license-plate-prediction/Licplatesdetection_train/license_plates_detection_train/742.jpg\n",
      "Looking for: /kaggle/input/license-plate-prediction/Licplatesdetection_train/license_plates_detection_train/743.jpg\n",
      "Looking for: /kaggle/input/license-plate-prediction/Licplatesdetection_train/license_plates_detection_train/744.jpg\n",
      "Looking for: /kaggle/input/license-plate-prediction/Licplatesdetection_train/license_plates_detection_train/745.jpg\n",
      "Looking for: /kaggle/input/license-plate-prediction/Licplatesdetection_train/license_plates_detection_train/746.jpg\n",
      "Looking for: /kaggle/input/license-plate-prediction/Licplatesdetection_train/license_plates_detection_train/747.jpg\n",
      "Looking for: /kaggle/input/license-plate-prediction/Licplatesdetection_train/license_plates_detection_train/748.jpg\n",
      "Looking for: /kaggle/input/license-plate-prediction/Licplatesdetection_train/license_plates_detection_train/749.jpg\n",
      "Looking for: /kaggle/input/license-plate-prediction/Licplatesdetection_train/license_plates_detection_train/75.jpg\n",
      "Looking for: /kaggle/input/license-plate-prediction/Licplatesdetection_train/license_plates_detection_train/750.jpg\n",
      "Looking for: /kaggle/input/license-plate-prediction/Licplatesdetection_train/license_plates_detection_train/751.jpg\n",
      "Looking for: /kaggle/input/license-plate-prediction/Licplatesdetection_train/license_plates_detection_train/752.jpg\n",
      "Looking for: /kaggle/input/license-plate-prediction/Licplatesdetection_train/license_plates_detection_train/753.jpg\n",
      "Looking for: /kaggle/input/license-plate-prediction/Licplatesdetection_train/license_plates_detection_train/754.jpg\n",
      "Looking for: /kaggle/input/license-plate-prediction/Licplatesdetection_train/license_plates_detection_train/755.jpg\n",
      "Looking for: /kaggle/input/license-plate-prediction/Licplatesdetection_train/license_plates_detection_train/756.jpg\n",
      "Looking for: /kaggle/input/license-plate-prediction/Licplatesdetection_train/license_plates_detection_train/757.jpg\n",
      "Looking for: /kaggle/input/license-plate-prediction/Licplatesdetection_train/license_plates_detection_train/758.jpg\n",
      "Looking for: /kaggle/input/license-plate-prediction/Licplatesdetection_train/license_plates_detection_train/759.jpg\n",
      "Looking for: /kaggle/input/license-plate-prediction/Licplatesdetection_train/license_plates_detection_train/76.jpg\n",
      "Looking for: /kaggle/input/license-plate-prediction/Licplatesdetection_train/license_plates_detection_train/760.jpg\n",
      "Looking for: /kaggle/input/license-plate-prediction/Licplatesdetection_train/license_plates_detection_train/761.jpg\n",
      "Looking for: /kaggle/input/license-plate-prediction/Licplatesdetection_train/license_plates_detection_train/762.jpg\n",
      "Looking for: /kaggle/input/license-plate-prediction/Licplatesdetection_train/license_plates_detection_train/763.jpg\n",
      "Looking for: /kaggle/input/license-plate-prediction/Licplatesdetection_train/license_plates_detection_train/764.jpg\n",
      "Looking for: /kaggle/input/license-plate-prediction/Licplatesdetection_train/license_plates_detection_train/765.jpg\n",
      "Looking for: /kaggle/input/license-plate-prediction/Licplatesdetection_train/license_plates_detection_train/766.jpg\n",
      "Looking for: /kaggle/input/license-plate-prediction/Licplatesdetection_train/license_plates_detection_train/767.jpg\n",
      "Looking for: /kaggle/input/license-plate-prediction/Licplatesdetection_train/license_plates_detection_train/768.jpg\n",
      "Looking for: /kaggle/input/license-plate-prediction/Licplatesdetection_train/license_plates_detection_train/769.jpg\n",
      "Looking for: /kaggle/input/license-plate-prediction/Licplatesdetection_train/license_plates_detection_train/77.jpg\n",
      "Looking for: /kaggle/input/license-plate-prediction/Licplatesdetection_train/license_plates_detection_train/770.jpg\n",
      "Looking for: /kaggle/input/license-plate-prediction/Licplatesdetection_train/license_plates_detection_train/771.jpg\n",
      "Looking for: /kaggle/input/license-plate-prediction/Licplatesdetection_train/license_plates_detection_train/772.jpg\n",
      "Looking for: /kaggle/input/license-plate-prediction/Licplatesdetection_train/license_plates_detection_train/773.jpg\n",
      "Looking for: /kaggle/input/license-plate-prediction/Licplatesdetection_train/license_plates_detection_train/774.jpg\n",
      "Looking for: /kaggle/input/license-plate-prediction/Licplatesdetection_train/license_plates_detection_train/775.jpg\n",
      "Looking for: /kaggle/input/license-plate-prediction/Licplatesdetection_train/license_plates_detection_train/776.jpg\n",
      "Looking for: /kaggle/input/license-plate-prediction/Licplatesdetection_train/license_plates_detection_train/777.jpg\n",
      "Looking for: /kaggle/input/license-plate-prediction/Licplatesdetection_train/license_plates_detection_train/778.jpg\n",
      "Looking for: /kaggle/input/license-plate-prediction/Licplatesdetection_train/license_plates_detection_train/779.jpg\n",
      "Looking for: /kaggle/input/license-plate-prediction/Licplatesdetection_train/license_plates_detection_train/78.jpg\n",
      "Looking for: /kaggle/input/license-plate-prediction/Licplatesdetection_train/license_plates_detection_train/780.jpg\n",
      "Looking for: /kaggle/input/license-plate-prediction/Licplatesdetection_train/license_plates_detection_train/781.jpg\n",
      "Looking for: /kaggle/input/license-plate-prediction/Licplatesdetection_train/license_plates_detection_train/782.jpg\n",
      "Looking for: /kaggle/input/license-plate-prediction/Licplatesdetection_train/license_plates_detection_train/783.jpg\n",
      "Looking for: /kaggle/input/license-plate-prediction/Licplatesdetection_train/license_plates_detection_train/784.jpg\n",
      "Looking for: /kaggle/input/license-plate-prediction/Licplatesdetection_train/license_plates_detection_train/785.jpg\n",
      "Looking for: /kaggle/input/license-plate-prediction/Licplatesdetection_train/license_plates_detection_train/786.jpg\n",
      "Looking for: /kaggle/input/license-plate-prediction/Licplatesdetection_train/license_plates_detection_train/787.jpg\n",
      "Looking for: /kaggle/input/license-plate-prediction/Licplatesdetection_train/license_plates_detection_train/788.jpg\n",
      "Looking for: /kaggle/input/license-plate-prediction/Licplatesdetection_train/license_plates_detection_train/789.jpg\n",
      "Looking for: /kaggle/input/license-plate-prediction/Licplatesdetection_train/license_plates_detection_train/79.jpg\n",
      "Looking for: /kaggle/input/license-plate-prediction/Licplatesdetection_train/license_plates_detection_train/790.jpg\n",
      "Looking for: /kaggle/input/license-plate-prediction/Licplatesdetection_train/license_plates_detection_train/791.jpg\n",
      "Looking for: /kaggle/input/license-plate-prediction/Licplatesdetection_train/license_plates_detection_train/792.jpg\n",
      "Looking for: /kaggle/input/license-plate-prediction/Licplatesdetection_train/license_plates_detection_train/793.jpg\n",
      "Looking for: /kaggle/input/license-plate-prediction/Licplatesdetection_train/license_plates_detection_train/794.jpg\n",
      "Looking for: /kaggle/input/license-plate-prediction/Licplatesdetection_train/license_plates_detection_train/795.jpg\n",
      "Looking for: /kaggle/input/license-plate-prediction/Licplatesdetection_train/license_plates_detection_train/796.jpg\n",
      "Looking for: /kaggle/input/license-plate-prediction/Licplatesdetection_train/license_plates_detection_train/797.jpg\n",
      "Looking for: /kaggle/input/license-plate-prediction/Licplatesdetection_train/license_plates_detection_train/798.jpg\n",
      "Looking for: /kaggle/input/license-plate-prediction/Licplatesdetection_train/license_plates_detection_train/799.jpg\n",
      "Looking for: /kaggle/input/license-plate-prediction/Licplatesdetection_train/license_plates_detection_train/8.jpg\n",
      "Looking for: /kaggle/input/license-plate-prediction/Licplatesdetection_train/license_plates_detection_train/80.jpg\n",
      "Looking for: /kaggle/input/license-plate-prediction/Licplatesdetection_train/license_plates_detection_train/800.jpg\n",
      "Looking for: /kaggle/input/license-plate-prediction/Licplatesdetection_train/license_plates_detection_train/801.jpg\n",
      "Looking for: /kaggle/input/license-plate-prediction/Licplatesdetection_train/license_plates_detection_train/802.jpg\n",
      "Looking for: /kaggle/input/license-plate-prediction/Licplatesdetection_train/license_plates_detection_train/803.jpg\n",
      "Looking for: /kaggle/input/license-plate-prediction/Licplatesdetection_train/license_plates_detection_train/804.jpg\n",
      "Looking for: /kaggle/input/license-plate-prediction/Licplatesdetection_train/license_plates_detection_train/805.jpg\n",
      "Looking for: /kaggle/input/license-plate-prediction/Licplatesdetection_train/license_plates_detection_train/806.jpg\n",
      "Looking for: /kaggle/input/license-plate-prediction/Licplatesdetection_train/license_plates_detection_train/807.jpg\n",
      "Looking for: /kaggle/input/license-plate-prediction/Licplatesdetection_train/license_plates_detection_train/808.jpg\n",
      "Looking for: /kaggle/input/license-plate-prediction/Licplatesdetection_train/license_plates_detection_train/809.jpg\n",
      "Looking for: /kaggle/input/license-plate-prediction/Licplatesdetection_train/license_plates_detection_train/81.jpg\n",
      "Looking for: /kaggle/input/license-plate-prediction/Licplatesdetection_train/license_plates_detection_train/810.jpg\n",
      "Looking for: /kaggle/input/license-plate-prediction/Licplatesdetection_train/license_plates_detection_train/811.jpg\n",
      "Looking for: /kaggle/input/license-plate-prediction/Licplatesdetection_train/license_plates_detection_train/812.jpg\n",
      "Looking for: /kaggle/input/license-plate-prediction/Licplatesdetection_train/license_plates_detection_train/813.jpg\n",
      "Looking for: /kaggle/input/license-plate-prediction/Licplatesdetection_train/license_plates_detection_train/814.jpg\n",
      "Looking for: /kaggle/input/license-plate-prediction/Licplatesdetection_train/license_plates_detection_train/815.jpg\n",
      "Looking for: /kaggle/input/license-plate-prediction/Licplatesdetection_train/license_plates_detection_train/816.jpg\n",
      "Looking for: /kaggle/input/license-plate-prediction/Licplatesdetection_train/license_plates_detection_train/817.jpg\n",
      "Looking for: /kaggle/input/license-plate-prediction/Licplatesdetection_train/license_plates_detection_train/818.jpg\n",
      "Looking for: /kaggle/input/license-plate-prediction/Licplatesdetection_train/license_plates_detection_train/819.jpg\n",
      "Looking for: /kaggle/input/license-plate-prediction/Licplatesdetection_train/license_plates_detection_train/82.jpg\n",
      "Looking for: /kaggle/input/license-plate-prediction/Licplatesdetection_train/license_plates_detection_train/820.jpg\n",
      "Looking for: /kaggle/input/license-plate-prediction/Licplatesdetection_train/license_plates_detection_train/821.jpg\n",
      "Looking for: /kaggle/input/license-plate-prediction/Licplatesdetection_train/license_plates_detection_train/822.jpg\n",
      "Looking for: /kaggle/input/license-plate-prediction/Licplatesdetection_train/license_plates_detection_train/823.jpg\n",
      "Looking for: /kaggle/input/license-plate-prediction/Licplatesdetection_train/license_plates_detection_train/824.jpg\n",
      "Looking for: /kaggle/input/license-plate-prediction/Licplatesdetection_train/license_plates_detection_train/825.jpg\n",
      "Looking for: /kaggle/input/license-plate-prediction/Licplatesdetection_train/license_plates_detection_train/826.jpg\n",
      "Looking for: /kaggle/input/license-plate-prediction/Licplatesdetection_train/license_plates_detection_train/827.jpg\n",
      "Looking for: /kaggle/input/license-plate-prediction/Licplatesdetection_train/license_plates_detection_train/828.jpg\n",
      "Looking for: /kaggle/input/license-plate-prediction/Licplatesdetection_train/license_plates_detection_train/829.jpg\n",
      "Looking for: /kaggle/input/license-plate-prediction/Licplatesdetection_train/license_plates_detection_train/83.jpg\n",
      "Looking for: /kaggle/input/license-plate-prediction/Licplatesdetection_train/license_plates_detection_train/830.jpg\n",
      "Looking for: /kaggle/input/license-plate-prediction/Licplatesdetection_train/license_plates_detection_train/831.jpg\n",
      "Looking for: /kaggle/input/license-plate-prediction/Licplatesdetection_train/license_plates_detection_train/832.jpg\n",
      "Looking for: /kaggle/input/license-plate-prediction/Licplatesdetection_train/license_plates_detection_train/833.jpg\n",
      "Looking for: /kaggle/input/license-plate-prediction/Licplatesdetection_train/license_plates_detection_train/834.jpg\n",
      "Looking for: /kaggle/input/license-plate-prediction/Licplatesdetection_train/license_plates_detection_train/835.jpg\n",
      "Looking for: /kaggle/input/license-plate-prediction/Licplatesdetection_train/license_plates_detection_train/836.jpg\n",
      "Looking for: /kaggle/input/license-plate-prediction/Licplatesdetection_train/license_plates_detection_train/837.jpg\n",
      "Looking for: /kaggle/input/license-plate-prediction/Licplatesdetection_train/license_plates_detection_train/838.jpg\n",
      "Looking for: /kaggle/input/license-plate-prediction/Licplatesdetection_train/license_plates_detection_train/839.jpg\n",
      "Looking for: /kaggle/input/license-plate-prediction/Licplatesdetection_train/license_plates_detection_train/84.jpg\n",
      "Looking for: /kaggle/input/license-plate-prediction/Licplatesdetection_train/license_plates_detection_train/840.jpg\n",
      "Looking for: /kaggle/input/license-plate-prediction/Licplatesdetection_train/license_plates_detection_train/841.jpg\n",
      "Looking for: /kaggle/input/license-plate-prediction/Licplatesdetection_train/license_plates_detection_train/842.jpg\n",
      "Looking for: /kaggle/input/license-plate-prediction/Licplatesdetection_train/license_plates_detection_train/843.jpg\n",
      "Looking for: /kaggle/input/license-plate-prediction/Licplatesdetection_train/license_plates_detection_train/844.jpg\n",
      "Looking for: /kaggle/input/license-plate-prediction/Licplatesdetection_train/license_plates_detection_train/845.jpg\n",
      "Looking for: /kaggle/input/license-plate-prediction/Licplatesdetection_train/license_plates_detection_train/846.jpg\n",
      "Looking for: /kaggle/input/license-plate-prediction/Licplatesdetection_train/license_plates_detection_train/847.jpg\n",
      "Looking for: /kaggle/input/license-plate-prediction/Licplatesdetection_train/license_plates_detection_train/848.jpg\n",
      "Looking for: /kaggle/input/license-plate-prediction/Licplatesdetection_train/license_plates_detection_train/849.jpg\n",
      "Looking for: /kaggle/input/license-plate-prediction/Licplatesdetection_train/license_plates_detection_train/85.jpg\n",
      "Looking for: /kaggle/input/license-plate-prediction/Licplatesdetection_train/license_plates_detection_train/850.jpg\n",
      "Looking for: /kaggle/input/license-plate-prediction/Licplatesdetection_train/license_plates_detection_train/851.jpg\n",
      "Looking for: /kaggle/input/license-plate-prediction/Licplatesdetection_train/license_plates_detection_train/852.jpg\n",
      "Looking for: /kaggle/input/license-plate-prediction/Licplatesdetection_train/license_plates_detection_train/853.jpg\n",
      "Looking for: /kaggle/input/license-plate-prediction/Licplatesdetection_train/license_plates_detection_train/854.jpg\n",
      "Looking for: /kaggle/input/license-plate-prediction/Licplatesdetection_train/license_plates_detection_train/855.jpg\n",
      "Looking for: /kaggle/input/license-plate-prediction/Licplatesdetection_train/license_plates_detection_train/856.jpg\n",
      "Looking for: /kaggle/input/license-plate-prediction/Licplatesdetection_train/license_plates_detection_train/857.jpg\n",
      "Looking for: /kaggle/input/license-plate-prediction/Licplatesdetection_train/license_plates_detection_train/858.jpg\n",
      "Looking for: /kaggle/input/license-plate-prediction/Licplatesdetection_train/license_plates_detection_train/859.jpg\n",
      "Looking for: /kaggle/input/license-plate-prediction/Licplatesdetection_train/license_plates_detection_train/86.jpg\n",
      "Looking for: /kaggle/input/license-plate-prediction/Licplatesdetection_train/license_plates_detection_train/860.jpg\n",
      "Looking for: /kaggle/input/license-plate-prediction/Licplatesdetection_train/license_plates_detection_train/861.jpg\n",
      "Looking for: /kaggle/input/license-plate-prediction/Licplatesdetection_train/license_plates_detection_train/862.jpg\n",
      "Looking for: /kaggle/input/license-plate-prediction/Licplatesdetection_train/license_plates_detection_train/863.jpg\n",
      "Looking for: /kaggle/input/license-plate-prediction/Licplatesdetection_train/license_plates_detection_train/864.jpg\n",
      "Looking for: /kaggle/input/license-plate-prediction/Licplatesdetection_train/license_plates_detection_train/865.jpg\n",
      "Looking for: /kaggle/input/license-plate-prediction/Licplatesdetection_train/license_plates_detection_train/866.jpg\n",
      "Looking for: /kaggle/input/license-plate-prediction/Licplatesdetection_train/license_plates_detection_train/867.jpg\n",
      "Looking for: /kaggle/input/license-plate-prediction/Licplatesdetection_train/license_plates_detection_train/868.jpg\n",
      "Looking for: /kaggle/input/license-plate-prediction/Licplatesdetection_train/license_plates_detection_train/869.jpg\n",
      "Looking for: /kaggle/input/license-plate-prediction/Licplatesdetection_train/license_plates_detection_train/87.jpg\n",
      "Looking for: /kaggle/input/license-plate-prediction/Licplatesdetection_train/license_plates_detection_train/870.jpg\n",
      "Looking for: /kaggle/input/license-plate-prediction/Licplatesdetection_train/license_plates_detection_train/871.jpg\n",
      "Looking for: /kaggle/input/license-plate-prediction/Licplatesdetection_train/license_plates_detection_train/872.jpg\n",
      "Looking for: /kaggle/input/license-plate-prediction/Licplatesdetection_train/license_plates_detection_train/873.jpg\n",
      "Looking for: /kaggle/input/license-plate-prediction/Licplatesdetection_train/license_plates_detection_train/874.jpg\n",
      "Looking for: /kaggle/input/license-plate-prediction/Licplatesdetection_train/license_plates_detection_train/875.jpg\n",
      "Looking for: /kaggle/input/license-plate-prediction/Licplatesdetection_train/license_plates_detection_train/876.jpg\n",
      "Looking for: /kaggle/input/license-plate-prediction/Licplatesdetection_train/license_plates_detection_train/877.jpg\n",
      "Looking for: /kaggle/input/license-plate-prediction/Licplatesdetection_train/license_plates_detection_train/878.jpg\n",
      "Looking for: /kaggle/input/license-plate-prediction/Licplatesdetection_train/license_plates_detection_train/879.jpg\n",
      "Looking for: /kaggle/input/license-plate-prediction/Licplatesdetection_train/license_plates_detection_train/88.jpg\n",
      "Looking for: /kaggle/input/license-plate-prediction/Licplatesdetection_train/license_plates_detection_train/880.jpg\n",
      "Looking for: /kaggle/input/license-plate-prediction/Licplatesdetection_train/license_plates_detection_train/881.jpg\n",
      "Looking for: /kaggle/input/license-plate-prediction/Licplatesdetection_train/license_plates_detection_train/882.jpg\n",
      "Looking for: /kaggle/input/license-plate-prediction/Licplatesdetection_train/license_plates_detection_train/883.jpg\n",
      "Looking for: /kaggle/input/license-plate-prediction/Licplatesdetection_train/license_plates_detection_train/884.jpg\n",
      "Looking for: /kaggle/input/license-plate-prediction/Licplatesdetection_train/license_plates_detection_train/885.jpg\n",
      "Looking for: /kaggle/input/license-plate-prediction/Licplatesdetection_train/license_plates_detection_train/886.jpg\n",
      "Looking for: /kaggle/input/license-plate-prediction/Licplatesdetection_train/license_plates_detection_train/887.jpg\n",
      "Looking for: /kaggle/input/license-plate-prediction/Licplatesdetection_train/license_plates_detection_train/888.jpg\n",
      "Looking for: /kaggle/input/license-plate-prediction/Licplatesdetection_train/license_plates_detection_train/889.jpg\n",
      "Looking for: /kaggle/input/license-plate-prediction/Licplatesdetection_train/license_plates_detection_train/89.jpg\n",
      "Looking for: /kaggle/input/license-plate-prediction/Licplatesdetection_train/license_plates_detection_train/890.jpg\n",
      "Looking for: /kaggle/input/license-plate-prediction/Licplatesdetection_train/license_plates_detection_train/891.jpg\n",
      "Looking for: /kaggle/input/license-plate-prediction/Licplatesdetection_train/license_plates_detection_train/892.jpg\n",
      "Looking for: /kaggle/input/license-plate-prediction/Licplatesdetection_train/license_plates_detection_train/893.jpg\n",
      "Looking for: /kaggle/input/license-plate-prediction/Licplatesdetection_train/license_plates_detection_train/894.jpg\n",
      "Looking for: /kaggle/input/license-plate-prediction/Licplatesdetection_train/license_plates_detection_train/895.jpg\n",
      "Looking for: /kaggle/input/license-plate-prediction/Licplatesdetection_train/license_plates_detection_train/896.jpg\n",
      "Looking for: /kaggle/input/license-plate-prediction/Licplatesdetection_train/license_plates_detection_train/897.jpg\n",
      "Looking for: /kaggle/input/license-plate-prediction/Licplatesdetection_train/license_plates_detection_train/898.jpg\n",
      "Looking for: /kaggle/input/license-plate-prediction/Licplatesdetection_train/license_plates_detection_train/899.jpg\n",
      "Looking for: /kaggle/input/license-plate-prediction/Licplatesdetection_train/license_plates_detection_train/9.jpg\n",
      "Looking for: /kaggle/input/license-plate-prediction/Licplatesdetection_train/license_plates_detection_train/90.jpg\n",
      "Looking for: /kaggle/input/license-plate-prediction/Licplatesdetection_train/license_plates_detection_train/900.jpg\n",
      "Looking for: /kaggle/input/license-plate-prediction/Licplatesdetection_train/license_plates_detection_train/91.jpg\n",
      "Looking for: /kaggle/input/license-plate-prediction/Licplatesdetection_train/license_plates_detection_train/92.jpg\n",
      "Looking for: /kaggle/input/license-plate-prediction/Licplatesdetection_train/license_plates_detection_train/93.jpg\n",
      "Looking for: /kaggle/input/license-plate-prediction/Licplatesdetection_train/license_plates_detection_train/94.jpg\n",
      "Looking for: /kaggle/input/license-plate-prediction/Licplatesdetection_train/license_plates_detection_train/95.jpg\n",
      "Looking for: /kaggle/input/license-plate-prediction/Licplatesdetection_train/license_plates_detection_train/96.jpg\n",
      "Looking for: /kaggle/input/license-plate-prediction/Licplatesdetection_train/license_plates_detection_train/97.jpg\n",
      "Looking for: /kaggle/input/license-plate-prediction/Licplatesdetection_train/license_plates_detection_train/98.jpg\n",
      "Looking for: /kaggle/input/license-plate-prediction/Licplatesdetection_train/license_plates_detection_train/99.jpg\n"
     ]
    }
   ],
   "source": [
    "\n",
    "\n",
    "csv_path = \"/kaggle/input/license-plate-prediction/Licplatesdetection_train.csv\"       ##csv files containing data of xmin , ymin , xmax,ymax\n",
    "img_dir = \"/kaggle/input/license-plate-prediction/Licplatesdetection_train/license_plates_detection_train\"   ##path of the folder that has training images\n",
    "label_output_dir = \"/kaggle/working/labels/train\"           ##labels will be saved\n",
    "image_output_dir = \"/kaggle/working/images/train\"           ##images will be saved\n",
    "\n",
    "os.makedirs(label_output_dir, exist_ok=True)\n",
    "os.makedirs(image_output_dir, exist_ok=True)\n",
    "\n",
    "df = pd.read_csv(csv_path)\n",
    "\n",
    "for filename, group in df.groupby(\"img_id\"):\n",
    "    image_path = os.path.join(img_dir, filename.strip())  # remove accidental whitespace\n",
    "\n",
    "    print(\"Looking for:\", image_path)  # Debug line\n",
    "\n",
    "    if not os.path.exists(image_path):\n",
    "        print(f\"Image {filename} not found at {image_path}. Skipping.\")\n",
    "        continue\n",
    "\n",
    "    os.system(f\"cp '{image_path}' '{image_output_dir}/{filename}'\")\n",
    "\n",
    "    with Image.open(image_path) as img:\n",
    "        w, h = img.size\n",
    "\n",
    "    yolo_lines = []\n",
    "    for _, row in group.iterrows():\n",
    "        xmin, ymin, xmax, ymax = row['xmin'], row['ymin'], row['xmax'], row['ymax']\n",
    "        x_center = ((xmin + xmax) / 2) / w\n",
    "        y_center = ((ymin + ymax) / 2) / h\n",
    "        bbox_width = (xmax - xmin) / w\n",
    "        bbox_height = (ymax - ymin) / h\n",
    "        yolo_lines.append(f\"0 {x_center:.6f} {y_center:.6f} {bbox_width:.6f} {bbox_height:.6f}\")\n",
    "\n",
    "    txt_filename = os.path.splitext(filename)[0] + \".txt\"\n",
    "    with open(os.path.join(label_output_dir, txt_filename), 'w') as f:\n",
    "        f.write(\"\\n\".join(yolo_lines))\n"
   ]
  },
  {
   "cell_type": "markdown",
   "metadata": {},
   "source": [
    "**Creating data.yaml file which has path of training and validation images and it also tells about number of classes**"
   ]
  },
  {
   "cell_type": "code",
   "execution_count": 17,
   "metadata": {
    "execution": {
     "iopub.execute_input": "2025-06-15T14:36:31.911440Z",
     "iopub.status.busy": "2025-06-15T14:36:31.910619Z",
     "iopub.status.idle": "2025-06-15T14:36:31.916135Z",
     "shell.execute_reply": "2025-06-15T14:36:31.915246Z",
     "shell.execute_reply.started": "2025-06-15T14:36:31.911411Z"
    },
    "trusted": true
   },
   "outputs": [],
   "source": [
    "data_yaml = \"\"\"\n",
    "train: /kaggle/working/images/train\n",
    "val: /kaggle/working/images/train\n",
    "\n",
    "nc: 1\n",
    "names: ['license_plate']\n",
    "\"\"\"\n",
    "\n",
    "with open('/kaggle/working/data.yaml', 'w') as f:\n",
    "    f.write(data_yaml)\n"
   ]
  },
  {
   "cell_type": "markdown",
   "metadata": {},
   "source": [
    "**Let us start using our YOLOv8 model**"
   ]
  },
  {
   "cell_type": "code",
   "execution_count": 21,
   "metadata": {
    "execution": {
     "iopub.execute_input": "2025-06-15T14:43:52.928781Z",
     "iopub.status.busy": "2025-06-15T14:43:52.927945Z",
     "iopub.status.idle": "2025-06-15T14:45:25.181886Z",
     "shell.execute_reply": "2025-06-15T14:45:25.181113Z",
     "shell.execute_reply.started": "2025-06-15T14:43:52.928746Z"
    },
    "trusted": true
   },
   "outputs": [
    {
     "name": "stdout",
     "output_type": "stream",
     "text": [
      "Collecting ultralytics\n",
      "  Downloading ultralytics-8.3.155-py3-none-any.whl.metadata (37 kB)\n",
      "Requirement already satisfied: numpy>=1.23.0 in /usr/local/lib/python3.11/dist-packages (from ultralytics) (1.26.4)\n",
      "Requirement already satisfied: matplotlib>=3.3.0 in /usr/local/lib/python3.11/dist-packages (from ultralytics) (3.7.2)\n",
      "Requirement already satisfied: opencv-python>=4.6.0 in /usr/local/lib/python3.11/dist-packages (from ultralytics) (4.11.0.86)\n",
      "Requirement already satisfied: pillow>=7.1.2 in /usr/local/lib/python3.11/dist-packages (from ultralytics) (11.1.0)\n",
      "Requirement already satisfied: pyyaml>=5.3.1 in /usr/local/lib/python3.11/dist-packages (from ultralytics) (6.0.2)\n",
      "Requirement already satisfied: requests>=2.23.0 in /usr/local/lib/python3.11/dist-packages (from ultralytics) (2.32.3)\n",
      "Requirement already satisfied: scipy>=1.4.1 in /usr/local/lib/python3.11/dist-packages (from ultralytics) (1.15.2)\n",
      "Requirement already satisfied: torch>=1.8.0 in /usr/local/lib/python3.11/dist-packages (from ultralytics) (2.6.0+cu124)\n",
      "Requirement already satisfied: torchvision>=0.9.0 in /usr/local/lib/python3.11/dist-packages (from ultralytics) (0.21.0+cu124)\n",
      "Requirement already satisfied: tqdm>=4.64.0 in /usr/local/lib/python3.11/dist-packages (from ultralytics) (4.67.1)\n",
      "Requirement already satisfied: psutil in /usr/local/lib/python3.11/dist-packages (from ultralytics) (7.0.0)\n",
      "Requirement already satisfied: py-cpuinfo in /usr/local/lib/python3.11/dist-packages (from ultralytics) (9.0.0)\n",
      "Requirement already satisfied: pandas>=1.1.4 in /usr/local/lib/python3.11/dist-packages (from ultralytics) (2.2.3)\n",
      "Collecting ultralytics-thop>=2.0.0 (from ultralytics)\n",
      "  Downloading ultralytics_thop-2.0.14-py3-none-any.whl.metadata (9.4 kB)\n",
      "Requirement already satisfied: contourpy>=1.0.1 in /usr/local/lib/python3.11/dist-packages (from matplotlib>=3.3.0->ultralytics) (1.3.1)\n",
      "Requirement already satisfied: cycler>=0.10 in /usr/local/lib/python3.11/dist-packages (from matplotlib>=3.3.0->ultralytics) (0.12.1)\n",
      "Requirement already satisfied: fonttools>=4.22.0 in /usr/local/lib/python3.11/dist-packages (from matplotlib>=3.3.0->ultralytics) (4.57.0)\n",
      "Requirement already satisfied: kiwisolver>=1.0.1 in /usr/local/lib/python3.11/dist-packages (from matplotlib>=3.3.0->ultralytics) (1.4.8)\n",
      "Requirement already satisfied: packaging>=20.0 in /usr/local/lib/python3.11/dist-packages (from matplotlib>=3.3.0->ultralytics) (25.0)\n",
      "Requirement already satisfied: pyparsing<3.1,>=2.3.1 in /usr/local/lib/python3.11/dist-packages (from matplotlib>=3.3.0->ultralytics) (3.0.9)\n",
      "Requirement already satisfied: python-dateutil>=2.7 in /usr/local/lib/python3.11/dist-packages (from matplotlib>=3.3.0->ultralytics) (2.9.0.post0)\n",
      "Requirement already satisfied: mkl_fft in /usr/local/lib/python3.11/dist-packages (from numpy>=1.23.0->ultralytics) (1.3.8)\n",
      "Requirement already satisfied: mkl_random in /usr/local/lib/python3.11/dist-packages (from numpy>=1.23.0->ultralytics) (1.2.4)\n",
      "Requirement already satisfied: mkl_umath in /usr/local/lib/python3.11/dist-packages (from numpy>=1.23.0->ultralytics) (0.1.1)\n",
      "Requirement already satisfied: mkl in /usr/local/lib/python3.11/dist-packages (from numpy>=1.23.0->ultralytics) (2025.1.0)\n",
      "Requirement already satisfied: tbb4py in /usr/local/lib/python3.11/dist-packages (from numpy>=1.23.0->ultralytics) (2022.1.0)\n",
      "Requirement already satisfied: mkl-service in /usr/local/lib/python3.11/dist-packages (from numpy>=1.23.0->ultralytics) (2.4.1)\n",
      "Requirement already satisfied: pytz>=2020.1 in /usr/local/lib/python3.11/dist-packages (from pandas>=1.1.4->ultralytics) (2025.2)\n",
      "Requirement already satisfied: tzdata>=2022.7 in /usr/local/lib/python3.11/dist-packages (from pandas>=1.1.4->ultralytics) (2025.2)\n",
      "Requirement already satisfied: charset-normalizer<4,>=2 in /usr/local/lib/python3.11/dist-packages (from requests>=2.23.0->ultralytics) (3.4.2)\n",
      "Requirement already satisfied: idna<4,>=2.5 in /usr/local/lib/python3.11/dist-packages (from requests>=2.23.0->ultralytics) (3.10)\n",
      "Requirement already satisfied: urllib3<3,>=1.21.1 in /usr/local/lib/python3.11/dist-packages (from requests>=2.23.0->ultralytics) (2.4.0)\n",
      "Requirement already satisfied: certifi>=2017.4.17 in /usr/local/lib/python3.11/dist-packages (from requests>=2.23.0->ultralytics) (2025.4.26)\n",
      "Requirement already satisfied: filelock in /usr/local/lib/python3.11/dist-packages (from torch>=1.8.0->ultralytics) (3.18.0)\n",
      "Requirement already satisfied: typing-extensions>=4.10.0 in /usr/local/lib/python3.11/dist-packages (from torch>=1.8.0->ultralytics) (4.13.2)\n",
      "Requirement already satisfied: networkx in /usr/local/lib/python3.11/dist-packages (from torch>=1.8.0->ultralytics) (3.4.2)\n",
      "Requirement already satisfied: jinja2 in /usr/local/lib/python3.11/dist-packages (from torch>=1.8.0->ultralytics) (3.1.6)\n",
      "Requirement already satisfied: fsspec in /usr/local/lib/python3.11/dist-packages (from torch>=1.8.0->ultralytics) (2025.3.2)\n",
      "Requirement already satisfied: nvidia-cuda-nvrtc-cu12==12.4.127 in /usr/local/lib/python3.11/dist-packages (from torch>=1.8.0->ultralytics) (12.4.127)\n",
      "Requirement already satisfied: nvidia-cuda-runtime-cu12==12.4.127 in /usr/local/lib/python3.11/dist-packages (from torch>=1.8.0->ultralytics) (12.4.127)\n",
      "Requirement already satisfied: nvidia-cuda-cupti-cu12==12.4.127 in /usr/local/lib/python3.11/dist-packages (from torch>=1.8.0->ultralytics) (12.4.127)\n",
      "Collecting nvidia-cudnn-cu12==9.1.0.70 (from torch>=1.8.0->ultralytics)\n",
      "  Downloading nvidia_cudnn_cu12-9.1.0.70-py3-none-manylinux2014_x86_64.whl.metadata (1.6 kB)\n",
      "Collecting nvidia-cublas-cu12==12.4.5.8 (from torch>=1.8.0->ultralytics)\n",
      "  Downloading nvidia_cublas_cu12-12.4.5.8-py3-none-manylinux2014_x86_64.whl.metadata (1.5 kB)\n",
      "Collecting nvidia-cufft-cu12==11.2.1.3 (from torch>=1.8.0->ultralytics)\n",
      "  Downloading nvidia_cufft_cu12-11.2.1.3-py3-none-manylinux2014_x86_64.whl.metadata (1.5 kB)\n",
      "Collecting nvidia-curand-cu12==10.3.5.147 (from torch>=1.8.0->ultralytics)\n",
      "  Downloading nvidia_curand_cu12-10.3.5.147-py3-none-manylinux2014_x86_64.whl.metadata (1.5 kB)\n",
      "Collecting nvidia-cusolver-cu12==11.6.1.9 (from torch>=1.8.0->ultralytics)\n",
      "  Downloading nvidia_cusolver_cu12-11.6.1.9-py3-none-manylinux2014_x86_64.whl.metadata (1.6 kB)\n",
      "Collecting nvidia-cusparse-cu12==12.3.1.170 (from torch>=1.8.0->ultralytics)\n",
      "  Downloading nvidia_cusparse_cu12-12.3.1.170-py3-none-manylinux2014_x86_64.whl.metadata (1.6 kB)\n",
      "Requirement already satisfied: nvidia-cusparselt-cu12==0.6.2 in /usr/local/lib/python3.11/dist-packages (from torch>=1.8.0->ultralytics) (0.6.2)\n",
      "Requirement already satisfied: nvidia-nccl-cu12==2.21.5 in /usr/local/lib/python3.11/dist-packages (from torch>=1.8.0->ultralytics) (2.21.5)\n",
      "Requirement already satisfied: nvidia-nvtx-cu12==12.4.127 in /usr/local/lib/python3.11/dist-packages (from torch>=1.8.0->ultralytics) (12.4.127)\n",
      "Collecting nvidia-nvjitlink-cu12==12.4.127 (from torch>=1.8.0->ultralytics)\n",
      "  Downloading nvidia_nvjitlink_cu12-12.4.127-py3-none-manylinux2014_x86_64.whl.metadata (1.5 kB)\n",
      "Requirement already satisfied: triton==3.2.0 in /usr/local/lib/python3.11/dist-packages (from torch>=1.8.0->ultralytics) (3.2.0)\n",
      "Requirement already satisfied: sympy==1.13.1 in /usr/local/lib/python3.11/dist-packages (from torch>=1.8.0->ultralytics) (1.13.1)\n",
      "Requirement already satisfied: mpmath<1.4,>=1.1.0 in /usr/local/lib/python3.11/dist-packages (from sympy==1.13.1->torch>=1.8.0->ultralytics) (1.3.0)\n",
      "Requirement already satisfied: six>=1.5 in /usr/local/lib/python3.11/dist-packages (from python-dateutil>=2.7->matplotlib>=3.3.0->ultralytics) (1.17.0)\n",
      "Requirement already satisfied: MarkupSafe>=2.0 in /usr/local/lib/python3.11/dist-packages (from jinja2->torch>=1.8.0->ultralytics) (3.0.2)\n",
      "Requirement already satisfied: intel-openmp<2026,>=2024 in /usr/local/lib/python3.11/dist-packages (from mkl->numpy>=1.23.0->ultralytics) (2024.2.0)\n",
      "Requirement already satisfied: tbb==2022.* in /usr/local/lib/python3.11/dist-packages (from mkl->numpy>=1.23.0->ultralytics) (2022.1.0)\n",
      "Requirement already satisfied: tcmlib==1.* in /usr/local/lib/python3.11/dist-packages (from tbb==2022.*->mkl->numpy>=1.23.0->ultralytics) (1.3.0)\n",
      "Requirement already satisfied: intel-cmplr-lib-rt in /usr/local/lib/python3.11/dist-packages (from mkl_umath->numpy>=1.23.0->ultralytics) (2024.2.0)\n",
      "Requirement already satisfied: intel-cmplr-lib-ur==2024.2.0 in /usr/local/lib/python3.11/dist-packages (from intel-openmp<2026,>=2024->mkl->numpy>=1.23.0->ultralytics) (2024.2.0)\n",
      "Downloading ultralytics-8.3.155-py3-none-any.whl (1.0 MB)\n",
      "\u001b[2K   \u001b[90m━━━━━━━━━━━━━━━━━━━━━━━━━━━━━━━━━━━━━━━━\u001b[0m \u001b[32m1.0/1.0 MB\u001b[0m \u001b[31m17.4 MB/s\u001b[0m eta \u001b[36m0:00:00\u001b[0ma \u001b[36m0:00:01\u001b[0m\n",
      "\u001b[?25hDownloading nvidia_cublas_cu12-12.4.5.8-py3-none-manylinux2014_x86_64.whl (363.4 MB)\n",
      "\u001b[2K   \u001b[90m━━━━━━━━━━━━━━━━━━━━━━━━━━━━━━━━━━━━━━━━\u001b[0m \u001b[32m363.4/363.4 MB\u001b[0m \u001b[31m4.5 MB/s\u001b[0m eta \u001b[36m0:00:00\u001b[0m0:00:01\u001b[0m00:01\u001b[0m\n",
      "\u001b[?25hDownloading nvidia_cudnn_cu12-9.1.0.70-py3-none-manylinux2014_x86_64.whl (664.8 MB)\n",
      "\u001b[2K   \u001b[90m━━━━━━━━━━━━━━━━━━━━━━━━━━━━━━━━━━━━━━━━\u001b[0m \u001b[32m664.8/664.8 MB\u001b[0m \u001b[31m2.6 MB/s\u001b[0m eta \u001b[36m0:00:00\u001b[0m0:00:01\u001b[0m00:01\u001b[0m\n",
      "\u001b[?25hDownloading nvidia_cufft_cu12-11.2.1.3-py3-none-manylinux2014_x86_64.whl (211.5 MB)\n",
      "\u001b[2K   \u001b[90m━━━━━━━━━━━━━━━━━━━━━━━━━━━━━━━━━━━━━━━━\u001b[0m \u001b[32m211.5/211.5 MB\u001b[0m \u001b[31m2.0 MB/s\u001b[0m eta \u001b[36m0:00:00\u001b[0m0:00:01\u001b[0m00:01\u001b[0m\n",
      "\u001b[?25hDownloading nvidia_curand_cu12-10.3.5.147-py3-none-manylinux2014_x86_64.whl (56.3 MB)\n",
      "\u001b[2K   \u001b[90m━━━━━━━━━━━━━━━━━━━━━━━━━━━━━━━━━━━━━━━━\u001b[0m \u001b[32m56.3/56.3 MB\u001b[0m \u001b[31m12.8 MB/s\u001b[0m eta \u001b[36m0:00:00\u001b[0m:00:01\u001b[0m00:01\u001b[0m\n",
      "\u001b[?25hDownloading nvidia_cusolver_cu12-11.6.1.9-py3-none-manylinux2014_x86_64.whl (127.9 MB)\n",
      "\u001b[2K   \u001b[90m━━━━━━━━━━━━━━━━━━━━━━━━━━━━━━━━━━━━━━━━\u001b[0m \u001b[32m127.9/127.9 MB\u001b[0m \u001b[31m13.1 MB/s\u001b[0m eta \u001b[36m0:00:00\u001b[0m:00:01\u001b[0m00:01\u001b[0m\n",
      "\u001b[?25hDownloading nvidia_cusparse_cu12-12.3.1.170-py3-none-manylinux2014_x86_64.whl (207.5 MB)\n",
      "\u001b[2K   \u001b[90m━━━━━━━━━━━━━━━━━━━━━━━━━━━━━━━━━━━━━━━━\u001b[0m \u001b[32m207.5/207.5 MB\u001b[0m \u001b[31m8.1 MB/s\u001b[0m eta \u001b[36m0:00:00\u001b[0m0:00:01\u001b[0m00:01\u001b[0m\n",
      "\u001b[?25hDownloading nvidia_nvjitlink_cu12-12.4.127-py3-none-manylinux2014_x86_64.whl (21.1 MB)\n",
      "\u001b[2K   \u001b[90m━━━━━━━━━━━━━━━━━━━━━━━━━━━━━━━━━━━━━━━━\u001b[0m \u001b[32m21.1/21.1 MB\u001b[0m \u001b[31m76.8 MB/s\u001b[0m eta \u001b[36m0:00:00\u001b[0m:00:01\u001b[0m00:01\u001b[0m\n",
      "\u001b[?25hDownloading ultralytics_thop-2.0.14-py3-none-any.whl (26 kB)\n",
      "Installing collected packages: nvidia-nvjitlink-cu12, nvidia-curand-cu12, nvidia-cufft-cu12, nvidia-cublas-cu12, nvidia-cusparse-cu12, nvidia-cudnn-cu12, nvidia-cusolver-cu12, ultralytics-thop, ultralytics\n",
      "  Attempting uninstall: nvidia-nvjitlink-cu12\n",
      "    Found existing installation: nvidia-nvjitlink-cu12 12.9.41\n",
      "    Uninstalling nvidia-nvjitlink-cu12-12.9.41:\n",
      "      Successfully uninstalled nvidia-nvjitlink-cu12-12.9.41\n",
      "  Attempting uninstall: nvidia-curand-cu12\n",
      "    Found existing installation: nvidia-curand-cu12 10.3.10.19\n",
      "    Uninstalling nvidia-curand-cu12-10.3.10.19:\n",
      "      Successfully uninstalled nvidia-curand-cu12-10.3.10.19\n",
      "  Attempting uninstall: nvidia-cufft-cu12\n",
      "    Found existing installation: nvidia-cufft-cu12 11.4.0.6\n",
      "    Uninstalling nvidia-cufft-cu12-11.4.0.6:\n",
      "      Successfully uninstalled nvidia-cufft-cu12-11.4.0.6\n",
      "  Attempting uninstall: nvidia-cublas-cu12\n",
      "    Found existing installation: nvidia-cublas-cu12 12.9.0.13\n",
      "    Uninstalling nvidia-cublas-cu12-12.9.0.13:\n",
      "      Successfully uninstalled nvidia-cublas-cu12-12.9.0.13\n",
      "  Attempting uninstall: nvidia-cusparse-cu12\n",
      "    Found existing installation: nvidia-cusparse-cu12 12.5.9.5\n",
      "    Uninstalling nvidia-cusparse-cu12-12.5.9.5:\n",
      "      Successfully uninstalled nvidia-cusparse-cu12-12.5.9.5\n",
      "  Attempting uninstall: nvidia-cudnn-cu12\n",
      "    Found existing installation: nvidia-cudnn-cu12 9.3.0.75\n",
      "    Uninstalling nvidia-cudnn-cu12-9.3.0.75:\n",
      "      Successfully uninstalled nvidia-cudnn-cu12-9.3.0.75\n",
      "  Attempting uninstall: nvidia-cusolver-cu12\n",
      "    Found existing installation: nvidia-cusolver-cu12 11.7.4.40\n",
      "    Uninstalling nvidia-cusolver-cu12-11.7.4.40:\n",
      "      Successfully uninstalled nvidia-cusolver-cu12-11.7.4.40\n",
      "Successfully installed nvidia-cublas-cu12-12.4.5.8 nvidia-cudnn-cu12-9.1.0.70 nvidia-cufft-cu12-11.2.1.3 nvidia-curand-cu12-10.3.5.147 nvidia-cusolver-cu12-11.6.1.9 nvidia-cusparse-cu12-12.3.1.170 nvidia-nvjitlink-cu12-12.4.127 ultralytics-8.3.155 ultralytics-thop-2.0.14\n"
     ]
    }
   ],
   "source": [
    "!pip install ultralytics"
   ]
  },
  {
   "cell_type": "code",
   "execution_count": null,
   "metadata": {
    "execution": {
     "iopub.execute_input": "2025-06-15T14:45:40.297557Z",
     "iopub.status.busy": "2025-06-15T14:45:40.296708Z",
     "iopub.status.idle": "2025-06-15T15:04:01.042660Z",
     "shell.execute_reply": "2025-06-15T15:04:01.041760Z",
     "shell.execute_reply.started": "2025-06-15T14:45:40.297520Z"
    },
    "trusted": true
   },
   "outputs": [
    {
     "name": "stdout",
     "output_type": "stream",
     "text": [
      "Creating new Ultralytics Settings v0.0.6 file ✅ \n",
      "View Ultralytics Settings with 'yolo settings' or at '/root/.config/Ultralytics/settings.json'\n",
      "Update Settings with 'yolo settings key=value', i.e. 'yolo settings runs_dir=path/to/dir'. For help see https://docs.ultralytics.com/quickstart/#ultralytics-settings.\n",
      "Downloading https://github.com/ultralytics/assets/releases/download/v8.3.0/yolov8s.pt to 'yolov8s.pt'...\n"
     ]
    },
    {
     "name": "stderr",
     "output_type": "stream",
     "text": [
      "100%|██████████| 21.5M/21.5M [00:00<00:00, 156MB/s]\n"
     ]
    },
    {
     "name": "stdout",
     "output_type": "stream",
     "text": [
      "Ultralytics 8.3.155 🚀 Python-3.11.11 torch-2.6.0+cu124 CUDA:0 (Tesla T4, 15095MiB)\n",
      "\u001b[34m\u001b[1mengine/trainer: \u001b[0magnostic_nms=False, amp=True, augment=False, auto_augment=randaugment, batch=16, bgr=0.0, box=7.5, cache=False, cfg=None, classes=None, close_mosaic=10, cls=0.5, conf=None, copy_paste=0.0, copy_paste_mode=flip, cos_lr=False, cutmix=0.0, data=/kaggle/working/data.yaml, degrees=0.0, deterministic=True, device=None, dfl=1.5, dnn=False, dropout=0.0, dynamic=False, embed=None, epochs=50, erasing=0.4, exist_ok=False, fliplr=0.5, flipud=0.0, format=torchscript, fraction=1.0, freeze=None, half=False, hsv_h=0.015, hsv_s=0.7, hsv_v=0.4, imgsz=640, int8=False, iou=0.7, keras=False, kobj=1.0, line_width=None, lr0=0.01, lrf=0.01, mask_ratio=4, max_det=300, mixup=0.0, mode=train, model=yolov8s.pt, momentum=0.937, mosaic=1.0, multi_scale=False, name=train, nbs=64, nms=False, opset=None, optimize=False, optimizer=auto, overlap_mask=True, patience=100, perspective=0.0, plots=True, pose=12.0, pretrained=True, profile=False, project=None, rect=False, resume=False, retina_masks=False, save=True, save_conf=False, save_crop=False, save_dir=runs/detect/train, save_frames=False, save_json=False, save_period=-1, save_txt=False, scale=0.5, seed=0, shear=0.0, show=False, show_boxes=True, show_conf=True, show_labels=True, simplify=True, single_cls=False, source=None, split=val, stream_buffer=False, task=detect, time=None, tracker=botsort.yaml, translate=0.1, val=True, verbose=True, vid_stride=1, visualize=False, warmup_bias_lr=0.1, warmup_epochs=3.0, warmup_momentum=0.8, weight_decay=0.0005, workers=2, workspace=None\n",
      "Downloading https://ultralytics.com/assets/Arial.ttf to '/root/.config/Ultralytics/Arial.ttf'...\n"
     ]
    },
    {
     "name": "stderr",
     "output_type": "stream",
     "text": [
      "100%|██████████| 755k/755k [00:00<00:00, 17.3MB/s]\n"
     ]
    },
    {
     "name": "stdout",
     "output_type": "stream",
     "text": [
      "Overriding model.yaml nc=80 with nc=1\n",
      "\n",
      "                   from  n    params  module                                       arguments                     \n",
      "  0                  -1  1       928  ultralytics.nn.modules.conv.Conv             [3, 32, 3, 2]                 \n",
      "  1                  -1  1     18560  ultralytics.nn.modules.conv.Conv             [32, 64, 3, 2]                \n",
      "  2                  -1  1     29056  ultralytics.nn.modules.block.C2f             [64, 64, 1, True]             \n",
      "  3                  -1  1     73984  ultralytics.nn.modules.conv.Conv             [64, 128, 3, 2]               \n",
      "  4                  -1  2    197632  ultralytics.nn.modules.block.C2f             [128, 128, 2, True]           \n",
      "  5                  -1  1    295424  ultralytics.nn.modules.conv.Conv             [128, 256, 3, 2]              \n",
      "  6                  -1  2    788480  ultralytics.nn.modules.block.C2f             [256, 256, 2, True]           \n",
      "  7                  -1  1   1180672  ultralytics.nn.modules.conv.Conv             [256, 512, 3, 2]              \n",
      "  8                  -1  1   1838080  ultralytics.nn.modules.block.C2f             [512, 512, 1, True]           \n",
      "  9                  -1  1    656896  ultralytics.nn.modules.block.SPPF            [512, 512, 5]                 \n",
      " 10                  -1  1         0  torch.nn.modules.upsampling.Upsample         [None, 2, 'nearest']          \n",
      " 11             [-1, 6]  1         0  ultralytics.nn.modules.conv.Concat           [1]                           \n",
      " 12                  -1  1    591360  ultralytics.nn.modules.block.C2f             [768, 256, 1]                 \n",
      " 13                  -1  1         0  torch.nn.modules.upsampling.Upsample         [None, 2, 'nearest']          \n",
      " 14             [-1, 4]  1         0  ultralytics.nn.modules.conv.Concat           [1]                           \n",
      " 15                  -1  1    148224  ultralytics.nn.modules.block.C2f             [384, 128, 1]                 \n",
      " 16                  -1  1    147712  ultralytics.nn.modules.conv.Conv             [128, 128, 3, 2]              \n",
      " 17            [-1, 12]  1         0  ultralytics.nn.modules.conv.Concat           [1]                           \n",
      " 18                  -1  1    493056  ultralytics.nn.modules.block.C2f             [384, 256, 1]                 \n",
      " 19                  -1  1    590336  ultralytics.nn.modules.conv.Conv             [256, 256, 3, 2]              \n",
      " 20             [-1, 9]  1         0  ultralytics.nn.modules.conv.Concat           [1]                           \n",
      " 21                  -1  1   1969152  ultralytics.nn.modules.block.C2f             [768, 512, 1]                 \n",
      " 22        [15, 18, 21]  1   2116435  ultralytics.nn.modules.head.Detect           [1, [128, 256, 512]]          \n",
      "Model summary: 129 layers, 11,135,987 parameters, 11,135,971 gradients, 28.6 GFLOPs\n",
      "\n",
      "Transferred 349/355 items from pretrained weights\n",
      "Freezing layer 'model.22.dfl.conv.weight'\n",
      "\u001b[34m\u001b[1mAMP: \u001b[0mrunning Automatic Mixed Precision (AMP) checks...\n",
      "Downloading https://github.com/ultralytics/assets/releases/download/v8.3.0/yolo11n.pt to 'yolo11n.pt'...\n"
     ]
    },
    {
     "name": "stderr",
     "output_type": "stream",
     "text": [
      "100%|██████████| 5.35M/5.35M [00:00<00:00, 69.6MB/s]\n"
     ]
    },
    {
     "name": "stdout",
     "output_type": "stream",
     "text": [
      "\u001b[34m\u001b[1mAMP: \u001b[0mchecks passed ✅\n",
      "\u001b[34m\u001b[1mtrain: \u001b[0mFast image access ✅ (ping: 0.0±0.0 ms, read: 1828.8±933.3 MB/s, size: 105.6 KB)\n"
     ]
    },
    {
     "name": "stderr",
     "output_type": "stream",
     "text": [
      "\u001b[34m\u001b[1mtrain: \u001b[0mScanning /kaggle/working/labels/train... 900 images, 0 backgrounds, 0 corrupt: 100%|██████████| 900/900 [00:00<00:00, 1469.15it/s]"
     ]
    },
    {
     "name": "stdout",
     "output_type": "stream",
     "text": [
      "\u001b[34m\u001b[1mtrain: \u001b[0mNew cache created: /kaggle/working/labels/train.cache\n"
     ]
    },
    {
     "name": "stderr",
     "output_type": "stream",
     "text": [
      "\n"
     ]
    },
    {
     "name": "stdout",
     "output_type": "stream",
     "text": [
      "\u001b[34m\u001b[1malbumentations: \u001b[0mBlur(p=0.01, blur_limit=(3, 7)), MedianBlur(p=0.01, blur_limit=(3, 7)), ToGray(p=0.01, num_output_channels=3, method='weighted_average'), CLAHE(p=0.01, clip_limit=(1.0, 4.0), tile_grid_size=(8, 8))\n",
      "\u001b[34m\u001b[1mval: \u001b[0mFast image access ✅ (ping: 0.0±0.0 ms, read: 740.4±345.1 MB/s, size: 117.2 KB)\n"
     ]
    },
    {
     "name": "stderr",
     "output_type": "stream",
     "text": [
      "\u001b[34m\u001b[1mval: \u001b[0mScanning /kaggle/working/labels/train.cache... 900 images, 0 backgrounds, 0 corrupt: 100%|██████████| 900/900 [00:00<?, ?it/s]\n"
     ]
    },
    {
     "name": "stdout",
     "output_type": "stream",
     "text": [
      "Plotting labels to runs/detect/train/labels.jpg... \n",
      "\u001b[34m\u001b[1moptimizer:\u001b[0m 'optimizer=auto' found, ignoring 'lr0=0.01' and 'momentum=0.937' and determining best 'optimizer', 'lr0' and 'momentum' automatically... \n",
      "\u001b[34m\u001b[1moptimizer:\u001b[0m AdamW(lr=0.002, momentum=0.9) with parameter groups 57 weight(decay=0.0), 64 weight(decay=0.0005), 63 bias(decay=0.0)\n",
      "Image sizes 640 train, 640 val\n",
      "Using 2 dataloader workers\n",
      "Logging results to \u001b[1mruns/detect/train\u001b[0m\n",
      "Starting training for 50 epochs...\n",
      "\n",
      "      Epoch    GPU_mem   box_loss   cls_loss   dfl_loss  Instances       Size\n"
     ]
    },
    {
     "name": "stderr",
     "output_type": "stream",
     "text": [
      "       1/50      3.53G      1.247      2.629      1.107          8        640: 100%|██████████| 57/57 [00:15<00:00,  3.59it/s]\n",
      "                 Class     Images  Instances      Box(P          R      mAP50  mAP50-95): 100%|██████████| 29/29 [00:07<00:00,  3.70it/s]\n"
     ]
    },
    {
     "name": "stdout",
     "output_type": "stream",
     "text": [
      "                   all        900        900      0.254      0.874      0.252      0.172\n",
      "\n",
      "      Epoch    GPU_mem   box_loss   cls_loss   dfl_loss  Instances       Size\n"
     ]
    },
    {
     "name": "stderr",
     "output_type": "stream",
     "text": [
      "       2/50      5.01G      1.136     0.8727      1.026          8        640: 100%|██████████| 57/57 [00:13<00:00,  4.09it/s]\n",
      "                 Class     Images  Instances      Box(P          R      mAP50  mAP50-95): 100%|██████████| 29/29 [00:06<00:00,  4.48it/s]"
     ]
    },
    {
     "name": "stdout",
     "output_type": "stream",
     "text": [
      "                   all        900        900       0.88      0.754      0.829      0.518\n"
     ]
    },
    {
     "name": "stderr",
     "output_type": "stream",
     "text": [
      "\n"
     ]
    },
    {
     "name": "stdout",
     "output_type": "stream",
     "text": [
      "\n",
      "      Epoch    GPU_mem   box_loss   cls_loss   dfl_loss  Instances       Size\n"
     ]
    },
    {
     "name": "stderr",
     "output_type": "stream",
     "text": [
      "       3/50      5.03G      1.207     0.8336      1.055          5        640: 100%|██████████| 57/57 [00:13<00:00,  4.07it/s]\n",
      "                 Class     Images  Instances      Box(P          R      mAP50  mAP50-95): 100%|██████████| 29/29 [00:06<00:00,  4.36it/s]\n"
     ]
    },
    {
     "name": "stdout",
     "output_type": "stream",
     "text": [
      "                   all        900        900      0.477      0.574      0.427      0.272\n",
      "\n",
      "      Epoch    GPU_mem   box_loss   cls_loss   dfl_loss  Instances       Size\n"
     ]
    },
    {
     "name": "stderr",
     "output_type": "stream",
     "text": [
      "       4/50      5.04G      1.158     0.7963      1.049          6        640: 100%|██████████| 57/57 [00:14<00:00,  4.07it/s]\n",
      "                 Class     Images  Instances      Box(P          R      mAP50  mAP50-95): 100%|██████████| 29/29 [00:06<00:00,  4.67it/s]"
     ]
    },
    {
     "name": "stdout",
     "output_type": "stream",
     "text": [
      "                   all        900        900      0.932      0.915       0.97      0.637\n"
     ]
    },
    {
     "name": "stderr",
     "output_type": "stream",
     "text": [
      "\n"
     ]
    },
    {
     "name": "stdout",
     "output_type": "stream",
     "text": [
      "\n",
      "      Epoch    GPU_mem   box_loss   cls_loss   dfl_loss  Instances       Size\n"
     ]
    },
    {
     "name": "stderr",
     "output_type": "stream",
     "text": [
      "       5/50      5.06G       1.12     0.7456      1.041          9        640: 100%|██████████| 57/57 [00:14<00:00,  4.03it/s]\n",
      "                 Class     Images  Instances      Box(P          R      mAP50  mAP50-95): 100%|██████████| 29/29 [00:06<00:00,  4.52it/s]"
     ]
    },
    {
     "name": "stdout",
     "output_type": "stream",
     "text": [
      "                   all        900        900      0.958      0.904      0.945      0.669\n"
     ]
    },
    {
     "name": "stderr",
     "output_type": "stream",
     "text": [
      "\n"
     ]
    },
    {
     "name": "stdout",
     "output_type": "stream",
     "text": [
      "\n",
      "      Epoch    GPU_mem   box_loss   cls_loss   dfl_loss  Instances       Size\n"
     ]
    },
    {
     "name": "stderr",
     "output_type": "stream",
     "text": [
      "       6/50      5.06G      1.071     0.6815      1.016          8        640: 100%|██████████| 57/57 [00:14<00:00,  3.99it/s]\n",
      "                 Class     Images  Instances      Box(P          R      mAP50  mAP50-95): 100%|██████████| 29/29 [00:06<00:00,  4.63it/s]"
     ]
    },
    {
     "name": "stdout",
     "output_type": "stream",
     "text": [
      "                   all        900        900      0.961      0.899      0.974      0.707\n"
     ]
    },
    {
     "name": "stderr",
     "output_type": "stream",
     "text": [
      "\n"
     ]
    },
    {
     "name": "stdout",
     "output_type": "stream",
     "text": [
      "\n",
      "      Epoch    GPU_mem   box_loss   cls_loss   dfl_loss  Instances       Size\n"
     ]
    },
    {
     "name": "stderr",
     "output_type": "stream",
     "text": [
      "       7/50      5.06G       1.08     0.6784       1.02          7        640: 100%|██████████| 57/57 [00:14<00:00,  3.90it/s]\n",
      "                 Class     Images  Instances      Box(P          R      mAP50  mAP50-95): 100%|██████████| 29/29 [00:06<00:00,  4.66it/s]"
     ]
    },
    {
     "name": "stdout",
     "output_type": "stream",
     "text": [
      "                   all        900        900      0.983      0.969      0.993      0.719\n"
     ]
    },
    {
     "name": "stderr",
     "output_type": "stream",
     "text": [
      "\n"
     ]
    },
    {
     "name": "stdout",
     "output_type": "stream",
     "text": [
      "\n",
      "      Epoch    GPU_mem   box_loss   cls_loss   dfl_loss  Instances       Size\n"
     ]
    },
    {
     "name": "stderr",
     "output_type": "stream",
     "text": [
      "       8/50      5.06G      1.034     0.6637      1.002          6        640: 100%|██████████| 57/57 [00:14<00:00,  3.94it/s]\n",
      "                 Class     Images  Instances      Box(P          R      mAP50  mAP50-95): 100%|██████████| 29/29 [00:06<00:00,  4.47it/s]"
     ]
    },
    {
     "name": "stdout",
     "output_type": "stream",
     "text": [
      "                   all        900        900      0.964      0.942      0.985        0.7\n"
     ]
    },
    {
     "name": "stderr",
     "output_type": "stream",
     "text": [
      "\n"
     ]
    },
    {
     "name": "stdout",
     "output_type": "stream",
     "text": [
      "\n",
      "      Epoch    GPU_mem   box_loss   cls_loss   dfl_loss  Instances       Size\n"
     ]
    },
    {
     "name": "stderr",
     "output_type": "stream",
     "text": [
      "       9/50      5.06G      1.041      0.624     0.9936          6        640: 100%|██████████| 57/57 [00:14<00:00,  3.98it/s]\n",
      "                 Class     Images  Instances      Box(P          R      mAP50  mAP50-95): 100%|██████████| 29/29 [00:06<00:00,  4.65it/s]"
     ]
    },
    {
     "name": "stdout",
     "output_type": "stream",
     "text": [
      "                   all        900        900      0.962      0.964      0.987      0.721\n"
     ]
    },
    {
     "name": "stderr",
     "output_type": "stream",
     "text": [
      "\n"
     ]
    },
    {
     "name": "stdout",
     "output_type": "stream",
     "text": [
      "\n",
      "      Epoch    GPU_mem   box_loss   cls_loss   dfl_loss  Instances       Size\n"
     ]
    },
    {
     "name": "stderr",
     "output_type": "stream",
     "text": [
      "      10/50      5.08G          1      0.613      0.984          6        640: 100%|██████████| 57/57 [00:14<00:00,  3.93it/s]\n",
      "                 Class     Images  Instances      Box(P          R      mAP50  mAP50-95): 100%|██████████| 29/29 [00:06<00:00,  4.62it/s]"
     ]
    },
    {
     "name": "stdout",
     "output_type": "stream",
     "text": [
      "                   all        900        900      0.981      0.986      0.994      0.758\n"
     ]
    },
    {
     "name": "stderr",
     "output_type": "stream",
     "text": [
      "\n"
     ]
    },
    {
     "name": "stdout",
     "output_type": "stream",
     "text": [
      "\n",
      "      Epoch    GPU_mem   box_loss   cls_loss   dfl_loss  Instances       Size\n"
     ]
    },
    {
     "name": "stderr",
     "output_type": "stream",
     "text": [
      "      11/50       5.1G     0.9928     0.6119     0.9815          9        640: 100%|██████████| 57/57 [00:14<00:00,  3.95it/s]\n",
      "                 Class     Images  Instances      Box(P          R      mAP50  mAP50-95): 100%|██████████| 29/29 [00:06<00:00,  4.53it/s]"
     ]
    },
    {
     "name": "stdout",
     "output_type": "stream",
     "text": [
      "                   all        900        900      0.974      0.983      0.994      0.764\n"
     ]
    },
    {
     "name": "stderr",
     "output_type": "stream",
     "text": [
      "\n"
     ]
    },
    {
     "name": "stdout",
     "output_type": "stream",
     "text": [
      "\n",
      "      Epoch    GPU_mem   box_loss   cls_loss   dfl_loss  Instances       Size\n"
     ]
    },
    {
     "name": "stderr",
     "output_type": "stream",
     "text": [
      "      12/50      5.13G      1.002     0.5943     0.9806          4        640: 100%|██████████| 57/57 [00:14<00:00,  3.96it/s]\n",
      "                 Class     Images  Instances      Box(P          R      mAP50  mAP50-95): 100%|██████████| 29/29 [00:06<00:00,  4.66it/s]"
     ]
    },
    {
     "name": "stdout",
     "output_type": "stream",
     "text": [
      "                   all        900        900      0.984      0.987      0.994      0.763\n"
     ]
    },
    {
     "name": "stderr",
     "output_type": "stream",
     "text": [
      "\n"
     ]
    },
    {
     "name": "stdout",
     "output_type": "stream",
     "text": [
      "\n",
      "      Epoch    GPU_mem   box_loss   cls_loss   dfl_loss  Instances       Size\n"
     ]
    },
    {
     "name": "stderr",
     "output_type": "stream",
     "text": [
      "      13/50      5.13G      0.982     0.5826     0.9756          6        640: 100%|██████████| 57/57 [00:14<00:00,  3.94it/s]\n",
      "                 Class     Images  Instances      Box(P          R      mAP50  mAP50-95): 100%|██████████| 29/29 [00:06<00:00,  4.67it/s]"
     ]
    },
    {
     "name": "stdout",
     "output_type": "stream",
     "text": [
      "                   all        900        900      0.971      0.981      0.994      0.738\n"
     ]
    },
    {
     "name": "stderr",
     "output_type": "stream",
     "text": [
      "\n"
     ]
    },
    {
     "name": "stdout",
     "output_type": "stream",
     "text": [
      "\n",
      "      Epoch    GPU_mem   box_loss   cls_loss   dfl_loss  Instances       Size\n"
     ]
    },
    {
     "name": "stderr",
     "output_type": "stream",
     "text": [
      "      14/50      5.13G     0.9749     0.5878     0.9793          9        640: 100%|██████████| 57/57 [00:14<00:00,  3.95it/s]\n",
      "                 Class     Images  Instances      Box(P          R      mAP50  mAP50-95): 100%|██████████| 29/29 [00:06<00:00,  4.45it/s]"
     ]
    },
    {
     "name": "stdout",
     "output_type": "stream",
     "text": [
      "                   all        900        900      0.971      0.989      0.994      0.735\n"
     ]
    },
    {
     "name": "stderr",
     "output_type": "stream",
     "text": [
      "\n"
     ]
    },
    {
     "name": "stdout",
     "output_type": "stream",
     "text": [
      "\n",
      "      Epoch    GPU_mem   box_loss   cls_loss   dfl_loss  Instances       Size\n"
     ]
    },
    {
     "name": "stderr",
     "output_type": "stream",
     "text": [
      "      15/50      5.13G     0.9645     0.5676     0.9683          6        640: 100%|██████████| 57/57 [00:14<00:00,  3.95it/s]\n",
      "                 Class     Images  Instances      Box(P          R      mAP50  mAP50-95): 100%|██████████| 29/29 [00:06<00:00,  4.77it/s]"
     ]
    },
    {
     "name": "stdout",
     "output_type": "stream",
     "text": [
      "                   all        900        900      0.975      0.983      0.993      0.773\n"
     ]
    },
    {
     "name": "stderr",
     "output_type": "stream",
     "text": [
      "\n"
     ]
    },
    {
     "name": "stdout",
     "output_type": "stream",
     "text": [
      "\n",
      "      Epoch    GPU_mem   box_loss   cls_loss   dfl_loss  Instances       Size\n"
     ]
    },
    {
     "name": "stderr",
     "output_type": "stream",
     "text": [
      "      16/50      5.13G     0.9651     0.5636     0.9632          7        640: 100%|██████████| 57/57 [00:14<00:00,  3.93it/s]\n",
      "                 Class     Images  Instances      Box(P          R      mAP50  mAP50-95): 100%|██████████| 29/29 [00:06<00:00,  4.67it/s]"
     ]
    },
    {
     "name": "stdout",
     "output_type": "stream",
     "text": [
      "                   all        900        900       0.98      0.984      0.994      0.757\n"
     ]
    },
    {
     "name": "stderr",
     "output_type": "stream",
     "text": [
      "\n"
     ]
    },
    {
     "name": "stdout",
     "output_type": "stream",
     "text": [
      "\n",
      "      Epoch    GPU_mem   box_loss   cls_loss   dfl_loss  Instances       Size\n"
     ]
    },
    {
     "name": "stderr",
     "output_type": "stream",
     "text": [
      "      17/50      5.13G     0.9499     0.5589     0.9688          5        640: 100%|██████████| 57/57 [00:14<00:00,  3.96it/s]\n",
      "                 Class     Images  Instances      Box(P          R      mAP50  mAP50-95): 100%|██████████| 29/29 [00:06<00:00,  4.59it/s]"
     ]
    },
    {
     "name": "stdout",
     "output_type": "stream",
     "text": [
      "                   all        900        900      0.983      0.993      0.994      0.757\n"
     ]
    },
    {
     "name": "stderr",
     "output_type": "stream",
     "text": [
      "\n"
     ]
    },
    {
     "name": "stdout",
     "output_type": "stream",
     "text": [
      "\n",
      "      Epoch    GPU_mem   box_loss   cls_loss   dfl_loss  Instances       Size\n"
     ]
    },
    {
     "name": "stderr",
     "output_type": "stream",
     "text": [
      "      18/50      5.13G     0.9289     0.5426      0.954          7        640: 100%|██████████| 57/57 [00:14<00:00,  3.94it/s]\n",
      "                 Class     Images  Instances      Box(P          R      mAP50  mAP50-95): 100%|██████████| 29/29 [00:06<00:00,  4.64it/s]"
     ]
    },
    {
     "name": "stdout",
     "output_type": "stream",
     "text": [
      "                   all        900        900      0.985      0.894      0.939      0.705\n"
     ]
    },
    {
     "name": "stderr",
     "output_type": "stream",
     "text": [
      "\n"
     ]
    },
    {
     "name": "stdout",
     "output_type": "stream",
     "text": [
      "\n",
      "      Epoch    GPU_mem   box_loss   cls_loss   dfl_loss  Instances       Size\n"
     ]
    },
    {
     "name": "stderr",
     "output_type": "stream",
     "text": [
      "      19/50      5.13G     0.9034     0.5067      0.946          6        640: 100%|██████████| 57/57 [00:14<00:00,  3.94it/s]\n",
      "                 Class     Images  Instances      Box(P          R      mAP50  mAP50-95): 100%|██████████| 29/29 [00:06<00:00,  4.70it/s]"
     ]
    },
    {
     "name": "stdout",
     "output_type": "stream",
     "text": [
      "                   all        900        900      0.993      0.988      0.995       0.78\n"
     ]
    },
    {
     "name": "stderr",
     "output_type": "stream",
     "text": [
      "\n"
     ]
    },
    {
     "name": "stdout",
     "output_type": "stream",
     "text": [
      "\n",
      "      Epoch    GPU_mem   box_loss   cls_loss   dfl_loss  Instances       Size\n"
     ]
    },
    {
     "name": "stderr",
     "output_type": "stream",
     "text": [
      "      20/50      5.13G     0.9039     0.5231     0.9391         13        640: 100%|██████████| 57/57 [00:14<00:00,  3.96it/s]\n",
      "                 Class     Images  Instances      Box(P          R      mAP50  mAP50-95): 100%|██████████| 29/29 [00:06<00:00,  4.57it/s]"
     ]
    },
    {
     "name": "stdout",
     "output_type": "stream",
     "text": [
      "                   all        900        900      0.981      0.988      0.994      0.778\n"
     ]
    },
    {
     "name": "stderr",
     "output_type": "stream",
     "text": [
      "\n"
     ]
    },
    {
     "name": "stdout",
     "output_type": "stream",
     "text": [
      "\n",
      "      Epoch    GPU_mem   box_loss   cls_loss   dfl_loss  Instances       Size\n"
     ]
    },
    {
     "name": "stderr",
     "output_type": "stream",
     "text": [
      "      21/50      5.13G     0.8762      0.509     0.9474          5        640: 100%|██████████| 57/57 [00:14<00:00,  3.96it/s]\n",
      "                 Class     Images  Instances      Box(P          R      mAP50  mAP50-95): 100%|██████████| 29/29 [00:06<00:00,  4.69it/s]"
     ]
    },
    {
     "name": "stdout",
     "output_type": "stream",
     "text": [
      "                   all        900        900      0.984      0.997      0.994      0.791\n"
     ]
    },
    {
     "name": "stderr",
     "output_type": "stream",
     "text": [
      "\n"
     ]
    },
    {
     "name": "stdout",
     "output_type": "stream",
     "text": [
      "\n",
      "      Epoch    GPU_mem   box_loss   cls_loss   dfl_loss  Instances       Size\n"
     ]
    },
    {
     "name": "stderr",
     "output_type": "stream",
     "text": [
      "      22/50      5.13G     0.8551     0.4907     0.9359          7        640: 100%|██████████| 57/57 [00:14<00:00,  3.94it/s]\n",
      "                 Class     Images  Instances      Box(P          R      mAP50  mAP50-95): 100%|██████████| 29/29 [00:06<00:00,  4.74it/s]"
     ]
    },
    {
     "name": "stdout",
     "output_type": "stream",
     "text": [
      "                   all        900        900      0.994      0.995      0.995      0.768\n"
     ]
    },
    {
     "name": "stderr",
     "output_type": "stream",
     "text": [
      "\n"
     ]
    },
    {
     "name": "stdout",
     "output_type": "stream",
     "text": [
      "\n",
      "      Epoch    GPU_mem   box_loss   cls_loss   dfl_loss  Instances       Size\n"
     ]
    },
    {
     "name": "stderr",
     "output_type": "stream",
     "text": [
      "      23/50      5.13G     0.8916     0.5086     0.9422          6        640: 100%|██████████| 57/57 [00:14<00:00,  3.94it/s]\n",
      "                 Class     Images  Instances      Box(P          R      mAP50  mAP50-95): 100%|██████████| 29/29 [00:06<00:00,  4.62it/s]"
     ]
    },
    {
     "name": "stdout",
     "output_type": "stream",
     "text": [
      "                   all        900        900      0.994      0.993      0.995      0.762\n"
     ]
    },
    {
     "name": "stderr",
     "output_type": "stream",
     "text": [
      "\n"
     ]
    },
    {
     "name": "stdout",
     "output_type": "stream",
     "text": [
      "\n",
      "      Epoch    GPU_mem   box_loss   cls_loss   dfl_loss  Instances       Size\n"
     ]
    },
    {
     "name": "stderr",
     "output_type": "stream",
     "text": [
      "      24/50      5.13G     0.8948     0.4934     0.9417         10        640: 100%|██████████| 57/57 [00:14<00:00,  3.96it/s]\n",
      "                 Class     Images  Instances      Box(P          R      mAP50  mAP50-95): 100%|██████████| 29/29 [00:06<00:00,  4.80it/s]"
     ]
    },
    {
     "name": "stdout",
     "output_type": "stream",
     "text": [
      "                   all        900        900      0.998      0.994      0.995      0.809\n"
     ]
    },
    {
     "name": "stderr",
     "output_type": "stream",
     "text": [
      "\n"
     ]
    },
    {
     "name": "stdout",
     "output_type": "stream",
     "text": [
      "\n",
      "      Epoch    GPU_mem   box_loss   cls_loss   dfl_loss  Instances       Size\n"
     ]
    },
    {
     "name": "stderr",
     "output_type": "stream",
     "text": [
      "      25/50      5.13G     0.8838     0.4868      0.935          8        640: 100%|██████████| 57/57 [00:14<00:00,  3.94it/s]\n",
      "                 Class     Images  Instances      Box(P          R      mAP50  mAP50-95): 100%|██████████| 29/29 [00:06<00:00,  4.69it/s]"
     ]
    },
    {
     "name": "stdout",
     "output_type": "stream",
     "text": [
      "                   all        900        900      0.988          1      0.995      0.775\n"
     ]
    },
    {
     "name": "stderr",
     "output_type": "stream",
     "text": [
      "\n"
     ]
    },
    {
     "name": "stdout",
     "output_type": "stream",
     "text": [
      "\n",
      "      Epoch    GPU_mem   box_loss   cls_loss   dfl_loss  Instances       Size\n"
     ]
    },
    {
     "name": "stderr",
     "output_type": "stream",
     "text": [
      "      26/50      5.13G     0.8708     0.4843     0.9353          7        640: 100%|██████████| 57/57 [00:14<00:00,  3.95it/s]\n",
      "                 Class     Images  Instances      Box(P          R      mAP50  mAP50-95): 100%|██████████| 29/29 [00:06<00:00,  4.73it/s]"
     ]
    },
    {
     "name": "stdout",
     "output_type": "stream",
     "text": [
      "                   all        900        900      0.996      0.998      0.995      0.783\n"
     ]
    },
    {
     "name": "stderr",
     "output_type": "stream",
     "text": [
      "\n"
     ]
    },
    {
     "name": "stdout",
     "output_type": "stream",
     "text": [
      "\n",
      "      Epoch    GPU_mem   box_loss   cls_loss   dfl_loss  Instances       Size\n"
     ]
    },
    {
     "name": "stderr",
     "output_type": "stream",
     "text": [
      "      27/50      5.13G      0.892      0.502     0.9378          7        640: 100%|██████████| 57/57 [00:14<00:00,  3.93it/s]\n",
      "                 Class     Images  Instances      Box(P          R      mAP50  mAP50-95): 100%|██████████| 29/29 [00:06<00:00,  4.68it/s]"
     ]
    },
    {
     "name": "stdout",
     "output_type": "stream",
     "text": [
      "                   all        900        900      0.995      0.996      0.995      0.786\n"
     ]
    },
    {
     "name": "stderr",
     "output_type": "stream",
     "text": [
      "\n"
     ]
    },
    {
     "name": "stdout",
     "output_type": "stream",
     "text": [
      "\n",
      "      Epoch    GPU_mem   box_loss   cls_loss   dfl_loss  Instances       Size\n"
     ]
    },
    {
     "name": "stderr",
     "output_type": "stream",
     "text": [
      "      28/50      5.13G     0.8523     0.4764     0.9367          5        640: 100%|██████████| 57/57 [00:14<00:00,  3.93it/s]\n",
      "                 Class     Images  Instances      Box(P          R      mAP50  mAP50-95): 100%|██████████| 29/29 [00:06<00:00,  4.70it/s]"
     ]
    },
    {
     "name": "stdout",
     "output_type": "stream",
     "text": [
      "                   all        900        900      0.996      0.994      0.995      0.805\n"
     ]
    },
    {
     "name": "stderr",
     "output_type": "stream",
     "text": [
      "\n"
     ]
    },
    {
     "name": "stdout",
     "output_type": "stream",
     "text": [
      "\n",
      "      Epoch    GPU_mem   box_loss   cls_loss   dfl_loss  Instances       Size\n"
     ]
    },
    {
     "name": "stderr",
     "output_type": "stream",
     "text": [
      "      29/50      5.13G     0.8373     0.4519     0.9195          7        640: 100%|██████████| 57/57 [00:14<00:00,  3.95it/s]\n",
      "                 Class     Images  Instances      Box(P          R      mAP50  mAP50-95): 100%|██████████| 29/29 [00:06<00:00,  4.70it/s]"
     ]
    },
    {
     "name": "stdout",
     "output_type": "stream",
     "text": [
      "                   all        900        900      0.994      0.994      0.995      0.813\n"
     ]
    },
    {
     "name": "stderr",
     "output_type": "stream",
     "text": [
      "\n"
     ]
    },
    {
     "name": "stdout",
     "output_type": "stream",
     "text": [
      "\n",
      "      Epoch    GPU_mem   box_loss   cls_loss   dfl_loss  Instances       Size\n"
     ]
    },
    {
     "name": "stderr",
     "output_type": "stream",
     "text": [
      "      30/50      5.13G     0.8361     0.4507     0.9266         13        640: 100%|██████████| 57/57 [00:14<00:00,  3.93it/s]\n",
      "                 Class     Images  Instances      Box(P          R      mAP50  mAP50-95): 100%|██████████| 29/29 [00:06<00:00,  4.77it/s]"
     ]
    },
    {
     "name": "stdout",
     "output_type": "stream",
     "text": [
      "                   all        900        900      0.998      0.999      0.995      0.808\n"
     ]
    },
    {
     "name": "stderr",
     "output_type": "stream",
     "text": [
      "\n"
     ]
    },
    {
     "name": "stdout",
     "output_type": "stream",
     "text": [
      "\n",
      "      Epoch    GPU_mem   box_loss   cls_loss   dfl_loss  Instances       Size\n"
     ]
    },
    {
     "name": "stderr",
     "output_type": "stream",
     "text": [
      "      31/50      5.13G      0.807     0.4506     0.9194          9        640: 100%|██████████| 57/57 [00:14<00:00,  3.93it/s]\n",
      "                 Class     Images  Instances      Box(P          R      mAP50  mAP50-95): 100%|██████████| 29/29 [00:06<00:00,  4.70it/s]"
     ]
    },
    {
     "name": "stdout",
     "output_type": "stream",
     "text": [
      "                   all        900        900      0.996      0.997      0.995      0.803\n"
     ]
    },
    {
     "name": "stderr",
     "output_type": "stream",
     "text": [
      "\n"
     ]
    },
    {
     "name": "stdout",
     "output_type": "stream",
     "text": [
      "\n",
      "      Epoch    GPU_mem   box_loss   cls_loss   dfl_loss  Instances       Size\n"
     ]
    },
    {
     "name": "stderr",
     "output_type": "stream",
     "text": [
      "      32/50      5.13G     0.8336     0.4502     0.9193         15        640: 100%|██████████| 57/57 [00:14<00:00,  3.95it/s]\n",
      "                 Class     Images  Instances      Box(P          R      mAP50  mAP50-95): 100%|██████████| 29/29 [00:06<00:00,  4.83it/s]"
     ]
    },
    {
     "name": "stdout",
     "output_type": "stream",
     "text": [
      "                   all        900        900      0.995      0.999      0.995      0.807\n"
     ]
    },
    {
     "name": "stderr",
     "output_type": "stream",
     "text": [
      "\n"
     ]
    },
    {
     "name": "stdout",
     "output_type": "stream",
     "text": [
      "\n",
      "      Epoch    GPU_mem   box_loss   cls_loss   dfl_loss  Instances       Size\n"
     ]
    },
    {
     "name": "stderr",
     "output_type": "stream",
     "text": [
      "      33/50      5.13G     0.8319     0.4501     0.9205          5        640: 100%|██████████| 57/57 [00:14<00:00,  3.93it/s]\n",
      "                 Class     Images  Instances      Box(P          R      mAP50  mAP50-95): 100%|██████████| 29/29 [00:06<00:00,  4.82it/s]"
     ]
    },
    {
     "name": "stdout",
     "output_type": "stream",
     "text": [
      "                   all        900        900      0.996      0.998      0.995      0.806\n"
     ]
    },
    {
     "name": "stderr",
     "output_type": "stream",
     "text": [
      "\n"
     ]
    },
    {
     "name": "stdout",
     "output_type": "stream",
     "text": [
      "\n",
      "      Epoch    GPU_mem   box_loss   cls_loss   dfl_loss  Instances       Size\n"
     ]
    },
    {
     "name": "stderr",
     "output_type": "stream",
     "text": [
      "      34/50      5.13G     0.8061     0.4378     0.9152         10        640: 100%|██████████| 57/57 [00:14<00:00,  3.93it/s]\n",
      "                 Class     Images  Instances      Box(P          R      mAP50  mAP50-95): 100%|██████████| 29/29 [00:06<00:00,  4.67it/s]"
     ]
    },
    {
     "name": "stdout",
     "output_type": "stream",
     "text": [
      "                   all        900        900      0.998      0.996      0.995       0.82\n"
     ]
    },
    {
     "name": "stderr",
     "output_type": "stream",
     "text": [
      "\n"
     ]
    },
    {
     "name": "stdout",
     "output_type": "stream",
     "text": [
      "\n",
      "      Epoch    GPU_mem   box_loss   cls_loss   dfl_loss  Instances       Size\n"
     ]
    },
    {
     "name": "stderr",
     "output_type": "stream",
     "text": [
      "      35/50      5.13G     0.7978     0.4295     0.9072         10        640: 100%|██████████| 57/57 [00:14<00:00,  3.94it/s]\n",
      "                 Class     Images  Instances      Box(P          R      mAP50  mAP50-95): 100%|██████████| 29/29 [00:06<00:00,  4.81it/s]"
     ]
    },
    {
     "name": "stdout",
     "output_type": "stream",
     "text": [
      "                   all        900        900      0.992      0.998      0.995      0.817\n"
     ]
    },
    {
     "name": "stderr",
     "output_type": "stream",
     "text": [
      "\n"
     ]
    },
    {
     "name": "stdout",
     "output_type": "stream",
     "text": [
      "\n",
      "      Epoch    GPU_mem   box_loss   cls_loss   dfl_loss  Instances       Size\n"
     ]
    },
    {
     "name": "stderr",
     "output_type": "stream",
     "text": [
      "      36/50      5.13G     0.7858     0.4307     0.9043         10        640: 100%|██████████| 57/57 [00:14<00:00,  3.93it/s]\n",
      "                 Class     Images  Instances      Box(P          R      mAP50  mAP50-95): 100%|██████████| 29/29 [00:06<00:00,  4.72it/s]"
     ]
    },
    {
     "name": "stdout",
     "output_type": "stream",
     "text": [
      "                   all        900        900      0.994      0.997      0.995      0.827\n"
     ]
    },
    {
     "name": "stderr",
     "output_type": "stream",
     "text": [
      "\n"
     ]
    },
    {
     "name": "stdout",
     "output_type": "stream",
     "text": [
      "\n",
      "      Epoch    GPU_mem   box_loss   cls_loss   dfl_loss  Instances       Size\n"
     ]
    },
    {
     "name": "stderr",
     "output_type": "stream",
     "text": [
      "      37/50      5.13G     0.8066     0.4292     0.9127          4        640: 100%|██████████| 57/57 [00:14<00:00,  3.95it/s]\n",
      "                 Class     Images  Instances      Box(P          R      mAP50  mAP50-95): 100%|██████████| 29/29 [00:06<00:00,  4.63it/s]"
     ]
    },
    {
     "name": "stdout",
     "output_type": "stream",
     "text": [
      "                   all        900        900      0.995          1      0.995       0.81\n"
     ]
    },
    {
     "name": "stderr",
     "output_type": "stream",
     "text": [
      "\n"
     ]
    },
    {
     "name": "stdout",
     "output_type": "stream",
     "text": [
      "\n",
      "      Epoch    GPU_mem   box_loss   cls_loss   dfl_loss  Instances       Size\n"
     ]
    },
    {
     "name": "stderr",
     "output_type": "stream",
     "text": [
      "      38/50      5.13G     0.7885     0.4206     0.9127         14        640: 100%|██████████| 57/57 [00:14<00:00,  3.94it/s]\n",
      "                 Class     Images  Instances      Box(P          R      mAP50  mAP50-95): 100%|██████████| 29/29 [00:06<00:00,  4.74it/s]"
     ]
    },
    {
     "name": "stdout",
     "output_type": "stream",
     "text": [
      "                   all        900        900      0.998          1      0.995      0.828\n"
     ]
    },
    {
     "name": "stderr",
     "output_type": "stream",
     "text": [
      "\n"
     ]
    },
    {
     "name": "stdout",
     "output_type": "stream",
     "text": [
      "\n",
      "      Epoch    GPU_mem   box_loss   cls_loss   dfl_loss  Instances       Size\n"
     ]
    },
    {
     "name": "stderr",
     "output_type": "stream",
     "text": [
      "      39/50      5.13G     0.7739     0.4076     0.9037         11        640: 100%|██████████| 57/57 [00:14<00:00,  3.93it/s]\n",
      "                 Class     Images  Instances      Box(P          R      mAP50  mAP50-95): 100%|██████████| 29/29 [00:06<00:00,  4.75it/s]"
     ]
    },
    {
     "name": "stdout",
     "output_type": "stream",
     "text": [
      "                   all        900        900      0.997      0.999      0.995      0.836\n"
     ]
    },
    {
     "name": "stderr",
     "output_type": "stream",
     "text": [
      "\n"
     ]
    },
    {
     "name": "stdout",
     "output_type": "stream",
     "text": [
      "\n",
      "      Epoch    GPU_mem   box_loss   cls_loss   dfl_loss  Instances       Size\n"
     ]
    },
    {
     "name": "stderr",
     "output_type": "stream",
     "text": [
      "      40/50      5.13G      0.766      0.408     0.9033          8        640: 100%|██████████| 57/57 [00:14<00:00,  3.95it/s]\n",
      "                 Class     Images  Instances      Box(P          R      mAP50  mAP50-95): 100%|██████████| 29/29 [00:06<00:00,  4.59it/s]"
     ]
    },
    {
     "name": "stdout",
     "output_type": "stream",
     "text": [
      "                   all        900        900      0.997          1      0.995      0.823\n"
     ]
    },
    {
     "name": "stderr",
     "output_type": "stream",
     "text": [
      "\n"
     ]
    },
    {
     "name": "stdout",
     "output_type": "stream",
     "text": [
      "Closing dataloader mosaic\n",
      "\u001b[34m\u001b[1malbumentations: \u001b[0mBlur(p=0.01, blur_limit=(3, 7)), MedianBlur(p=0.01, blur_limit=(3, 7)), ToGray(p=0.01, num_output_channels=3, method='weighted_average'), CLAHE(p=0.01, clip_limit=(1.0, 4.0), tile_grid_size=(8, 8))\n",
      "\n",
      "      Epoch    GPU_mem   box_loss   cls_loss   dfl_loss  Instances       Size\n"
     ]
    },
    {
     "name": "stderr",
     "output_type": "stream",
     "text": [
      "      41/50      5.13G     0.7351     0.3769     0.8836          4        640: 100%|██████████| 57/57 [00:14<00:00,  3.85it/s]\n",
      "                 Class     Images  Instances      Box(P          R      mAP50  mAP50-95): 100%|██████████| 29/29 [00:06<00:00,  4.70it/s]"
     ]
    },
    {
     "name": "stdout",
     "output_type": "stream",
     "text": [
      "                   all        900        900      0.994      0.998      0.995      0.834\n"
     ]
    },
    {
     "name": "stderr",
     "output_type": "stream",
     "text": [
      "\n"
     ]
    },
    {
     "name": "stdout",
     "output_type": "stream",
     "text": [
      "\n",
      "      Epoch    GPU_mem   box_loss   cls_loss   dfl_loss  Instances       Size\n"
     ]
    },
    {
     "name": "stderr",
     "output_type": "stream",
     "text": [
      "      42/50      5.14G     0.7302     0.3757     0.8835          4        640: 100%|██████████| 57/57 [00:14<00:00,  3.94it/s]\n",
      "                 Class     Images  Instances      Box(P          R      mAP50  mAP50-95): 100%|██████████| 29/29 [00:06<00:00,  4.69it/s]"
     ]
    },
    {
     "name": "stdout",
     "output_type": "stream",
     "text": [
      "                   all        900        900      0.996      0.999      0.995      0.834\n"
     ]
    },
    {
     "name": "stderr",
     "output_type": "stream",
     "text": [
      "\n"
     ]
    },
    {
     "name": "stdout",
     "output_type": "stream",
     "text": [
      "\n",
      "      Epoch    GPU_mem   box_loss   cls_loss   dfl_loss  Instances       Size\n"
     ]
    },
    {
     "name": "stderr",
     "output_type": "stream",
     "text": [
      "      43/50      5.14G     0.7339     0.3678     0.8825          4        640: 100%|██████████| 57/57 [00:14<00:00,  3.97it/s]\n",
      "                 Class     Images  Instances      Box(P          R      mAP50  mAP50-95): 100%|██████████| 29/29 [00:06<00:00,  4.67it/s]"
     ]
    },
    {
     "name": "stdout",
     "output_type": "stream",
     "text": [
      "                   all        900        900      0.999      0.999      0.995      0.841\n"
     ]
    },
    {
     "name": "stderr",
     "output_type": "stream",
     "text": [
      "\n"
     ]
    },
    {
     "name": "stdout",
     "output_type": "stream",
     "text": [
      "\n",
      "      Epoch    GPU_mem   box_loss   cls_loss   dfl_loss  Instances       Size\n"
     ]
    },
    {
     "name": "stderr",
     "output_type": "stream",
     "text": [
      "      44/50      5.14G      0.719     0.3633     0.8783          3        640: 100%|██████████| 57/57 [00:14<00:00,  3.96it/s]\n",
      "                 Class     Images  Instances      Box(P          R      mAP50  mAP50-95): 100%|██████████| 29/29 [00:06<00:00,  4.71it/s]"
     ]
    },
    {
     "name": "stdout",
     "output_type": "stream",
     "text": [
      "                   all        900        900      0.998      0.997      0.995       0.84\n"
     ]
    },
    {
     "name": "stderr",
     "output_type": "stream",
     "text": [
      "\n"
     ]
    },
    {
     "name": "stdout",
     "output_type": "stream",
     "text": [
      "\n",
      "      Epoch    GPU_mem   box_loss   cls_loss   dfl_loss  Instances       Size\n"
     ]
    },
    {
     "name": "stderr",
     "output_type": "stream",
     "text": [
      "      45/50      5.14G     0.7115     0.3559     0.8727          4        640: 100%|██████████| 57/57 [00:14<00:00,  3.94it/s]\n",
      "                 Class     Images  Instances      Box(P          R      mAP50  mAP50-95): 100%|██████████| 29/29 [00:06<00:00,  4.74it/s]"
     ]
    },
    {
     "name": "stdout",
     "output_type": "stream",
     "text": [
      "                   all        900        900      0.997      0.999      0.995      0.854\n"
     ]
    },
    {
     "name": "stderr",
     "output_type": "stream",
     "text": [
      "\n"
     ]
    },
    {
     "name": "stdout",
     "output_type": "stream",
     "text": [
      "\n",
      "      Epoch    GPU_mem   box_loss   cls_loss   dfl_loss  Instances       Size\n"
     ]
    },
    {
     "name": "stderr",
     "output_type": "stream",
     "text": [
      "      46/50      5.15G      0.691     0.3449     0.8706          4        640: 100%|██████████| 57/57 [00:14<00:00,  3.96it/s]\n",
      "                 Class     Images  Instances      Box(P          R      mAP50  mAP50-95): 100%|██████████| 29/29 [00:06<00:00,  4.63it/s]"
     ]
    },
    {
     "name": "stdout",
     "output_type": "stream",
     "text": [
      "                   all        900        900      0.996          1      0.995      0.852\n"
     ]
    },
    {
     "name": "stderr",
     "output_type": "stream",
     "text": [
      "\n"
     ]
    },
    {
     "name": "stdout",
     "output_type": "stream",
     "text": [
      "\n",
      "      Epoch    GPU_mem   box_loss   cls_loss   dfl_loss  Instances       Size\n"
     ]
    },
    {
     "name": "stderr",
     "output_type": "stream",
     "text": [
      "      47/50      5.17G     0.6928      0.342     0.8781          4        640: 100%|██████████| 57/57 [00:14<00:00,  3.96it/s]\n",
      "                 Class     Images  Instances      Box(P          R      mAP50  mAP50-95): 100%|██████████| 29/29 [00:06<00:00,  4.76it/s]"
     ]
    },
    {
     "name": "stdout",
     "output_type": "stream",
     "text": [
      "                   all        900        900      0.998          1      0.995      0.854\n"
     ]
    },
    {
     "name": "stderr",
     "output_type": "stream",
     "text": [
      "\n"
     ]
    },
    {
     "name": "stdout",
     "output_type": "stream",
     "text": [
      "\n",
      "      Epoch    GPU_mem   box_loss   cls_loss   dfl_loss  Instances       Size\n"
     ]
    },
    {
     "name": "stderr",
     "output_type": "stream",
     "text": [
      "      48/50      5.22G     0.6891       0.34     0.8711          4        640: 100%|██████████| 57/57 [00:14<00:00,  3.94it/s]\n",
      "                 Class     Images  Instances      Box(P          R      mAP50  mAP50-95): 100%|██████████| 29/29 [00:06<00:00,  4.82it/s]"
     ]
    },
    {
     "name": "stdout",
     "output_type": "stream",
     "text": [
      "                   all        900        900      0.996          1      0.995      0.855\n"
     ]
    },
    {
     "name": "stderr",
     "output_type": "stream",
     "text": [
      "\n"
     ]
    },
    {
     "name": "stdout",
     "output_type": "stream",
     "text": [
      "\n",
      "      Epoch    GPU_mem   box_loss   cls_loss   dfl_loss  Instances       Size\n"
     ]
    },
    {
     "name": "stderr",
     "output_type": "stream",
     "text": [
      "      49/50      5.24G     0.6836     0.3355     0.8665          4        640: 100%|██████████| 57/57 [00:14<00:00,  3.95it/s]\n",
      "                 Class     Images  Instances      Box(P          R      mAP50  mAP50-95): 100%|██████████| 29/29 [00:06<00:00,  4.70it/s]"
     ]
    },
    {
     "name": "stdout",
     "output_type": "stream",
     "text": [
      "                   all        900        900      0.998          1      0.995      0.858\n"
     ]
    },
    {
     "name": "stderr",
     "output_type": "stream",
     "text": [
      "\n"
     ]
    },
    {
     "name": "stdout",
     "output_type": "stream",
     "text": [
      "\n",
      "      Epoch    GPU_mem   box_loss   cls_loss   dfl_loss  Instances       Size\n"
     ]
    },
    {
     "name": "stderr",
     "output_type": "stream",
     "text": [
      "      50/50      5.24G      0.653     0.3225      0.866          4        640: 100%|██████████| 57/57 [00:14<00:00,  3.96it/s]\n",
      "                 Class     Images  Instances      Box(P          R      mAP50  mAP50-95): 100%|██████████| 29/29 [00:06<00:00,  4.78it/s]"
     ]
    },
    {
     "name": "stdout",
     "output_type": "stream",
     "text": [
      "                   all        900        900      0.999          1      0.995      0.864\n"
     ]
    },
    {
     "name": "stderr",
     "output_type": "stream",
     "text": [
      "\n"
     ]
    },
    {
     "name": "stdout",
     "output_type": "stream",
     "text": [
      "\n",
      "50 epochs completed in 0.295 hours.\n",
      "Optimizer stripped from runs/detect/train/weights/last.pt, 22.5MB\n",
      "Optimizer stripped from runs/detect/train/weights/best.pt, 22.5MB\n",
      "\n",
      "Validating runs/detect/train/weights/best.pt...\n",
      "Ultralytics 8.3.155 🚀 Python-3.11.11 torch-2.6.0+cu124 CUDA:0 (Tesla T4, 15095MiB)\n",
      "Model summary (fused): 72 layers, 11,125,971 parameters, 0 gradients, 28.4 GFLOPs\n"
     ]
    },
    {
     "name": "stderr",
     "output_type": "stream",
     "text": [
      "                 Class     Images  Instances      Box(P          R      mAP50  mAP50-95): 100%|██████████| 29/29 [00:06<00:00,  4.34it/s]\n",
      "/usr/local/lib/python3.11/dist-packages/matplotlib/colors.py:721: RuntimeWarning: invalid value encountered in less\n",
      "  xa[xa < 0] = -1\n",
      "/usr/local/lib/python3.11/dist-packages/matplotlib/colors.py:721: RuntimeWarning: invalid value encountered in less\n",
      "  xa[xa < 0] = -1\n"
     ]
    },
    {
     "name": "stdout",
     "output_type": "stream",
     "text": [
      "                   all        900        900      0.999          1      0.995      0.863\n",
      "Speed: 0.1ms preprocess, 3.1ms inference, 0.0ms loss, 1.3ms postprocess per image\n",
      "Results saved to \u001b[1mruns/detect/train\u001b[0m\n"
     ]
    },
    {
     "data": {
      "text/plain": [
       "ultralytics.utils.metrics.DetMetrics object with attributes:\n",
       "\n",
       "ap_class_index: array([0])\n",
       "box: ultralytics.utils.metrics.Metric object\n",
       "confusion_matrix: <ultralytics.utils.metrics.ConfusionMatrix object at 0x799858d8e210>\n",
       "curves: ['Precision-Recall(B)', 'F1-Confidence(B)', 'Precision-Confidence(B)', 'Recall-Confidence(B)']\n",
       "curves_results: [[array([          0,    0.001001,    0.002002,    0.003003,    0.004004,    0.005005,    0.006006,    0.007007,    0.008008,    0.009009,     0.01001,    0.011011,    0.012012,    0.013013,    0.014014,    0.015015,    0.016016,    0.017017,    0.018018,    0.019019,     0.02002,    0.021021,    0.022022,    0.023023,\n",
       "          0.024024,    0.025025,    0.026026,    0.027027,    0.028028,    0.029029,     0.03003,    0.031031,    0.032032,    0.033033,    0.034034,    0.035035,    0.036036,    0.037037,    0.038038,    0.039039,     0.04004,    0.041041,    0.042042,    0.043043,    0.044044,    0.045045,    0.046046,    0.047047,\n",
       "          0.048048,    0.049049,     0.05005,    0.051051,    0.052052,    0.053053,    0.054054,    0.055055,    0.056056,    0.057057,    0.058058,    0.059059,     0.06006,    0.061061,    0.062062,    0.063063,    0.064064,    0.065065,    0.066066,    0.067067,    0.068068,    0.069069,     0.07007,    0.071071,\n",
       "          0.072072,    0.073073,    0.074074,    0.075075,    0.076076,    0.077077,    0.078078,    0.079079,     0.08008,    0.081081,    0.082082,    0.083083,    0.084084,    0.085085,    0.086086,    0.087087,    0.088088,    0.089089,     0.09009,    0.091091,    0.092092,    0.093093,    0.094094,    0.095095,\n",
       "          0.096096,    0.097097,    0.098098,    0.099099,      0.1001,      0.1011,      0.1021,      0.1031,      0.1041,     0.10511,     0.10611,     0.10711,     0.10811,     0.10911,     0.11011,     0.11111,     0.11211,     0.11311,     0.11411,     0.11512,     0.11612,     0.11712,     0.11812,     0.11912,\n",
       "           0.12012,     0.12112,     0.12212,     0.12312,     0.12412,     0.12513,     0.12613,     0.12713,     0.12813,     0.12913,     0.13013,     0.13113,     0.13213,     0.13313,     0.13413,     0.13514,     0.13614,     0.13714,     0.13814,     0.13914,     0.14014,     0.14114,     0.14214,     0.14314,\n",
       "           0.14414,     0.14515,     0.14615,     0.14715,     0.14815,     0.14915,     0.15015,     0.15115,     0.15215,     0.15315,     0.15415,     0.15516,     0.15616,     0.15716,     0.15816,     0.15916,     0.16016,     0.16116,     0.16216,     0.16316,     0.16416,     0.16517,     0.16617,     0.16717,\n",
       "           0.16817,     0.16917,     0.17017,     0.17117,     0.17217,     0.17317,     0.17417,     0.17518,     0.17618,     0.17718,     0.17818,     0.17918,     0.18018,     0.18118,     0.18218,     0.18318,     0.18418,     0.18519,     0.18619,     0.18719,     0.18819,     0.18919,     0.19019,     0.19119,\n",
       "           0.19219,     0.19319,     0.19419,      0.1952,      0.1962,      0.1972,      0.1982,      0.1992,      0.2002,      0.2012,      0.2022,      0.2032,      0.2042,     0.20521,     0.20621,     0.20721,     0.20821,     0.20921,     0.21021,     0.21121,     0.21221,     0.21321,     0.21421,     0.21522,\n",
       "           0.21622,     0.21722,     0.21822,     0.21922,     0.22022,     0.22122,     0.22222,     0.22322,     0.22422,     0.22523,     0.22623,     0.22723,     0.22823,     0.22923,     0.23023,     0.23123,     0.23223,     0.23323,     0.23423,     0.23524,     0.23624,     0.23724,     0.23824,     0.23924,\n",
       "           0.24024,     0.24124,     0.24224,     0.24324,     0.24424,     0.24525,     0.24625,     0.24725,     0.24825,     0.24925,     0.25025,     0.25125,     0.25225,     0.25325,     0.25425,     0.25526,     0.25626,     0.25726,     0.25826,     0.25926,     0.26026,     0.26126,     0.26226,     0.26326,\n",
       "           0.26426,     0.26527,     0.26627,     0.26727,     0.26827,     0.26927,     0.27027,     0.27127,     0.27227,     0.27327,     0.27427,     0.27528,     0.27628,     0.27728,     0.27828,     0.27928,     0.28028,     0.28128,     0.28228,     0.28328,     0.28428,     0.28529,     0.28629,     0.28729,\n",
       "           0.28829,     0.28929,     0.29029,     0.29129,     0.29229,     0.29329,     0.29429,      0.2953,      0.2963,      0.2973,      0.2983,      0.2993,      0.3003,      0.3013,      0.3023,      0.3033,      0.3043,     0.30531,     0.30631,     0.30731,     0.30831,     0.30931,     0.31031,     0.31131,\n",
       "           0.31231,     0.31331,     0.31431,     0.31532,     0.31632,     0.31732,     0.31832,     0.31932,     0.32032,     0.32132,     0.32232,     0.32332,     0.32432,     0.32533,     0.32633,     0.32733,     0.32833,     0.32933,     0.33033,     0.33133,     0.33233,     0.33333,     0.33433,     0.33534,\n",
       "           0.33634,     0.33734,     0.33834,     0.33934,     0.34034,     0.34134,     0.34234,     0.34334,     0.34434,     0.34535,     0.34635,     0.34735,     0.34835,     0.34935,     0.35035,     0.35135,     0.35235,     0.35335,     0.35435,     0.35536,     0.35636,     0.35736,     0.35836,     0.35936,\n",
       "           0.36036,     0.36136,     0.36236,     0.36336,     0.36436,     0.36537,     0.36637,     0.36737,     0.36837,     0.36937,     0.37037,     0.37137,     0.37237,     0.37337,     0.37437,     0.37538,     0.37638,     0.37738,     0.37838,     0.37938,     0.38038,     0.38138,     0.38238,     0.38338,\n",
       "           0.38438,     0.38539,     0.38639,     0.38739,     0.38839,     0.38939,     0.39039,     0.39139,     0.39239,     0.39339,     0.39439,      0.3954,      0.3964,      0.3974,      0.3984,      0.3994,      0.4004,      0.4014,      0.4024,      0.4034,      0.4044,     0.40541,     0.40641,     0.40741,\n",
       "           0.40841,     0.40941,     0.41041,     0.41141,     0.41241,     0.41341,     0.41441,     0.41542,     0.41642,     0.41742,     0.41842,     0.41942,     0.42042,     0.42142,     0.42242,     0.42342,     0.42442,     0.42543,     0.42643,     0.42743,     0.42843,     0.42943,     0.43043,     0.43143,\n",
       "           0.43243,     0.43343,     0.43443,     0.43544,     0.43644,     0.43744,     0.43844,     0.43944,     0.44044,     0.44144,     0.44244,     0.44344,     0.44444,     0.44545,     0.44645,     0.44745,     0.44845,     0.44945,     0.45045,     0.45145,     0.45245,     0.45345,     0.45445,     0.45546,\n",
       "           0.45646,     0.45746,     0.45846,     0.45946,     0.46046,     0.46146,     0.46246,     0.46346,     0.46446,     0.46547,     0.46647,     0.46747,     0.46847,     0.46947,     0.47047,     0.47147,     0.47247,     0.47347,     0.47447,     0.47548,     0.47648,     0.47748,     0.47848,     0.47948,\n",
       "           0.48048,     0.48148,     0.48248,     0.48348,     0.48448,     0.48549,     0.48649,     0.48749,     0.48849,     0.48949,     0.49049,     0.49149,     0.49249,     0.49349,     0.49449,      0.4955,      0.4965,      0.4975,      0.4985,      0.4995,      0.5005,      0.5015,      0.5025,      0.5035,\n",
       "            0.5045,     0.50551,     0.50651,     0.50751,     0.50851,     0.50951,     0.51051,     0.51151,     0.51251,     0.51351,     0.51451,     0.51552,     0.51652,     0.51752,     0.51852,     0.51952,     0.52052,     0.52152,     0.52252,     0.52352,     0.52452,     0.52553,     0.52653,     0.52753,\n",
       "           0.52853,     0.52953,     0.53053,     0.53153,     0.53253,     0.53353,     0.53453,     0.53554,     0.53654,     0.53754,     0.53854,     0.53954,     0.54054,     0.54154,     0.54254,     0.54354,     0.54454,     0.54555,     0.54655,     0.54755,     0.54855,     0.54955,     0.55055,     0.55155,\n",
       "           0.55255,     0.55355,     0.55455,     0.55556,     0.55656,     0.55756,     0.55856,     0.55956,     0.56056,     0.56156,     0.56256,     0.56356,     0.56456,     0.56557,     0.56657,     0.56757,     0.56857,     0.56957,     0.57057,     0.57157,     0.57257,     0.57357,     0.57457,     0.57558,\n",
       "           0.57658,     0.57758,     0.57858,     0.57958,     0.58058,     0.58158,     0.58258,     0.58358,     0.58458,     0.58559,     0.58659,     0.58759,     0.58859,     0.58959,     0.59059,     0.59159,     0.59259,     0.59359,     0.59459,      0.5956,      0.5966,      0.5976,      0.5986,      0.5996,\n",
       "            0.6006,      0.6016,      0.6026,      0.6036,      0.6046,     0.60561,     0.60661,     0.60761,     0.60861,     0.60961,     0.61061,     0.61161,     0.61261,     0.61361,     0.61461,     0.61562,     0.61662,     0.61762,     0.61862,     0.61962,     0.62062,     0.62162,     0.62262,     0.62362,\n",
       "           0.62462,     0.62563,     0.62663,     0.62763,     0.62863,     0.62963,     0.63063,     0.63163,     0.63263,     0.63363,     0.63463,     0.63564,     0.63664,     0.63764,     0.63864,     0.63964,     0.64064,     0.64164,     0.64264,     0.64364,     0.64464,     0.64565,     0.64665,     0.64765,\n",
       "           0.64865,     0.64965,     0.65065,     0.65165,     0.65265,     0.65365,     0.65465,     0.65566,     0.65666,     0.65766,     0.65866,     0.65966,     0.66066,     0.66166,     0.66266,     0.66366,     0.66466,     0.66567,     0.66667,     0.66767,     0.66867,     0.66967,     0.67067,     0.67167,\n",
       "           0.67267,     0.67367,     0.67467,     0.67568,     0.67668,     0.67768,     0.67868,     0.67968,     0.68068,     0.68168,     0.68268,     0.68368,     0.68468,     0.68569,     0.68669,     0.68769,     0.68869,     0.68969,     0.69069,     0.69169,     0.69269,     0.69369,     0.69469,      0.6957,\n",
       "            0.6967,      0.6977,      0.6987,      0.6997,      0.7007,      0.7017,      0.7027,      0.7037,      0.7047,     0.70571,     0.70671,     0.70771,     0.70871,     0.70971,     0.71071,     0.71171,     0.71271,     0.71371,     0.71471,     0.71572,     0.71672,     0.71772,     0.71872,     0.71972,\n",
       "           0.72072,     0.72172,     0.72272,     0.72372,     0.72472,     0.72573,     0.72673,     0.72773,     0.72873,     0.72973,     0.73073,     0.73173,     0.73273,     0.73373,     0.73473,     0.73574,     0.73674,     0.73774,     0.73874,     0.73974,     0.74074,     0.74174,     0.74274,     0.74374,\n",
       "           0.74474,     0.74575,     0.74675,     0.74775,     0.74875,     0.74975,     0.75075,     0.75175,     0.75275,     0.75375,     0.75475,     0.75576,     0.75676,     0.75776,     0.75876,     0.75976,     0.76076,     0.76176,     0.76276,     0.76376,     0.76476,     0.76577,     0.76677,     0.76777,\n",
       "           0.76877,     0.76977,     0.77077,     0.77177,     0.77277,     0.77377,     0.77477,     0.77578,     0.77678,     0.77778,     0.77878,     0.77978,     0.78078,     0.78178,     0.78278,     0.78378,     0.78478,     0.78579,     0.78679,     0.78779,     0.78879,     0.78979,     0.79079,     0.79179,\n",
       "           0.79279,     0.79379,     0.79479,      0.7958,      0.7968,      0.7978,      0.7988,      0.7998,      0.8008,      0.8018,      0.8028,      0.8038,      0.8048,     0.80581,     0.80681,     0.80781,     0.80881,     0.80981,     0.81081,     0.81181,     0.81281,     0.81381,     0.81481,     0.81582,\n",
       "           0.81682,     0.81782,     0.81882,     0.81982,     0.82082,     0.82182,     0.82282,     0.82382,     0.82482,     0.82583,     0.82683,     0.82783,     0.82883,     0.82983,     0.83083,     0.83183,     0.83283,     0.83383,     0.83483,     0.83584,     0.83684,     0.83784,     0.83884,     0.83984,\n",
       "           0.84084,     0.84184,     0.84284,     0.84384,     0.84484,     0.84585,     0.84685,     0.84785,     0.84885,     0.84985,     0.85085,     0.85185,     0.85285,     0.85385,     0.85485,     0.85586,     0.85686,     0.85786,     0.85886,     0.85986,     0.86086,     0.86186,     0.86286,     0.86386,\n",
       "           0.86486,     0.86587,     0.86687,     0.86787,     0.86887,     0.86987,     0.87087,     0.87187,     0.87287,     0.87387,     0.87487,     0.87588,     0.87688,     0.87788,     0.87888,     0.87988,     0.88088,     0.88188,     0.88288,     0.88388,     0.88488,     0.88589,     0.88689,     0.88789,\n",
       "           0.88889,     0.88989,     0.89089,     0.89189,     0.89289,     0.89389,     0.89489,      0.8959,      0.8969,      0.8979,      0.8989,      0.8999,      0.9009,      0.9019,      0.9029,      0.9039,      0.9049,     0.90591,     0.90691,     0.90791,     0.90891,     0.90991,     0.91091,     0.91191,\n",
       "           0.91291,     0.91391,     0.91491,     0.91592,     0.91692,     0.91792,     0.91892,     0.91992,     0.92092,     0.92192,     0.92292,     0.92392,     0.92492,     0.92593,     0.92693,     0.92793,     0.92893,     0.92993,     0.93093,     0.93193,     0.93293,     0.93393,     0.93493,     0.93594,\n",
       "           0.93694,     0.93794,     0.93894,     0.93994,     0.94094,     0.94194,     0.94294,     0.94394,     0.94494,     0.94595,     0.94695,     0.94795,     0.94895,     0.94995,     0.95095,     0.95195,     0.95295,     0.95395,     0.95495,     0.95596,     0.95696,     0.95796,     0.95896,     0.95996,\n",
       "           0.96096,     0.96196,     0.96296,     0.96396,     0.96496,     0.96597,     0.96697,     0.96797,     0.96897,     0.96997,     0.97097,     0.97197,     0.97297,     0.97397,     0.97497,     0.97598,     0.97698,     0.97798,     0.97898,     0.97998,     0.98098,     0.98198,     0.98298,     0.98398,\n",
       "           0.98498,     0.98599,     0.98699,     0.98799,     0.98899,     0.98999,     0.99099,     0.99199,     0.99299,     0.99399,     0.99499,       0.996,       0.997,       0.998,       0.999,           1]), array([[          1,           1,           1,           1,           1,           1,           1,           1,           1,           1,           1,           1,           1,           1,           1,           1,           1,           1,           1,           1,           1,           1,           1,\n",
       "                  1,           1,           1,           1,           1,           1,           1,           1,           1,           1,           1,           1,           1,           1,           1,           1,           1,           1,           1,           1,           1,           1,           1,\n",
       "                  1,           1,           1,           1,           1,           1,           1,           1,           1,           1,           1,           1,           1,           1,           1,           1,           1,           1,           1,           1,           1,           1,           1,\n",
       "                  1,           1,           1,           1,           1,           1,           1,           1,           1,           1,           1,           1,           1,           1,           1,           1,           1,           1,           1,           1,           1,           1,           1,\n",
       "                  1,           1,           1,           1,           1,           1,           1,           1,           1,           1,           1,           1,           1,           1,           1,           1,           1,           1,           1,           1,           1,           1,           1,\n",
       "                  1,           1,           1,           1,           1,           1,           1,           1,           1,           1,           1,           1,           1,           1,           1,           1,           1,           1,           1,           1,           1,           1,           1,\n",
       "                  1,           1,           1,           1,           1,           1,           1,           1,           1,           1,           1,           1,           1,           1,           1,           1,           1,           1,           1,           1,           1,           1,           1,\n",
       "                  1,           1,           1,           1,           1,           1,           1,           1,           1,           1,           1,           1,           1,           1,           1,           1,           1,           1,           1,           1,           1,           1,           1,\n",
       "                  1,           1,           1,           1,           1,           1,           1,           1,           1,           1,           1,           1,           1,           1,           1,           1,           1,           1,           1,           1,           1,           1,           1,\n",
       "                  1,           1,           1,           1,           1,           1,           1,           1,           1,           1,           1,           1,           1,           1,           1,           1,           1,           1,           1,           1,           1,           1,           1,\n",
       "                  1,           1,           1,           1,           1,           1,           1,           1,           1,           1,           1,           1,           1,           1,           1,           1,           1,           1,           1,           1,           1,           1,           1,\n",
       "                  1,           1,           1,           1,           1,           1,           1,           1,           1,           1,           1,           1,           1,           1,           1,           1,           1,           1,           1,           1,           1,           1,           1,\n",
       "                  1,           1,           1,           1,           1,           1,           1,           1,           1,           1,           1,           1,           1,           1,           1,           1,           1,           1,           1,           1,           1,           1,           1,\n",
       "                  1,           1,           1,           1,           1,           1,           1,           1,           1,           1,           1,           1,           1,           1,           1,           1,           1,           1,           1,           1,           1,           1,           1,\n",
       "                  1,           1,           1,           1,           1,           1,           1,           1,           1,           1,           1,           1,           1,           1,           1,           1,           1,           1,           1,           1,           1,           1,           1,\n",
       "                  1,           1,           1,           1,           1,           1,           1,           1,           1,           1,           1,           1,           1,           1,           1,           1,           1,           1,           1,           1,           1,           1,           1,\n",
       "                  1,           1,           1,           1,           1,           1,           1,           1,           1,           1,           1,           1,           1,           1,           1,           1,           1,           1,           1,           1,           1,           1,           1,\n",
       "                  1,           1,           1,           1,           1,           1,           1,           1,           1,           1,           1,           1,           1,           1,           1,           1,           1,           1,           1,           1,           1,           1,           1,\n",
       "                  1,           1,           1,           1,           1,           1,           1,           1,           1,           1,           1,           1,           1,           1,           1,           1,           1,           1,           1,           1,           1,           1,           1,\n",
       "                  1,           1,           1,           1,           1,           1,           1,           1,           1,           1,           1,           1,           1,           1,           1,           1,           1,           1,           1,           1,           1,           1,           1,\n",
       "                  1,           1,           1,           1,           1,           1,           1,           1,           1,           1,           1,           1,           1,           1,           1,           1,           1,           1,           1,           1,           1,           1,           1,\n",
       "                  1,           1,           1,           1,           1,           1,           1,           1,           1,           1,           1,           1,           1,           1,           1,           1,           1,           1,           1,           1,           1,           1,           1,\n",
       "                  1,           1,           1,           1,           1,           1,           1,           1,           1,           1,           1,           1,           1,           1,           1,           1,           1,           1,           1,           1,           1,           1,           1,\n",
       "                  1,           1,           1,           1,           1,           1,           1,           1,           1,           1,           1,           1,           1,           1,           1,           1,           1,           1,           1,           1,           1,           1,           1,\n",
       "                  1,           1,           1,           1,           1,           1,           1,           1,           1,           1,           1,           1,           1,           1,           1,           1,           1,           1,           1,           1,           1,           1,           1,\n",
       "                  1,           1,           1,           1,           1,           1,           1,           1,           1,           1,           1,           1,           1,           1,           1,           1,           1,           1,           1,           1,           1,           1,           1,\n",
       "                  1,           1,           1,           1,           1,           1,           1,           1,           1,           1,           1,           1,           1,           1,           1,           1,           1,           1,           1,           1,           1,           1,           1,\n",
       "                  1,           1,           1,           1,           1,           1,           1,           1,           1,           1,           1,           1,           1,           1,           1,           1,           1,           1,           1,           1,           1,           1,           1,\n",
       "                  1,           1,           1,           1,           1,           1,           1,           1,           1,           1,           1,           1,           1,           1,           1,           1,           1,           1,           1,           1,           1,           1,           1,\n",
       "                  1,           1,           1,           1,           1,           1,           1,           1,           1,           1,           1,           1,           1,           1,           1,           1,           1,           1,           1,           1,           1,           1,           1,\n",
       "                  1,           1,           1,           1,           1,           1,           1,           1,           1,           1,           1,           1,           1,           1,           1,           1,           1,           1,           1,           1,           1,           1,           1,\n",
       "                  1,           1,           1,           1,           1,           1,           1,           1,           1,           1,           1,           1,           1,           1,           1,           1,           1,           1,           1,           1,           1,           1,           1,\n",
       "                  1,           1,           1,           1,           1,           1,           1,           1,           1,           1,           1,           1,           1,           1,           1,           1,           1,           1,           1,           1,           1,           1,           1,\n",
       "                  1,           1,           1,           1,           1,           1,           1,           1,           1,           1,           1,           1,           1,           1,           1,           1,           1,           1,           1,           1,           1,           1,           1,\n",
       "                  1,           1,           1,           1,           1,           1,           1,           1,           1,           1,           1,           1,           1,           1,           1,           1,           1,           1,           1,           1,           1,           1,           1,\n",
       "                  1,           1,           1,           1,           1,           1,           1,           1,           1,           1,           1,           1,           1,           1,           1,           1,           1,           1,           1,           1,           1,           1,           1,\n",
       "                  1,           1,           1,           1,           1,           1,           1,           1,           1,           1,           1,           1,           1,           1,           1,           1,           1,           1,           1,           1,           1,           1,           1,\n",
       "                  1,           1,           1,           1,           1,           1,           1,           1,           1,           1,           1,           1,           1,           1,           1,           1,           1,           1,           1,           1,           1,           1,           1,\n",
       "                  1,           1,           1,           1,           1,           1,           1,           1,           1,           1,           1,           1,           1,           1,           1,           1,           1,           1,           1,           1,           1,           1,           1,\n",
       "                  1,           1,           1,           1,           1,           1,           1,           1,           1,           1,           1,           1,           1,           1,           1,           1,           1,           1,           1,           1,           1,           1,           1,\n",
       "                  1,           1,           1,           1,           1,           1,           1,           1,           1,           1,           1,           1,           1,           1,           1,           1,           1,           1,           1,           1,           1,           1,           1,\n",
       "                  1,           1,           1,           1,           1,           1,           1,           1,           1,           1,           1,           1,           1,           1,           1,           1,           1,           1,           1,           1,           1,           1,           1,\n",
       "                  1,           1,           1,           1,           1,           1,           1,           1,           1,           1,           1,           1,           1,           1,           1,           1,           1,           1,           1,           1,           1,           1,           1,\n",
       "                  1,           1,           1,           1,           1,           1,           1,           1,     0.99889,     0.99889,           0]]), 'Recall', 'Precision'], [array([          0,    0.001001,    0.002002,    0.003003,    0.004004,    0.005005,    0.006006,    0.007007,    0.008008,    0.009009,     0.01001,    0.011011,    0.012012,    0.013013,    0.014014,    0.015015,    0.016016,    0.017017,    0.018018,    0.019019,     0.02002,    0.021021,    0.022022,    0.023023,\n",
       "          0.024024,    0.025025,    0.026026,    0.027027,    0.028028,    0.029029,     0.03003,    0.031031,    0.032032,    0.033033,    0.034034,    0.035035,    0.036036,    0.037037,    0.038038,    0.039039,     0.04004,    0.041041,    0.042042,    0.043043,    0.044044,    0.045045,    0.046046,    0.047047,\n",
       "          0.048048,    0.049049,     0.05005,    0.051051,    0.052052,    0.053053,    0.054054,    0.055055,    0.056056,    0.057057,    0.058058,    0.059059,     0.06006,    0.061061,    0.062062,    0.063063,    0.064064,    0.065065,    0.066066,    0.067067,    0.068068,    0.069069,     0.07007,    0.071071,\n",
       "          0.072072,    0.073073,    0.074074,    0.075075,    0.076076,    0.077077,    0.078078,    0.079079,     0.08008,    0.081081,    0.082082,    0.083083,    0.084084,    0.085085,    0.086086,    0.087087,    0.088088,    0.089089,     0.09009,    0.091091,    0.092092,    0.093093,    0.094094,    0.095095,\n",
       "          0.096096,    0.097097,    0.098098,    0.099099,      0.1001,      0.1011,      0.1021,      0.1031,      0.1041,     0.10511,     0.10611,     0.10711,     0.10811,     0.10911,     0.11011,     0.11111,     0.11211,     0.11311,     0.11411,     0.11512,     0.11612,     0.11712,     0.11812,     0.11912,\n",
       "           0.12012,     0.12112,     0.12212,     0.12312,     0.12412,     0.12513,     0.12613,     0.12713,     0.12813,     0.12913,     0.13013,     0.13113,     0.13213,     0.13313,     0.13413,     0.13514,     0.13614,     0.13714,     0.13814,     0.13914,     0.14014,     0.14114,     0.14214,     0.14314,\n",
       "           0.14414,     0.14515,     0.14615,     0.14715,     0.14815,     0.14915,     0.15015,     0.15115,     0.15215,     0.15315,     0.15415,     0.15516,     0.15616,     0.15716,     0.15816,     0.15916,     0.16016,     0.16116,     0.16216,     0.16316,     0.16416,     0.16517,     0.16617,     0.16717,\n",
       "           0.16817,     0.16917,     0.17017,     0.17117,     0.17217,     0.17317,     0.17417,     0.17518,     0.17618,     0.17718,     0.17818,     0.17918,     0.18018,     0.18118,     0.18218,     0.18318,     0.18418,     0.18519,     0.18619,     0.18719,     0.18819,     0.18919,     0.19019,     0.19119,\n",
       "           0.19219,     0.19319,     0.19419,      0.1952,      0.1962,      0.1972,      0.1982,      0.1992,      0.2002,      0.2012,      0.2022,      0.2032,      0.2042,     0.20521,     0.20621,     0.20721,     0.20821,     0.20921,     0.21021,     0.21121,     0.21221,     0.21321,     0.21421,     0.21522,\n",
       "           0.21622,     0.21722,     0.21822,     0.21922,     0.22022,     0.22122,     0.22222,     0.22322,     0.22422,     0.22523,     0.22623,     0.22723,     0.22823,     0.22923,     0.23023,     0.23123,     0.23223,     0.23323,     0.23423,     0.23524,     0.23624,     0.23724,     0.23824,     0.23924,\n",
       "           0.24024,     0.24124,     0.24224,     0.24324,     0.24424,     0.24525,     0.24625,     0.24725,     0.24825,     0.24925,     0.25025,     0.25125,     0.25225,     0.25325,     0.25425,     0.25526,     0.25626,     0.25726,     0.25826,     0.25926,     0.26026,     0.26126,     0.26226,     0.26326,\n",
       "           0.26426,     0.26527,     0.26627,     0.26727,     0.26827,     0.26927,     0.27027,     0.27127,     0.27227,     0.27327,     0.27427,     0.27528,     0.27628,     0.27728,     0.27828,     0.27928,     0.28028,     0.28128,     0.28228,     0.28328,     0.28428,     0.28529,     0.28629,     0.28729,\n",
       "           0.28829,     0.28929,     0.29029,     0.29129,     0.29229,     0.29329,     0.29429,      0.2953,      0.2963,      0.2973,      0.2983,      0.2993,      0.3003,      0.3013,      0.3023,      0.3033,      0.3043,     0.30531,     0.30631,     0.30731,     0.30831,     0.30931,     0.31031,     0.31131,\n",
       "           0.31231,     0.31331,     0.31431,     0.31532,     0.31632,     0.31732,     0.31832,     0.31932,     0.32032,     0.32132,     0.32232,     0.32332,     0.32432,     0.32533,     0.32633,     0.32733,     0.32833,     0.32933,     0.33033,     0.33133,     0.33233,     0.33333,     0.33433,     0.33534,\n",
       "           0.33634,     0.33734,     0.33834,     0.33934,     0.34034,     0.34134,     0.34234,     0.34334,     0.34434,     0.34535,     0.34635,     0.34735,     0.34835,     0.34935,     0.35035,     0.35135,     0.35235,     0.35335,     0.35435,     0.35536,     0.35636,     0.35736,     0.35836,     0.35936,\n",
       "           0.36036,     0.36136,     0.36236,     0.36336,     0.36436,     0.36537,     0.36637,     0.36737,     0.36837,     0.36937,     0.37037,     0.37137,     0.37237,     0.37337,     0.37437,     0.37538,     0.37638,     0.37738,     0.37838,     0.37938,     0.38038,     0.38138,     0.38238,     0.38338,\n",
       "           0.38438,     0.38539,     0.38639,     0.38739,     0.38839,     0.38939,     0.39039,     0.39139,     0.39239,     0.39339,     0.39439,      0.3954,      0.3964,      0.3974,      0.3984,      0.3994,      0.4004,      0.4014,      0.4024,      0.4034,      0.4044,     0.40541,     0.40641,     0.40741,\n",
       "           0.40841,     0.40941,     0.41041,     0.41141,     0.41241,     0.41341,     0.41441,     0.41542,     0.41642,     0.41742,     0.41842,     0.41942,     0.42042,     0.42142,     0.42242,     0.42342,     0.42442,     0.42543,     0.42643,     0.42743,     0.42843,     0.42943,     0.43043,     0.43143,\n",
       "           0.43243,     0.43343,     0.43443,     0.43544,     0.43644,     0.43744,     0.43844,     0.43944,     0.44044,     0.44144,     0.44244,     0.44344,     0.44444,     0.44545,     0.44645,     0.44745,     0.44845,     0.44945,     0.45045,     0.45145,     0.45245,     0.45345,     0.45445,     0.45546,\n",
       "           0.45646,     0.45746,     0.45846,     0.45946,     0.46046,     0.46146,     0.46246,     0.46346,     0.46446,     0.46547,     0.46647,     0.46747,     0.46847,     0.46947,     0.47047,     0.47147,     0.47247,     0.47347,     0.47447,     0.47548,     0.47648,     0.47748,     0.47848,     0.47948,\n",
       "           0.48048,     0.48148,     0.48248,     0.48348,     0.48448,     0.48549,     0.48649,     0.48749,     0.48849,     0.48949,     0.49049,     0.49149,     0.49249,     0.49349,     0.49449,      0.4955,      0.4965,      0.4975,      0.4985,      0.4995,      0.5005,      0.5015,      0.5025,      0.5035,\n",
       "            0.5045,     0.50551,     0.50651,     0.50751,     0.50851,     0.50951,     0.51051,     0.51151,     0.51251,     0.51351,     0.51451,     0.51552,     0.51652,     0.51752,     0.51852,     0.51952,     0.52052,     0.52152,     0.52252,     0.52352,     0.52452,     0.52553,     0.52653,     0.52753,\n",
       "           0.52853,     0.52953,     0.53053,     0.53153,     0.53253,     0.53353,     0.53453,     0.53554,     0.53654,     0.53754,     0.53854,     0.53954,     0.54054,     0.54154,     0.54254,     0.54354,     0.54454,     0.54555,     0.54655,     0.54755,     0.54855,     0.54955,     0.55055,     0.55155,\n",
       "           0.55255,     0.55355,     0.55455,     0.55556,     0.55656,     0.55756,     0.55856,     0.55956,     0.56056,     0.56156,     0.56256,     0.56356,     0.56456,     0.56557,     0.56657,     0.56757,     0.56857,     0.56957,     0.57057,     0.57157,     0.57257,     0.57357,     0.57457,     0.57558,\n",
       "           0.57658,     0.57758,     0.57858,     0.57958,     0.58058,     0.58158,     0.58258,     0.58358,     0.58458,     0.58559,     0.58659,     0.58759,     0.58859,     0.58959,     0.59059,     0.59159,     0.59259,     0.59359,     0.59459,      0.5956,      0.5966,      0.5976,      0.5986,      0.5996,\n",
       "            0.6006,      0.6016,      0.6026,      0.6036,      0.6046,     0.60561,     0.60661,     0.60761,     0.60861,     0.60961,     0.61061,     0.61161,     0.61261,     0.61361,     0.61461,     0.61562,     0.61662,     0.61762,     0.61862,     0.61962,     0.62062,     0.62162,     0.62262,     0.62362,\n",
       "           0.62462,     0.62563,     0.62663,     0.62763,     0.62863,     0.62963,     0.63063,     0.63163,     0.63263,     0.63363,     0.63463,     0.63564,     0.63664,     0.63764,     0.63864,     0.63964,     0.64064,     0.64164,     0.64264,     0.64364,     0.64464,     0.64565,     0.64665,     0.64765,\n",
       "           0.64865,     0.64965,     0.65065,     0.65165,     0.65265,     0.65365,     0.65465,     0.65566,     0.65666,     0.65766,     0.65866,     0.65966,     0.66066,     0.66166,     0.66266,     0.66366,     0.66466,     0.66567,     0.66667,     0.66767,     0.66867,     0.66967,     0.67067,     0.67167,\n",
       "           0.67267,     0.67367,     0.67467,     0.67568,     0.67668,     0.67768,     0.67868,     0.67968,     0.68068,     0.68168,     0.68268,     0.68368,     0.68468,     0.68569,     0.68669,     0.68769,     0.68869,     0.68969,     0.69069,     0.69169,     0.69269,     0.69369,     0.69469,      0.6957,\n",
       "            0.6967,      0.6977,      0.6987,      0.6997,      0.7007,      0.7017,      0.7027,      0.7037,      0.7047,     0.70571,     0.70671,     0.70771,     0.70871,     0.70971,     0.71071,     0.71171,     0.71271,     0.71371,     0.71471,     0.71572,     0.71672,     0.71772,     0.71872,     0.71972,\n",
       "           0.72072,     0.72172,     0.72272,     0.72372,     0.72472,     0.72573,     0.72673,     0.72773,     0.72873,     0.72973,     0.73073,     0.73173,     0.73273,     0.73373,     0.73473,     0.73574,     0.73674,     0.73774,     0.73874,     0.73974,     0.74074,     0.74174,     0.74274,     0.74374,\n",
       "           0.74474,     0.74575,     0.74675,     0.74775,     0.74875,     0.74975,     0.75075,     0.75175,     0.75275,     0.75375,     0.75475,     0.75576,     0.75676,     0.75776,     0.75876,     0.75976,     0.76076,     0.76176,     0.76276,     0.76376,     0.76476,     0.76577,     0.76677,     0.76777,\n",
       "           0.76877,     0.76977,     0.77077,     0.77177,     0.77277,     0.77377,     0.77477,     0.77578,     0.77678,     0.77778,     0.77878,     0.77978,     0.78078,     0.78178,     0.78278,     0.78378,     0.78478,     0.78579,     0.78679,     0.78779,     0.78879,     0.78979,     0.79079,     0.79179,\n",
       "           0.79279,     0.79379,     0.79479,      0.7958,      0.7968,      0.7978,      0.7988,      0.7998,      0.8008,      0.8018,      0.8028,      0.8038,      0.8048,     0.80581,     0.80681,     0.80781,     0.80881,     0.80981,     0.81081,     0.81181,     0.81281,     0.81381,     0.81481,     0.81582,\n",
       "           0.81682,     0.81782,     0.81882,     0.81982,     0.82082,     0.82182,     0.82282,     0.82382,     0.82482,     0.82583,     0.82683,     0.82783,     0.82883,     0.82983,     0.83083,     0.83183,     0.83283,     0.83383,     0.83483,     0.83584,     0.83684,     0.83784,     0.83884,     0.83984,\n",
       "           0.84084,     0.84184,     0.84284,     0.84384,     0.84484,     0.84585,     0.84685,     0.84785,     0.84885,     0.84985,     0.85085,     0.85185,     0.85285,     0.85385,     0.85485,     0.85586,     0.85686,     0.85786,     0.85886,     0.85986,     0.86086,     0.86186,     0.86286,     0.86386,\n",
       "           0.86486,     0.86587,     0.86687,     0.86787,     0.86887,     0.86987,     0.87087,     0.87187,     0.87287,     0.87387,     0.87487,     0.87588,     0.87688,     0.87788,     0.87888,     0.87988,     0.88088,     0.88188,     0.88288,     0.88388,     0.88488,     0.88589,     0.88689,     0.88789,\n",
       "           0.88889,     0.88989,     0.89089,     0.89189,     0.89289,     0.89389,     0.89489,      0.8959,      0.8969,      0.8979,      0.8989,      0.8999,      0.9009,      0.9019,      0.9029,      0.9039,      0.9049,     0.90591,     0.90691,     0.90791,     0.90891,     0.90991,     0.91091,     0.91191,\n",
       "           0.91291,     0.91391,     0.91491,     0.91592,     0.91692,     0.91792,     0.91892,     0.91992,     0.92092,     0.92192,     0.92292,     0.92392,     0.92492,     0.92593,     0.92693,     0.92793,     0.92893,     0.92993,     0.93093,     0.93193,     0.93293,     0.93393,     0.93493,     0.93594,\n",
       "           0.93694,     0.93794,     0.93894,     0.93994,     0.94094,     0.94194,     0.94294,     0.94394,     0.94494,     0.94595,     0.94695,     0.94795,     0.94895,     0.94995,     0.95095,     0.95195,     0.95295,     0.95395,     0.95495,     0.95596,     0.95696,     0.95796,     0.95896,     0.95996,\n",
       "           0.96096,     0.96196,     0.96296,     0.96396,     0.96496,     0.96597,     0.96697,     0.96797,     0.96897,     0.96997,     0.97097,     0.97197,     0.97297,     0.97397,     0.97497,     0.97598,     0.97698,     0.97798,     0.97898,     0.97998,     0.98098,     0.98198,     0.98298,     0.98398,\n",
       "           0.98498,     0.98599,     0.98699,     0.98799,     0.98899,     0.98999,     0.99099,     0.99199,     0.99299,     0.99399,     0.99499,       0.996,       0.997,       0.998,       0.999,           1]), array([[    0.88626,     0.88626,     0.93472,     0.94986,     0.95693,     0.96055,     0.96347,     0.96584,     0.96782,     0.96982,     0.97126,     0.97261,     0.97296,     0.97393,     0.97522,     0.97777,     0.97831,     0.97849,     0.97868,     0.97911,     0.97983,     0.98088,     0.98199,\n",
       "            0.98276,     0.98301,     0.98423,      0.9844,     0.98457,     0.98477,     0.98502,      0.9853,     0.98566,     0.98794,     0.98803,     0.98812,     0.98822,     0.98831,      0.9884,      0.9885,     0.98861,     0.98872,     0.98883,     0.98894,     0.98904,     0.98914,     0.98923,\n",
       "            0.98933,     0.98943,     0.98952,     0.98964,     0.98978,     0.98992,     0.99006,     0.99017,     0.99028,     0.99039,     0.99049,      0.9906,     0.99075,     0.99095,     0.99114,     0.99131,     0.99147,     0.99163,      0.9918,     0.99197,     0.99215,     0.99232,     0.99248,\n",
       "            0.99265,     0.99281,     0.99284,     0.99286,     0.99288,     0.99289,     0.99291,     0.99293,     0.99294,     0.99296,     0.99297,     0.99299,     0.99301,     0.99302,     0.99304,     0.99306,     0.99307,     0.99309,     0.99311,     0.99312,     0.99314,     0.99315,     0.99317,\n",
       "            0.99319,      0.9932,     0.99322,     0.99324,     0.99325,     0.99327,     0.99329,      0.9933,     0.99332,     0.99333,     0.99335,     0.99337,      0.9934,     0.99346,     0.99353,     0.99359,     0.99365,     0.99372,     0.99378,     0.99384,     0.99391,     0.99401,     0.99414,\n",
       "            0.99427,     0.99439,     0.99503,     0.99503,     0.99503,     0.99504,     0.99504,     0.99504,     0.99504,     0.99505,     0.99505,     0.99505,     0.99506,     0.99506,     0.99506,     0.99507,     0.99507,     0.99507,     0.99508,     0.99508,     0.99508,     0.99509,     0.99509,\n",
       "            0.99509,      0.9951,      0.9951,      0.9951,     0.99511,     0.99511,     0.99511,     0.99512,     0.99512,     0.99512,     0.99513,     0.99513,     0.99513,     0.99514,     0.99514,     0.99514,     0.99514,     0.99515,     0.99515,     0.99515,     0.99516,     0.99516,     0.99516,\n",
       "            0.99517,     0.99517,     0.99517,     0.99518,     0.99518,     0.99518,     0.99519,     0.99519,     0.99519,      0.9952,      0.9952,      0.9952,     0.99521,     0.99521,     0.99521,     0.99522,     0.99522,     0.99522,     0.99523,     0.99523,     0.99523,     0.99524,     0.99524,\n",
       "            0.99524,     0.99524,     0.99525,     0.99525,     0.99525,     0.99526,     0.99526,     0.99526,     0.99527,     0.99527,     0.99527,     0.99528,     0.99528,     0.99528,     0.99529,     0.99529,     0.99529,      0.9953,      0.9953,      0.9953,     0.99531,     0.99531,     0.99531,\n",
       "            0.99532,     0.99532,     0.99532,     0.99533,     0.99533,     0.99533,     0.99533,     0.99534,     0.99534,     0.99534,     0.99535,     0.99535,     0.99535,     0.99536,     0.99536,     0.99536,     0.99537,     0.99537,     0.99537,     0.99538,     0.99538,     0.99538,     0.99539,\n",
       "            0.99539,     0.99539,      0.9954,      0.9954,      0.9954,     0.99541,     0.99541,     0.99541,     0.99542,     0.99542,     0.99542,     0.99543,     0.99543,     0.99543,     0.99543,     0.99544,     0.99544,     0.99544,     0.99545,     0.99545,     0.99545,     0.99546,     0.99546,\n",
       "            0.99546,     0.99547,     0.99547,     0.99547,     0.99548,     0.99548,     0.99548,     0.99549,     0.99549,     0.99549,      0.9955,      0.9955,      0.9955,     0.99551,     0.99551,     0.99551,     0.99552,     0.99552,     0.99552,     0.99553,     0.99553,     0.99553,     0.99553,\n",
       "            0.99554,     0.99554,     0.99554,     0.99555,     0.99555,     0.99555,     0.99556,     0.99556,     0.99556,     0.99557,     0.99557,     0.99557,     0.99563,     0.99575,     0.99587,     0.99598,      0.9961,     0.99613,     0.99614,     0.99614,     0.99615,     0.99615,     0.99616,\n",
       "            0.99616,     0.99617,     0.99617,     0.99618,     0.99618,     0.99619,     0.99619,      0.9962,      0.9962,     0.99621,     0.99621,     0.99622,     0.99622,     0.99623,     0.99624,     0.99624,     0.99625,     0.99625,     0.99626,     0.99626,     0.99627,     0.99627,     0.99628,\n",
       "            0.99628,     0.99629,     0.99629,      0.9963,      0.9963,     0.99631,     0.99631,     0.99632,     0.99632,     0.99633,     0.99633,     0.99634,     0.99635,     0.99635,     0.99636,     0.99636,     0.99637,     0.99637,     0.99638,     0.99638,     0.99639,     0.99639,      0.9964,\n",
       "             0.9964,     0.99641,     0.99641,     0.99642,     0.99642,     0.99643,     0.99643,     0.99644,     0.99644,     0.99645,     0.99646,     0.99646,     0.99647,     0.99647,     0.99648,     0.99648,     0.99649,     0.99649,      0.9965,      0.9965,     0.99651,     0.99651,     0.99652,\n",
       "            0.99652,     0.99653,     0.99653,     0.99654,     0.99654,     0.99655,     0.99655,     0.99656,     0.99656,     0.99657,     0.99658,     0.99658,     0.99659,     0.99659,      0.9966,      0.9966,     0.99661,     0.99661,     0.99662,     0.99662,     0.99663,     0.99663,     0.99664,\n",
       "            0.99664,     0.99665,     0.99665,     0.99666,     0.99666,     0.99667,     0.99667,     0.99668,     0.99669,     0.99669,      0.9967,      0.9967,     0.99671,     0.99672,     0.99672,     0.99673,     0.99673,     0.99674,     0.99675,     0.99675,     0.99676,     0.99676,     0.99677,\n",
       "            0.99678,     0.99678,     0.99679,     0.99679,      0.9968,      0.9968,     0.99681,     0.99682,     0.99682,     0.99683,     0.99683,     0.99684,     0.99685,     0.99685,     0.99686,     0.99686,     0.99687,     0.99688,     0.99688,     0.99689,     0.99689,      0.9969,     0.99691,\n",
       "            0.99691,     0.99692,     0.99692,     0.99693,     0.99694,     0.99694,     0.99695,     0.99695,     0.99696,     0.99696,     0.99697,     0.99698,     0.99698,     0.99699,     0.99699,       0.997,     0.99701,     0.99701,     0.99702,     0.99702,     0.99703,     0.99704,     0.99704,\n",
       "            0.99705,     0.99705,     0.99706,     0.99707,     0.99707,     0.99708,     0.99708,     0.99709,      0.9971,      0.9971,     0.99711,     0.99711,     0.99712,     0.99712,     0.99713,     0.99714,     0.99714,     0.99715,     0.99715,     0.99716,     0.99717,     0.99717,     0.99718,\n",
       "            0.99718,     0.99719,      0.9972,      0.9972,     0.99721,     0.99721,     0.99722,     0.99723,     0.99724,     0.99725,     0.99727,     0.99729,     0.99731,     0.99733,     0.99735,     0.99737,     0.99739,     0.99741,     0.99742,     0.99744,     0.99746,     0.99748,      0.9975,\n",
       "            0.99752,     0.99754,     0.99756,     0.99758,     0.99759,     0.99761,     0.99763,     0.99765,     0.99767,     0.99769,     0.99771,     0.99773,     0.99775,     0.99776,     0.99778,     0.99779,      0.9978,     0.99781,     0.99782,     0.99782,     0.99783,     0.99784,     0.99785,\n",
       "            0.99786,     0.99787,     0.99787,     0.99788,     0.99789,      0.9979,     0.99791,     0.99791,     0.99792,     0.99793,     0.99794,     0.99795,     0.99796,     0.99796,     0.99797,     0.99798,     0.99799,       0.998,       0.998,     0.99801,     0.99802,     0.99803,     0.99804,\n",
       "            0.99805,     0.99805,     0.99806,     0.99807,     0.99808,     0.99809,      0.9981,      0.9981,     0.99811,     0.99812,     0.99813,     0.99814,     0.99814,     0.99815,     0.99816,     0.99817,     0.99818,     0.99819,     0.99819,      0.9982,     0.99821,     0.99822,     0.99823,\n",
       "            0.99824,     0.99824,     0.99825,     0.99826,     0.99827,     0.99828,     0.99828,     0.99829,      0.9983,     0.99831,     0.99832,     0.99833,     0.99833,     0.99835,     0.99837,      0.9984,     0.99842,     0.99844,     0.99846,     0.99848,      0.9985,     0.99853,     0.99855,\n",
       "            0.99857,     0.99859,     0.99861,     0.99864,     0.99866,     0.99868,      0.9987,     0.99872,     0.99874,     0.99877,     0.99879,     0.99881,     0.99883,     0.99885,     0.99888,     0.99889,     0.99891,     0.99892,     0.99893,     0.99894,     0.99895,     0.99896,     0.99898,\n",
       "            0.99899,       0.999,     0.99901,     0.99902,     0.99903,     0.99904,     0.99906,     0.99907,     0.99908,     0.99909,      0.9991,     0.99911,     0.99913,     0.99914,     0.99915,     0.99916,     0.99917,     0.99918,      0.9992,     0.99921,     0.99922,     0.99923,     0.99924,\n",
       "            0.99925,     0.99927,     0.99928,     0.99929,      0.9993,     0.99931,     0.99932,     0.99933,     0.99935,     0.99936,     0.99937,     0.99938,     0.99939,      0.9994,     0.99942,     0.99943,     0.99944,     0.99943,     0.99941,     0.99939,     0.99936,     0.99934,     0.99932,\n",
       "            0.99929,     0.99927,     0.99925,     0.99922,      0.9992,     0.99918,     0.99915,     0.99913,     0.99911,     0.99908,     0.99906,     0.99904,     0.99901,     0.99899,     0.99897,     0.99894,     0.99892,      0.9989,     0.99887,     0.99885,     0.99883,      0.9988,     0.99878,\n",
       "            0.99875,     0.99873,      0.9987,     0.99868,     0.99866,     0.99863,     0.99861,     0.99858,     0.99856,     0.99853,     0.99851,     0.99849,     0.99846,     0.99844,     0.99841,     0.99839,     0.99836,     0.99834,     0.99839,     0.99846,     0.99854,     0.99861,     0.99869,\n",
       "            0.99877,     0.99884,     0.99886,     0.99878,     0.99871,     0.99863,     0.99855,     0.99848,      0.9984,     0.99833,     0.99832,      0.9983,     0.99829,     0.99828,     0.99826,     0.99825,     0.99824,     0.99823,     0.99821,      0.9982,     0.99819,     0.99817,     0.99816,\n",
       "            0.99815,     0.99813,     0.99812,     0.99811,      0.9981,     0.99808,     0.99807,     0.99806,     0.99804,     0.99803,     0.99802,       0.998,     0.99799,     0.99798,     0.99797,     0.99795,     0.99794,     0.99793,     0.99791,      0.9979,     0.99789,     0.99787,     0.99786,\n",
       "            0.99785,     0.99784,     0.99782,     0.99781,      0.9978,     0.99778,     0.99775,     0.99759,     0.99742,     0.99726,     0.99714,     0.99703,     0.99693,     0.99683,     0.99672,     0.99652,     0.99614,     0.99597,     0.99582,     0.99568,     0.99554,     0.99547,      0.9954,\n",
       "            0.99533,     0.99527,      0.9952,     0.99513,     0.99506,       0.995,      0.9936,     0.99287,     0.99262,     0.99247,     0.99233,     0.99218,     0.99033,     0.98994,     0.98969,     0.98946,      0.9888,     0.98791,     0.98754,     0.98738,     0.98721,     0.98703,     0.98674,\n",
       "            0.98632,     0.98572,     0.98543,     0.98493,     0.98456,     0.98426,     0.98397,     0.98368,     0.98285,     0.98118,     0.98079,     0.98022,     0.97933,     0.97673,     0.97553,     0.97424,       0.974,     0.97369,     0.97249,     0.97165,     0.96949,      0.9669,     0.96242,\n",
       "            0.96107,     0.95939,     0.95817,      0.9564,     0.95599,     0.95428,     0.94998,     0.94503,     0.94371,      0.9384,     0.93495,     0.92985,     0.92213,     0.91756,     0.91361,     0.90764,     0.90161,     0.89425,     0.88865,       0.886,     0.88168,     0.87536,     0.86754,\n",
       "            0.85889,     0.84937,     0.83969,     0.83136,     0.82292,     0.81357,     0.79607,     0.77888,     0.76882,      0.7517,     0.73676,     0.72599,     0.71594,     0.70201,      0.6791,     0.66929,     0.65331,     0.63072,     0.61805,     0.60406,     0.57753,       0.565,     0.54991,\n",
       "            0.53451,     0.51388,     0.48759,       0.476,     0.46293,     0.44695,     0.42789,     0.40695,     0.39265,     0.38826,      0.3692,     0.34514,     0.33126,     0.32652,     0.31232,     0.29949,     0.28482,     0.27157,     0.26314,     0.25464,     0.24434,     0.23738,     0.22687,\n",
       "            0.21447,     0.20548,      0.1964,     0.18174,     0.17897,     0.17245,     0.16851,     0.15739,     0.15518,     0.14877,     0.13588,     0.13332,     0.12403,     0.10671,    0.098065,    0.092568,    0.089789,    0.083586,    0.079185,    0.071058,    0.060562,    0.056212,    0.049846,\n",
       "           0.042736,    0.039113,    0.036765,    0.030212,    0.020623,     0.01886,    0.016865,    0.011713,    0.007787,           0,           0,           0,           0,           0,           0,           0,           0,           0,           0,           0,           0,           0,           0,\n",
       "                  0,           0,           0,           0,           0,           0,           0,           0,           0,           0,           0,           0,           0,           0,           0,           0,           0,           0,           0,           0,           0,           0,           0,\n",
       "                  0,           0,           0,           0,           0,           0,           0,           0,           0,           0,           0,           0,           0,           0,           0,           0,           0,           0,           0,           0,           0,           0,           0,\n",
       "                  0,           0,           0,           0,           0,           0,           0,           0,           0,           0,           0]]), 'Confidence', 'F1'], [array([          0,    0.001001,    0.002002,    0.003003,    0.004004,    0.005005,    0.006006,    0.007007,    0.008008,    0.009009,     0.01001,    0.011011,    0.012012,    0.013013,    0.014014,    0.015015,    0.016016,    0.017017,    0.018018,    0.019019,     0.02002,    0.021021,    0.022022,    0.023023,\n",
       "          0.024024,    0.025025,    0.026026,    0.027027,    0.028028,    0.029029,     0.03003,    0.031031,    0.032032,    0.033033,    0.034034,    0.035035,    0.036036,    0.037037,    0.038038,    0.039039,     0.04004,    0.041041,    0.042042,    0.043043,    0.044044,    0.045045,    0.046046,    0.047047,\n",
       "          0.048048,    0.049049,     0.05005,    0.051051,    0.052052,    0.053053,    0.054054,    0.055055,    0.056056,    0.057057,    0.058058,    0.059059,     0.06006,    0.061061,    0.062062,    0.063063,    0.064064,    0.065065,    0.066066,    0.067067,    0.068068,    0.069069,     0.07007,    0.071071,\n",
       "          0.072072,    0.073073,    0.074074,    0.075075,    0.076076,    0.077077,    0.078078,    0.079079,     0.08008,    0.081081,    0.082082,    0.083083,    0.084084,    0.085085,    0.086086,    0.087087,    0.088088,    0.089089,     0.09009,    0.091091,    0.092092,    0.093093,    0.094094,    0.095095,\n",
       "          0.096096,    0.097097,    0.098098,    0.099099,      0.1001,      0.1011,      0.1021,      0.1031,      0.1041,     0.10511,     0.10611,     0.10711,     0.10811,     0.10911,     0.11011,     0.11111,     0.11211,     0.11311,     0.11411,     0.11512,     0.11612,     0.11712,     0.11812,     0.11912,\n",
       "           0.12012,     0.12112,     0.12212,     0.12312,     0.12412,     0.12513,     0.12613,     0.12713,     0.12813,     0.12913,     0.13013,     0.13113,     0.13213,     0.13313,     0.13413,     0.13514,     0.13614,     0.13714,     0.13814,     0.13914,     0.14014,     0.14114,     0.14214,     0.14314,\n",
       "           0.14414,     0.14515,     0.14615,     0.14715,     0.14815,     0.14915,     0.15015,     0.15115,     0.15215,     0.15315,     0.15415,     0.15516,     0.15616,     0.15716,     0.15816,     0.15916,     0.16016,     0.16116,     0.16216,     0.16316,     0.16416,     0.16517,     0.16617,     0.16717,\n",
       "           0.16817,     0.16917,     0.17017,     0.17117,     0.17217,     0.17317,     0.17417,     0.17518,     0.17618,     0.17718,     0.17818,     0.17918,     0.18018,     0.18118,     0.18218,     0.18318,     0.18418,     0.18519,     0.18619,     0.18719,     0.18819,     0.18919,     0.19019,     0.19119,\n",
       "           0.19219,     0.19319,     0.19419,      0.1952,      0.1962,      0.1972,      0.1982,      0.1992,      0.2002,      0.2012,      0.2022,      0.2032,      0.2042,     0.20521,     0.20621,     0.20721,     0.20821,     0.20921,     0.21021,     0.21121,     0.21221,     0.21321,     0.21421,     0.21522,\n",
       "           0.21622,     0.21722,     0.21822,     0.21922,     0.22022,     0.22122,     0.22222,     0.22322,     0.22422,     0.22523,     0.22623,     0.22723,     0.22823,     0.22923,     0.23023,     0.23123,     0.23223,     0.23323,     0.23423,     0.23524,     0.23624,     0.23724,     0.23824,     0.23924,\n",
       "           0.24024,     0.24124,     0.24224,     0.24324,     0.24424,     0.24525,     0.24625,     0.24725,     0.24825,     0.24925,     0.25025,     0.25125,     0.25225,     0.25325,     0.25425,     0.25526,     0.25626,     0.25726,     0.25826,     0.25926,     0.26026,     0.26126,     0.26226,     0.26326,\n",
       "           0.26426,     0.26527,     0.26627,     0.26727,     0.26827,     0.26927,     0.27027,     0.27127,     0.27227,     0.27327,     0.27427,     0.27528,     0.27628,     0.27728,     0.27828,     0.27928,     0.28028,     0.28128,     0.28228,     0.28328,     0.28428,     0.28529,     0.28629,     0.28729,\n",
       "           0.28829,     0.28929,     0.29029,     0.29129,     0.29229,     0.29329,     0.29429,      0.2953,      0.2963,      0.2973,      0.2983,      0.2993,      0.3003,      0.3013,      0.3023,      0.3033,      0.3043,     0.30531,     0.30631,     0.30731,     0.30831,     0.30931,     0.31031,     0.31131,\n",
       "           0.31231,     0.31331,     0.31431,     0.31532,     0.31632,     0.31732,     0.31832,     0.31932,     0.32032,     0.32132,     0.32232,     0.32332,     0.32432,     0.32533,     0.32633,     0.32733,     0.32833,     0.32933,     0.33033,     0.33133,     0.33233,     0.33333,     0.33433,     0.33534,\n",
       "           0.33634,     0.33734,     0.33834,     0.33934,     0.34034,     0.34134,     0.34234,     0.34334,     0.34434,     0.34535,     0.34635,     0.34735,     0.34835,     0.34935,     0.35035,     0.35135,     0.35235,     0.35335,     0.35435,     0.35536,     0.35636,     0.35736,     0.35836,     0.35936,\n",
       "           0.36036,     0.36136,     0.36236,     0.36336,     0.36436,     0.36537,     0.36637,     0.36737,     0.36837,     0.36937,     0.37037,     0.37137,     0.37237,     0.37337,     0.37437,     0.37538,     0.37638,     0.37738,     0.37838,     0.37938,     0.38038,     0.38138,     0.38238,     0.38338,\n",
       "           0.38438,     0.38539,     0.38639,     0.38739,     0.38839,     0.38939,     0.39039,     0.39139,     0.39239,     0.39339,     0.39439,      0.3954,      0.3964,      0.3974,      0.3984,      0.3994,      0.4004,      0.4014,      0.4024,      0.4034,      0.4044,     0.40541,     0.40641,     0.40741,\n",
       "           0.40841,     0.40941,     0.41041,     0.41141,     0.41241,     0.41341,     0.41441,     0.41542,     0.41642,     0.41742,     0.41842,     0.41942,     0.42042,     0.42142,     0.42242,     0.42342,     0.42442,     0.42543,     0.42643,     0.42743,     0.42843,     0.42943,     0.43043,     0.43143,\n",
       "           0.43243,     0.43343,     0.43443,     0.43544,     0.43644,     0.43744,     0.43844,     0.43944,     0.44044,     0.44144,     0.44244,     0.44344,     0.44444,     0.44545,     0.44645,     0.44745,     0.44845,     0.44945,     0.45045,     0.45145,     0.45245,     0.45345,     0.45445,     0.45546,\n",
       "           0.45646,     0.45746,     0.45846,     0.45946,     0.46046,     0.46146,     0.46246,     0.46346,     0.46446,     0.46547,     0.46647,     0.46747,     0.46847,     0.46947,     0.47047,     0.47147,     0.47247,     0.47347,     0.47447,     0.47548,     0.47648,     0.47748,     0.47848,     0.47948,\n",
       "           0.48048,     0.48148,     0.48248,     0.48348,     0.48448,     0.48549,     0.48649,     0.48749,     0.48849,     0.48949,     0.49049,     0.49149,     0.49249,     0.49349,     0.49449,      0.4955,      0.4965,      0.4975,      0.4985,      0.4995,      0.5005,      0.5015,      0.5025,      0.5035,\n",
       "            0.5045,     0.50551,     0.50651,     0.50751,     0.50851,     0.50951,     0.51051,     0.51151,     0.51251,     0.51351,     0.51451,     0.51552,     0.51652,     0.51752,     0.51852,     0.51952,     0.52052,     0.52152,     0.52252,     0.52352,     0.52452,     0.52553,     0.52653,     0.52753,\n",
       "           0.52853,     0.52953,     0.53053,     0.53153,     0.53253,     0.53353,     0.53453,     0.53554,     0.53654,     0.53754,     0.53854,     0.53954,     0.54054,     0.54154,     0.54254,     0.54354,     0.54454,     0.54555,     0.54655,     0.54755,     0.54855,     0.54955,     0.55055,     0.55155,\n",
       "           0.55255,     0.55355,     0.55455,     0.55556,     0.55656,     0.55756,     0.55856,     0.55956,     0.56056,     0.56156,     0.56256,     0.56356,     0.56456,     0.56557,     0.56657,     0.56757,     0.56857,     0.56957,     0.57057,     0.57157,     0.57257,     0.57357,     0.57457,     0.57558,\n",
       "           0.57658,     0.57758,     0.57858,     0.57958,     0.58058,     0.58158,     0.58258,     0.58358,     0.58458,     0.58559,     0.58659,     0.58759,     0.58859,     0.58959,     0.59059,     0.59159,     0.59259,     0.59359,     0.59459,      0.5956,      0.5966,      0.5976,      0.5986,      0.5996,\n",
       "            0.6006,      0.6016,      0.6026,      0.6036,      0.6046,     0.60561,     0.60661,     0.60761,     0.60861,     0.60961,     0.61061,     0.61161,     0.61261,     0.61361,     0.61461,     0.61562,     0.61662,     0.61762,     0.61862,     0.61962,     0.62062,     0.62162,     0.62262,     0.62362,\n",
       "           0.62462,     0.62563,     0.62663,     0.62763,     0.62863,     0.62963,     0.63063,     0.63163,     0.63263,     0.63363,     0.63463,     0.63564,     0.63664,     0.63764,     0.63864,     0.63964,     0.64064,     0.64164,     0.64264,     0.64364,     0.64464,     0.64565,     0.64665,     0.64765,\n",
       "           0.64865,     0.64965,     0.65065,     0.65165,     0.65265,     0.65365,     0.65465,     0.65566,     0.65666,     0.65766,     0.65866,     0.65966,     0.66066,     0.66166,     0.66266,     0.66366,     0.66466,     0.66567,     0.66667,     0.66767,     0.66867,     0.66967,     0.67067,     0.67167,\n",
       "           0.67267,     0.67367,     0.67467,     0.67568,     0.67668,     0.67768,     0.67868,     0.67968,     0.68068,     0.68168,     0.68268,     0.68368,     0.68468,     0.68569,     0.68669,     0.68769,     0.68869,     0.68969,     0.69069,     0.69169,     0.69269,     0.69369,     0.69469,      0.6957,\n",
       "            0.6967,      0.6977,      0.6987,      0.6997,      0.7007,      0.7017,      0.7027,      0.7037,      0.7047,     0.70571,     0.70671,     0.70771,     0.70871,     0.70971,     0.71071,     0.71171,     0.71271,     0.71371,     0.71471,     0.71572,     0.71672,     0.71772,     0.71872,     0.71972,\n",
       "           0.72072,     0.72172,     0.72272,     0.72372,     0.72472,     0.72573,     0.72673,     0.72773,     0.72873,     0.72973,     0.73073,     0.73173,     0.73273,     0.73373,     0.73473,     0.73574,     0.73674,     0.73774,     0.73874,     0.73974,     0.74074,     0.74174,     0.74274,     0.74374,\n",
       "           0.74474,     0.74575,     0.74675,     0.74775,     0.74875,     0.74975,     0.75075,     0.75175,     0.75275,     0.75375,     0.75475,     0.75576,     0.75676,     0.75776,     0.75876,     0.75976,     0.76076,     0.76176,     0.76276,     0.76376,     0.76476,     0.76577,     0.76677,     0.76777,\n",
       "           0.76877,     0.76977,     0.77077,     0.77177,     0.77277,     0.77377,     0.77477,     0.77578,     0.77678,     0.77778,     0.77878,     0.77978,     0.78078,     0.78178,     0.78278,     0.78378,     0.78478,     0.78579,     0.78679,     0.78779,     0.78879,     0.78979,     0.79079,     0.79179,\n",
       "           0.79279,     0.79379,     0.79479,      0.7958,      0.7968,      0.7978,      0.7988,      0.7998,      0.8008,      0.8018,      0.8028,      0.8038,      0.8048,     0.80581,     0.80681,     0.80781,     0.80881,     0.80981,     0.81081,     0.81181,     0.81281,     0.81381,     0.81481,     0.81582,\n",
       "           0.81682,     0.81782,     0.81882,     0.81982,     0.82082,     0.82182,     0.82282,     0.82382,     0.82482,     0.82583,     0.82683,     0.82783,     0.82883,     0.82983,     0.83083,     0.83183,     0.83283,     0.83383,     0.83483,     0.83584,     0.83684,     0.83784,     0.83884,     0.83984,\n",
       "           0.84084,     0.84184,     0.84284,     0.84384,     0.84484,     0.84585,     0.84685,     0.84785,     0.84885,     0.84985,     0.85085,     0.85185,     0.85285,     0.85385,     0.85485,     0.85586,     0.85686,     0.85786,     0.85886,     0.85986,     0.86086,     0.86186,     0.86286,     0.86386,\n",
       "           0.86486,     0.86587,     0.86687,     0.86787,     0.86887,     0.86987,     0.87087,     0.87187,     0.87287,     0.87387,     0.87487,     0.87588,     0.87688,     0.87788,     0.87888,     0.87988,     0.88088,     0.88188,     0.88288,     0.88388,     0.88488,     0.88589,     0.88689,     0.88789,\n",
       "           0.88889,     0.88989,     0.89089,     0.89189,     0.89289,     0.89389,     0.89489,      0.8959,      0.8969,      0.8979,      0.8989,      0.8999,      0.9009,      0.9019,      0.9029,      0.9039,      0.9049,     0.90591,     0.90691,     0.90791,     0.90891,     0.90991,     0.91091,     0.91191,\n",
       "           0.91291,     0.91391,     0.91491,     0.91592,     0.91692,     0.91792,     0.91892,     0.91992,     0.92092,     0.92192,     0.92292,     0.92392,     0.92492,     0.92593,     0.92693,     0.92793,     0.92893,     0.92993,     0.93093,     0.93193,     0.93293,     0.93393,     0.93493,     0.93594,\n",
       "           0.93694,     0.93794,     0.93894,     0.93994,     0.94094,     0.94194,     0.94294,     0.94394,     0.94494,     0.94595,     0.94695,     0.94795,     0.94895,     0.94995,     0.95095,     0.95195,     0.95295,     0.95395,     0.95495,     0.95596,     0.95696,     0.95796,     0.95896,     0.95996,\n",
       "           0.96096,     0.96196,     0.96296,     0.96396,     0.96496,     0.96597,     0.96697,     0.96797,     0.96897,     0.96997,     0.97097,     0.97197,     0.97297,     0.97397,     0.97497,     0.97598,     0.97698,     0.97798,     0.97898,     0.97998,     0.98098,     0.98198,     0.98298,     0.98398,\n",
       "           0.98498,     0.98599,     0.98699,     0.98799,     0.98899,     0.98999,     0.99099,     0.99199,     0.99299,     0.99399,     0.99499,       0.996,       0.997,       0.998,       0.999,           1]), array([[    0.79576,     0.79576,     0.87744,     0.90451,     0.91741,     0.92409,     0.92952,     0.93394,     0.93765,     0.94141,     0.94412,     0.94669,     0.94734,     0.94919,     0.95165,     0.95651,     0.95753,     0.95789,     0.95824,     0.95908,     0.96045,     0.96247,     0.96462,\n",
       "             0.9661,     0.96658,     0.96895,     0.96928,     0.96961,     0.96999,     0.97049,     0.97102,     0.97173,     0.97616,     0.97634,     0.97652,      0.9767,     0.97689,     0.97707,     0.97726,     0.97747,     0.97769,      0.9779,     0.97812,     0.97832,     0.97851,      0.9787,\n",
       "            0.97888,     0.97907,     0.97926,      0.9795,     0.97977,     0.98004,     0.98031,     0.98054,     0.98075,     0.98096,     0.98116,     0.98137,     0.98168,     0.98206,     0.98244,     0.98277,     0.98309,      0.9834,     0.98373,     0.98407,     0.98442,     0.98476,     0.98508,\n",
       "             0.9854,     0.98572,     0.98579,     0.98582,     0.98585,     0.98589,     0.98592,     0.98595,     0.98598,     0.98602,     0.98605,     0.98608,     0.98611,     0.98614,     0.98618,     0.98621,     0.98624,     0.98627,     0.98631,     0.98634,     0.98637,      0.9864,     0.98643,\n",
       "            0.98647,      0.9865,     0.98653,     0.98656,      0.9866,     0.98663,     0.98666,     0.98669,     0.98672,     0.98676,     0.98679,     0.98682,     0.98689,     0.98701,     0.98714,     0.98726,     0.98739,     0.98751,     0.98764,     0.98776,     0.98789,      0.9881,     0.98835,\n",
       "             0.9886,     0.98885,      0.9901,     0.99011,     0.99011,     0.99012,     0.99013,     0.99013,     0.99014,     0.99014,     0.99015,     0.99016,     0.99016,     0.99017,     0.99018,     0.99018,     0.99019,      0.9902,      0.9902,     0.99021,     0.99022,     0.99022,     0.99023,\n",
       "            0.99023,     0.99024,     0.99025,     0.99025,     0.99026,     0.99027,     0.99027,     0.99028,     0.99029,     0.99029,      0.9903,      0.9903,     0.99031,     0.99032,     0.99032,     0.99033,     0.99034,     0.99034,     0.99035,     0.99036,     0.99036,     0.99037,     0.99037,\n",
       "            0.99038,     0.99039,     0.99039,      0.9904,     0.99041,     0.99041,     0.99042,     0.99043,     0.99043,     0.99044,     0.99045,     0.99045,     0.99046,     0.99046,     0.99047,     0.99048,     0.99048,     0.99049,      0.9905,      0.9905,     0.99051,     0.99052,     0.99052,\n",
       "            0.99053,     0.99053,     0.99054,     0.99055,     0.99055,     0.99056,     0.99057,     0.99057,     0.99058,     0.99059,     0.99059,      0.9906,      0.9906,     0.99061,     0.99062,     0.99062,     0.99063,     0.99064,     0.99064,     0.99065,     0.99066,     0.99066,     0.99067,\n",
       "            0.99067,     0.99068,     0.99069,     0.99069,      0.9907,     0.99071,     0.99071,     0.99072,     0.99073,     0.99073,     0.99074,     0.99075,     0.99075,     0.99076,     0.99076,     0.99077,     0.99078,     0.99078,     0.99079,      0.9908,      0.9908,     0.99081,     0.99082,\n",
       "            0.99082,     0.99083,     0.99083,     0.99084,     0.99085,     0.99085,     0.99086,     0.99087,     0.99087,     0.99088,     0.99089,     0.99089,      0.9909,      0.9909,     0.99091,     0.99092,     0.99092,     0.99093,     0.99094,     0.99094,     0.99095,     0.99096,     0.99096,\n",
       "            0.99097,     0.99098,     0.99098,     0.99099,     0.99099,       0.991,     0.99101,     0.99101,     0.99102,     0.99103,     0.99103,     0.99104,     0.99105,     0.99105,     0.99106,     0.99106,     0.99107,     0.99108,     0.99108,     0.99109,      0.9911,      0.9911,     0.99111,\n",
       "            0.99112,     0.99112,     0.99113,     0.99113,     0.99114,     0.99115,     0.99115,     0.99116,     0.99117,     0.99117,     0.99118,     0.99119,     0.99129,     0.99153,     0.99177,       0.992,     0.99224,     0.99229,      0.9923,     0.99231,     0.99232,     0.99233,     0.99234,\n",
       "            0.99235,     0.99236,     0.99237,     0.99238,     0.99239,     0.99241,     0.99242,     0.99243,     0.99244,     0.99245,     0.99246,     0.99247,     0.99248,     0.99249,      0.9925,     0.99251,     0.99252,     0.99253,     0.99254,     0.99255,     0.99256,     0.99257,     0.99258,\n",
       "            0.99259,      0.9926,     0.99261,     0.99262,     0.99263,     0.99264,     0.99265,     0.99266,     0.99268,     0.99269,      0.9927,     0.99271,     0.99272,     0.99273,     0.99274,     0.99275,     0.99276,     0.99277,     0.99278,     0.99279,      0.9928,     0.99281,     0.99282,\n",
       "            0.99283,     0.99284,     0.99285,     0.99286,     0.99287,     0.99288,     0.99289,      0.9929,     0.99291,     0.99292,     0.99294,     0.99295,     0.99296,     0.99297,     0.99298,     0.99299,       0.993,     0.99301,     0.99302,     0.99303,     0.99304,     0.99305,     0.99306,\n",
       "            0.99307,     0.99308,     0.99309,      0.9931,     0.99311,     0.99312,     0.99313,     0.99314,     0.99315,     0.99316,     0.99317,     0.99318,      0.9932,     0.99321,     0.99322,     0.99323,     0.99324,     0.99325,     0.99326,     0.99327,     0.99328,     0.99329,      0.9933,\n",
       "            0.99331,     0.99332,     0.99333,     0.99334,     0.99335,     0.99336,     0.99337,     0.99338,     0.99339,     0.99341,     0.99342,     0.99343,     0.99344,     0.99345,     0.99347,     0.99348,     0.99349,      0.9935,     0.99351,     0.99352,     0.99354,     0.99355,     0.99356,\n",
       "            0.99357,     0.99358,     0.99359,     0.99361,     0.99362,     0.99363,     0.99364,     0.99365,     0.99367,     0.99368,     0.99369,      0.9937,     0.99371,     0.99372,     0.99374,     0.99375,     0.99376,     0.99377,     0.99378,      0.9938,     0.99381,     0.99382,     0.99383,\n",
       "            0.99384,     0.99385,     0.99387,     0.99388,     0.99389,      0.9939,     0.99391,     0.99392,     0.99394,     0.99395,     0.99396,     0.99397,     0.99398,       0.994,     0.99401,     0.99402,     0.99403,     0.99404,     0.99405,     0.99407,     0.99408,     0.99409,      0.9941,\n",
       "            0.99411,     0.99412,     0.99414,     0.99415,     0.99416,     0.99417,     0.99418,      0.9942,     0.99421,     0.99422,     0.99423,     0.99424,     0.99425,     0.99427,     0.99428,     0.99429,      0.9943,     0.99431,     0.99433,     0.99434,     0.99435,     0.99436,     0.99437,\n",
       "            0.99438,      0.9944,     0.99441,     0.99442,     0.99443,     0.99444,     0.99445,     0.99447,     0.99449,     0.99452,     0.99456,      0.9946,     0.99464,     0.99467,     0.99471,     0.99475,     0.99479,     0.99482,     0.99486,      0.9949,     0.99494,     0.99497,     0.99501,\n",
       "            0.99505,     0.99509,     0.99512,     0.99516,      0.9952,     0.99524,     0.99528,     0.99531,     0.99535,     0.99539,     0.99543,     0.99546,      0.9955,     0.99554,     0.99558,     0.99559,     0.99561,     0.99562,     0.99564,     0.99566,     0.99567,     0.99569,     0.99571,\n",
       "            0.99572,     0.99574,     0.99576,     0.99577,     0.99579,      0.9958,     0.99582,     0.99584,     0.99585,     0.99587,     0.99589,      0.9959,     0.99592,     0.99594,     0.99595,     0.99597,     0.99598,       0.996,     0.99602,     0.99603,     0.99605,     0.99607,     0.99608,\n",
       "             0.9961,     0.99612,     0.99613,     0.99615,     0.99617,     0.99618,      0.9962,     0.99621,     0.99623,     0.99625,     0.99626,     0.99628,      0.9963,     0.99631,     0.99633,     0.99635,     0.99636,     0.99638,     0.99639,     0.99641,     0.99643,     0.99644,     0.99646,\n",
       "            0.99648,     0.99649,     0.99651,     0.99653,     0.99654,     0.99656,     0.99657,     0.99659,     0.99661,     0.99662,     0.99664,     0.99666,     0.99667,     0.99671,     0.99675,      0.9968,     0.99684,     0.99688,     0.99693,     0.99697,     0.99701,     0.99706,      0.9971,\n",
       "            0.99714,     0.99719,     0.99723,     0.99727,     0.99732,     0.99736,     0.99741,     0.99745,     0.99749,     0.99754,     0.99758,     0.99762,     0.99767,     0.99771,     0.99775,     0.99779,     0.99781,     0.99784,     0.99786,     0.99788,     0.99791,     0.99793,     0.99795,\n",
       "            0.99798,       0.998,     0.99802,     0.99805,     0.99807,     0.99809,     0.99811,     0.99814,     0.99816,     0.99818,     0.99821,     0.99823,     0.99825,     0.99828,      0.9983,     0.99832,     0.99835,     0.99837,     0.99839,     0.99842,     0.99844,     0.99846,     0.99849,\n",
       "            0.99851,     0.99853,     0.99855,     0.99858,      0.9986,     0.99862,     0.99865,     0.99867,     0.99869,     0.99872,     0.99874,     0.99876,     0.99879,     0.99881,     0.99883,     0.99886,     0.99888,     0.99889,     0.99889,     0.99889,     0.99889,     0.99889,     0.99889,\n",
       "            0.99889,     0.99889,     0.99889,     0.99889,     0.99889,     0.99889,     0.99889,     0.99889,     0.99889,     0.99889,     0.99889,     0.99889,     0.99889,     0.99889,     0.99889,     0.99889,     0.99889,     0.99889,     0.99889,     0.99889,     0.99889,     0.99889,     0.99889,\n",
       "            0.99889,     0.99889,     0.99889,     0.99889,     0.99889,     0.99889,     0.99889,     0.99889,     0.99889,     0.99889,     0.99889,     0.99889,     0.99889,     0.99889,     0.99889,     0.99889,     0.99889,     0.99889,     0.99899,     0.99915,      0.9993,     0.99945,      0.9996,\n",
       "            0.99975,     0.99991,           1,           1,           1,           1,           1,           1,           1,           1,           1,           1,           1,           1,           1,           1,           1,           1,           1,           1,           1,           1,           1,\n",
       "                  1,           1,           1,           1,           1,           1,           1,           1,           1,           1,           1,           1,           1,           1,           1,           1,           1,           1,           1,           1,           1,           1,           1,\n",
       "                  1,           1,           1,           1,           1,           1,           1,           1,           1,           1,           1,           1,           1,           1,           1,           1,           1,           1,           1,           1,           1,           1,           1,\n",
       "                  1,           1,           1,           1,           1,           1,           1,           1,           1,           1,           1,           1,           1,           1,           1,           1,           1,           1,           1,           1,           1,           1,           1,\n",
       "                  1,           1,           1,           1,           1,           1,           1,           1,           1,           1,           1,           1,           1,           1,           1,           1,           1,           1,           1,           1,           1,           1,           1,\n",
       "                  1,           1,           1,           1,           1,           1,           1,           1,           1,           1,           1,           1,           1,           1,           1,           1,           1,           1,           1,           1,           1,           1,           1,\n",
       "                  1,           1,           1,           1,           1,           1,           1,           1,           1,           1,           1,           1,           1,           1,           1,           1,           1,           1,           1,           1,           1,           1,           1,\n",
       "                  1,           1,           1,           1,           1,           1,           1,           1,           1,           1,           1,           1,           1,           1,           1,           1,           1,           1,           1,           1,           1,           1,           1,\n",
       "                  1,           1,           1,           1,           1,           1,           1,           1,           1,           1,           1,           1,           1,           1,           1,           1,           1,           1,           1,           1,           1,           1,           1,\n",
       "                  1,           1,           1,           1,           1,           1,           1,           1,           1,           1,           1,           1,           1,           1,           1,           1,           1,           1,           1,           1,           1,           1,           1,\n",
       "                  1,           1,           1,           1,           1,           1,           1,           1,           1,           1,           1,           1,           1,           1,           1,           1,           1,           1,           1,           1,           1,           1,           1,\n",
       "                  1,           1,           1,           1,           1,           1,           1,           1,           1,           1,           1,           1,           1,           1,           1,           1,           1,           1,           1,           1,           1,           1,           1,\n",
       "                  1,           1,           1,           1,           1,           1,           1,           1,           1,           1,           1]]), 'Confidence', 'Precision'], [array([          0,    0.001001,    0.002002,    0.003003,    0.004004,    0.005005,    0.006006,    0.007007,    0.008008,    0.009009,     0.01001,    0.011011,    0.012012,    0.013013,    0.014014,    0.015015,    0.016016,    0.017017,    0.018018,    0.019019,     0.02002,    0.021021,    0.022022,    0.023023,\n",
       "          0.024024,    0.025025,    0.026026,    0.027027,    0.028028,    0.029029,     0.03003,    0.031031,    0.032032,    0.033033,    0.034034,    0.035035,    0.036036,    0.037037,    0.038038,    0.039039,     0.04004,    0.041041,    0.042042,    0.043043,    0.044044,    0.045045,    0.046046,    0.047047,\n",
       "          0.048048,    0.049049,     0.05005,    0.051051,    0.052052,    0.053053,    0.054054,    0.055055,    0.056056,    0.057057,    0.058058,    0.059059,     0.06006,    0.061061,    0.062062,    0.063063,    0.064064,    0.065065,    0.066066,    0.067067,    0.068068,    0.069069,     0.07007,    0.071071,\n",
       "          0.072072,    0.073073,    0.074074,    0.075075,    0.076076,    0.077077,    0.078078,    0.079079,     0.08008,    0.081081,    0.082082,    0.083083,    0.084084,    0.085085,    0.086086,    0.087087,    0.088088,    0.089089,     0.09009,    0.091091,    0.092092,    0.093093,    0.094094,    0.095095,\n",
       "          0.096096,    0.097097,    0.098098,    0.099099,      0.1001,      0.1011,      0.1021,      0.1031,      0.1041,     0.10511,     0.10611,     0.10711,     0.10811,     0.10911,     0.11011,     0.11111,     0.11211,     0.11311,     0.11411,     0.11512,     0.11612,     0.11712,     0.11812,     0.11912,\n",
       "           0.12012,     0.12112,     0.12212,     0.12312,     0.12412,     0.12513,     0.12613,     0.12713,     0.12813,     0.12913,     0.13013,     0.13113,     0.13213,     0.13313,     0.13413,     0.13514,     0.13614,     0.13714,     0.13814,     0.13914,     0.14014,     0.14114,     0.14214,     0.14314,\n",
       "           0.14414,     0.14515,     0.14615,     0.14715,     0.14815,     0.14915,     0.15015,     0.15115,     0.15215,     0.15315,     0.15415,     0.15516,     0.15616,     0.15716,     0.15816,     0.15916,     0.16016,     0.16116,     0.16216,     0.16316,     0.16416,     0.16517,     0.16617,     0.16717,\n",
       "           0.16817,     0.16917,     0.17017,     0.17117,     0.17217,     0.17317,     0.17417,     0.17518,     0.17618,     0.17718,     0.17818,     0.17918,     0.18018,     0.18118,     0.18218,     0.18318,     0.18418,     0.18519,     0.18619,     0.18719,     0.18819,     0.18919,     0.19019,     0.19119,\n",
       "           0.19219,     0.19319,     0.19419,      0.1952,      0.1962,      0.1972,      0.1982,      0.1992,      0.2002,      0.2012,      0.2022,      0.2032,      0.2042,     0.20521,     0.20621,     0.20721,     0.20821,     0.20921,     0.21021,     0.21121,     0.21221,     0.21321,     0.21421,     0.21522,\n",
       "           0.21622,     0.21722,     0.21822,     0.21922,     0.22022,     0.22122,     0.22222,     0.22322,     0.22422,     0.22523,     0.22623,     0.22723,     0.22823,     0.22923,     0.23023,     0.23123,     0.23223,     0.23323,     0.23423,     0.23524,     0.23624,     0.23724,     0.23824,     0.23924,\n",
       "           0.24024,     0.24124,     0.24224,     0.24324,     0.24424,     0.24525,     0.24625,     0.24725,     0.24825,     0.24925,     0.25025,     0.25125,     0.25225,     0.25325,     0.25425,     0.25526,     0.25626,     0.25726,     0.25826,     0.25926,     0.26026,     0.26126,     0.26226,     0.26326,\n",
       "           0.26426,     0.26527,     0.26627,     0.26727,     0.26827,     0.26927,     0.27027,     0.27127,     0.27227,     0.27327,     0.27427,     0.27528,     0.27628,     0.27728,     0.27828,     0.27928,     0.28028,     0.28128,     0.28228,     0.28328,     0.28428,     0.28529,     0.28629,     0.28729,\n",
       "           0.28829,     0.28929,     0.29029,     0.29129,     0.29229,     0.29329,     0.29429,      0.2953,      0.2963,      0.2973,      0.2983,      0.2993,      0.3003,      0.3013,      0.3023,      0.3033,      0.3043,     0.30531,     0.30631,     0.30731,     0.30831,     0.30931,     0.31031,     0.31131,\n",
       "           0.31231,     0.31331,     0.31431,     0.31532,     0.31632,     0.31732,     0.31832,     0.31932,     0.32032,     0.32132,     0.32232,     0.32332,     0.32432,     0.32533,     0.32633,     0.32733,     0.32833,     0.32933,     0.33033,     0.33133,     0.33233,     0.33333,     0.33433,     0.33534,\n",
       "           0.33634,     0.33734,     0.33834,     0.33934,     0.34034,     0.34134,     0.34234,     0.34334,     0.34434,     0.34535,     0.34635,     0.34735,     0.34835,     0.34935,     0.35035,     0.35135,     0.35235,     0.35335,     0.35435,     0.35536,     0.35636,     0.35736,     0.35836,     0.35936,\n",
       "           0.36036,     0.36136,     0.36236,     0.36336,     0.36436,     0.36537,     0.36637,     0.36737,     0.36837,     0.36937,     0.37037,     0.37137,     0.37237,     0.37337,     0.37437,     0.37538,     0.37638,     0.37738,     0.37838,     0.37938,     0.38038,     0.38138,     0.38238,     0.38338,\n",
       "           0.38438,     0.38539,     0.38639,     0.38739,     0.38839,     0.38939,     0.39039,     0.39139,     0.39239,     0.39339,     0.39439,      0.3954,      0.3964,      0.3974,      0.3984,      0.3994,      0.4004,      0.4014,      0.4024,      0.4034,      0.4044,     0.40541,     0.40641,     0.40741,\n",
       "           0.40841,     0.40941,     0.41041,     0.41141,     0.41241,     0.41341,     0.41441,     0.41542,     0.41642,     0.41742,     0.41842,     0.41942,     0.42042,     0.42142,     0.42242,     0.42342,     0.42442,     0.42543,     0.42643,     0.42743,     0.42843,     0.42943,     0.43043,     0.43143,\n",
       "           0.43243,     0.43343,     0.43443,     0.43544,     0.43644,     0.43744,     0.43844,     0.43944,     0.44044,     0.44144,     0.44244,     0.44344,     0.44444,     0.44545,     0.44645,     0.44745,     0.44845,     0.44945,     0.45045,     0.45145,     0.45245,     0.45345,     0.45445,     0.45546,\n",
       "           0.45646,     0.45746,     0.45846,     0.45946,     0.46046,     0.46146,     0.46246,     0.46346,     0.46446,     0.46547,     0.46647,     0.46747,     0.46847,     0.46947,     0.47047,     0.47147,     0.47247,     0.47347,     0.47447,     0.47548,     0.47648,     0.47748,     0.47848,     0.47948,\n",
       "           0.48048,     0.48148,     0.48248,     0.48348,     0.48448,     0.48549,     0.48649,     0.48749,     0.48849,     0.48949,     0.49049,     0.49149,     0.49249,     0.49349,     0.49449,      0.4955,      0.4965,      0.4975,      0.4985,      0.4995,      0.5005,      0.5015,      0.5025,      0.5035,\n",
       "            0.5045,     0.50551,     0.50651,     0.50751,     0.50851,     0.50951,     0.51051,     0.51151,     0.51251,     0.51351,     0.51451,     0.51552,     0.51652,     0.51752,     0.51852,     0.51952,     0.52052,     0.52152,     0.52252,     0.52352,     0.52452,     0.52553,     0.52653,     0.52753,\n",
       "           0.52853,     0.52953,     0.53053,     0.53153,     0.53253,     0.53353,     0.53453,     0.53554,     0.53654,     0.53754,     0.53854,     0.53954,     0.54054,     0.54154,     0.54254,     0.54354,     0.54454,     0.54555,     0.54655,     0.54755,     0.54855,     0.54955,     0.55055,     0.55155,\n",
       "           0.55255,     0.55355,     0.55455,     0.55556,     0.55656,     0.55756,     0.55856,     0.55956,     0.56056,     0.56156,     0.56256,     0.56356,     0.56456,     0.56557,     0.56657,     0.56757,     0.56857,     0.56957,     0.57057,     0.57157,     0.57257,     0.57357,     0.57457,     0.57558,\n",
       "           0.57658,     0.57758,     0.57858,     0.57958,     0.58058,     0.58158,     0.58258,     0.58358,     0.58458,     0.58559,     0.58659,     0.58759,     0.58859,     0.58959,     0.59059,     0.59159,     0.59259,     0.59359,     0.59459,      0.5956,      0.5966,      0.5976,      0.5986,      0.5996,\n",
       "            0.6006,      0.6016,      0.6026,      0.6036,      0.6046,     0.60561,     0.60661,     0.60761,     0.60861,     0.60961,     0.61061,     0.61161,     0.61261,     0.61361,     0.61461,     0.61562,     0.61662,     0.61762,     0.61862,     0.61962,     0.62062,     0.62162,     0.62262,     0.62362,\n",
       "           0.62462,     0.62563,     0.62663,     0.62763,     0.62863,     0.62963,     0.63063,     0.63163,     0.63263,     0.63363,     0.63463,     0.63564,     0.63664,     0.63764,     0.63864,     0.63964,     0.64064,     0.64164,     0.64264,     0.64364,     0.64464,     0.64565,     0.64665,     0.64765,\n",
       "           0.64865,     0.64965,     0.65065,     0.65165,     0.65265,     0.65365,     0.65465,     0.65566,     0.65666,     0.65766,     0.65866,     0.65966,     0.66066,     0.66166,     0.66266,     0.66366,     0.66466,     0.66567,     0.66667,     0.66767,     0.66867,     0.66967,     0.67067,     0.67167,\n",
       "           0.67267,     0.67367,     0.67467,     0.67568,     0.67668,     0.67768,     0.67868,     0.67968,     0.68068,     0.68168,     0.68268,     0.68368,     0.68468,     0.68569,     0.68669,     0.68769,     0.68869,     0.68969,     0.69069,     0.69169,     0.69269,     0.69369,     0.69469,      0.6957,\n",
       "            0.6967,      0.6977,      0.6987,      0.6997,      0.7007,      0.7017,      0.7027,      0.7037,      0.7047,     0.70571,     0.70671,     0.70771,     0.70871,     0.70971,     0.71071,     0.71171,     0.71271,     0.71371,     0.71471,     0.71572,     0.71672,     0.71772,     0.71872,     0.71972,\n",
       "           0.72072,     0.72172,     0.72272,     0.72372,     0.72472,     0.72573,     0.72673,     0.72773,     0.72873,     0.72973,     0.73073,     0.73173,     0.73273,     0.73373,     0.73473,     0.73574,     0.73674,     0.73774,     0.73874,     0.73974,     0.74074,     0.74174,     0.74274,     0.74374,\n",
       "           0.74474,     0.74575,     0.74675,     0.74775,     0.74875,     0.74975,     0.75075,     0.75175,     0.75275,     0.75375,     0.75475,     0.75576,     0.75676,     0.75776,     0.75876,     0.75976,     0.76076,     0.76176,     0.76276,     0.76376,     0.76476,     0.76577,     0.76677,     0.76777,\n",
       "           0.76877,     0.76977,     0.77077,     0.77177,     0.77277,     0.77377,     0.77477,     0.77578,     0.77678,     0.77778,     0.77878,     0.77978,     0.78078,     0.78178,     0.78278,     0.78378,     0.78478,     0.78579,     0.78679,     0.78779,     0.78879,     0.78979,     0.79079,     0.79179,\n",
       "           0.79279,     0.79379,     0.79479,      0.7958,      0.7968,      0.7978,      0.7988,      0.7998,      0.8008,      0.8018,      0.8028,      0.8038,      0.8048,     0.80581,     0.80681,     0.80781,     0.80881,     0.80981,     0.81081,     0.81181,     0.81281,     0.81381,     0.81481,     0.81582,\n",
       "           0.81682,     0.81782,     0.81882,     0.81982,     0.82082,     0.82182,     0.82282,     0.82382,     0.82482,     0.82583,     0.82683,     0.82783,     0.82883,     0.82983,     0.83083,     0.83183,     0.83283,     0.83383,     0.83483,     0.83584,     0.83684,     0.83784,     0.83884,     0.83984,\n",
       "           0.84084,     0.84184,     0.84284,     0.84384,     0.84484,     0.84585,     0.84685,     0.84785,     0.84885,     0.84985,     0.85085,     0.85185,     0.85285,     0.85385,     0.85485,     0.85586,     0.85686,     0.85786,     0.85886,     0.85986,     0.86086,     0.86186,     0.86286,     0.86386,\n",
       "           0.86486,     0.86587,     0.86687,     0.86787,     0.86887,     0.86987,     0.87087,     0.87187,     0.87287,     0.87387,     0.87487,     0.87588,     0.87688,     0.87788,     0.87888,     0.87988,     0.88088,     0.88188,     0.88288,     0.88388,     0.88488,     0.88589,     0.88689,     0.88789,\n",
       "           0.88889,     0.88989,     0.89089,     0.89189,     0.89289,     0.89389,     0.89489,      0.8959,      0.8969,      0.8979,      0.8989,      0.8999,      0.9009,      0.9019,      0.9029,      0.9039,      0.9049,     0.90591,     0.90691,     0.90791,     0.90891,     0.90991,     0.91091,     0.91191,\n",
       "           0.91291,     0.91391,     0.91491,     0.91592,     0.91692,     0.91792,     0.91892,     0.91992,     0.92092,     0.92192,     0.92292,     0.92392,     0.92492,     0.92593,     0.92693,     0.92793,     0.92893,     0.92993,     0.93093,     0.93193,     0.93293,     0.93393,     0.93493,     0.93594,\n",
       "           0.93694,     0.93794,     0.93894,     0.93994,     0.94094,     0.94194,     0.94294,     0.94394,     0.94494,     0.94595,     0.94695,     0.94795,     0.94895,     0.94995,     0.95095,     0.95195,     0.95295,     0.95395,     0.95495,     0.95596,     0.95696,     0.95796,     0.95896,     0.95996,\n",
       "           0.96096,     0.96196,     0.96296,     0.96396,     0.96496,     0.96597,     0.96697,     0.96797,     0.96897,     0.96997,     0.97097,     0.97197,     0.97297,     0.97397,     0.97497,     0.97598,     0.97698,     0.97798,     0.97898,     0.97998,     0.98098,     0.98198,     0.98298,     0.98398,\n",
       "           0.98498,     0.98599,     0.98699,     0.98799,     0.98899,     0.98999,     0.99099,     0.99199,     0.99299,     0.99399,     0.99499,       0.996,       0.997,       0.998,       0.999,           1]), array([[          1,           1,           1,           1,           1,           1,           1,           1,           1,           1,           1,           1,           1,           1,           1,           1,           1,           1,           1,           1,           1,           1,           1,\n",
       "                  1,           1,           1,           1,           1,           1,           1,           1,           1,           1,           1,           1,           1,           1,           1,           1,           1,           1,           1,           1,           1,           1,           1,\n",
       "                  1,           1,           1,           1,           1,           1,           1,           1,           1,           1,           1,           1,           1,           1,           1,           1,           1,           1,           1,           1,           1,           1,           1,\n",
       "                  1,           1,           1,           1,           1,           1,           1,           1,           1,           1,           1,           1,           1,           1,           1,           1,           1,           1,           1,           1,           1,           1,           1,\n",
       "                  1,           1,           1,           1,           1,           1,           1,           1,           1,           1,           1,           1,           1,           1,           1,           1,           1,           1,           1,           1,           1,           1,           1,\n",
       "                  1,           1,           1,           1,           1,           1,           1,           1,           1,           1,           1,           1,           1,           1,           1,           1,           1,           1,           1,           1,           1,           1,           1,\n",
       "                  1,           1,           1,           1,           1,           1,           1,           1,           1,           1,           1,           1,           1,           1,           1,           1,           1,           1,           1,           1,           1,           1,           1,\n",
       "                  1,           1,           1,           1,           1,           1,           1,           1,           1,           1,           1,           1,           1,           1,           1,           1,           1,           1,           1,           1,           1,           1,           1,\n",
       "                  1,           1,           1,           1,           1,           1,           1,           1,           1,           1,           1,           1,           1,           1,           1,           1,           1,           1,           1,           1,           1,           1,           1,\n",
       "                  1,           1,           1,           1,           1,           1,           1,           1,           1,           1,           1,           1,           1,           1,           1,           1,           1,           1,           1,           1,           1,           1,           1,\n",
       "                  1,           1,           1,           1,           1,           1,           1,           1,           1,           1,           1,           1,           1,           1,           1,           1,           1,           1,           1,           1,           1,           1,           1,\n",
       "                  1,           1,           1,           1,           1,           1,           1,           1,           1,           1,           1,           1,           1,           1,           1,           1,           1,           1,           1,           1,           1,           1,           1,\n",
       "                  1,           1,           1,           1,           1,           1,           1,           1,           1,           1,           1,           1,           1,           1,           1,           1,           1,           1,           1,           1,           1,           1,           1,\n",
       "                  1,           1,           1,           1,           1,           1,           1,           1,           1,           1,           1,           1,           1,           1,           1,           1,           1,           1,           1,           1,           1,           1,           1,\n",
       "                  1,           1,           1,           1,           1,           1,           1,           1,           1,           1,           1,           1,           1,           1,           1,           1,           1,           1,           1,           1,           1,           1,           1,\n",
       "                  1,           1,           1,           1,           1,           1,           1,           1,           1,           1,           1,           1,           1,           1,           1,           1,           1,           1,           1,           1,           1,           1,           1,\n",
       "                  1,           1,           1,           1,           1,           1,           1,           1,           1,           1,           1,           1,           1,           1,           1,           1,           1,           1,           1,           1,           1,           1,           1,\n",
       "                  1,           1,           1,           1,           1,           1,           1,           1,           1,           1,           1,           1,           1,           1,           1,           1,           1,           1,           1,           1,           1,           1,           1,\n",
       "                  1,           1,           1,           1,           1,           1,           1,           1,           1,           1,           1,           1,           1,           1,           1,           1,           1,           1,           1,           1,           1,           1,           1,\n",
       "                  1,           1,           1,           1,           1,           1,           1,           1,           1,           1,           1,           1,           1,           1,           1,           1,           1,           1,           1,           1,           1,           1,           1,\n",
       "                  1,           1,           1,           1,           1,           1,           1,           1,           1,           1,           1,           1,           1,           1,           1,           1,           1,           1,           1,           1,           1,           1,           1,\n",
       "                  1,           1,           1,           1,           1,           1,           1,           1,           1,           1,           1,           1,           1,           1,           1,           1,           1,           1,           1,           1,           1,           1,           1,\n",
       "                  1,           1,           1,           1,           1,           1,           1,           1,           1,           1,           1,           1,           1,           1,           1,           1,           1,           1,           1,           1,           1,           1,           1,\n",
       "                  1,           1,           1,           1,           1,           1,           1,           1,           1,           1,           1,           1,           1,           1,           1,           1,           1,           1,           1,           1,           1,           1,           1,\n",
       "                  1,           1,           1,           1,           1,           1,           1,           1,           1,           1,           1,           1,           1,           1,           1,           1,           1,           1,           1,           1,           1,           1,           1,\n",
       "                  1,           1,           1,           1,           1,           1,           1,           1,           1,           1,           1,           1,           1,           1,           1,           1,           1,           1,           1,           1,           1,           1,           1,\n",
       "                  1,           1,           1,           1,           1,           1,           1,           1,           1,           1,           1,           1,           1,           1,           1,           1,           1,           1,           1,           1,           1,           1,           1,\n",
       "                  1,           1,           1,           1,           1,           1,           1,           1,           1,           1,           1,           1,           1,           1,           1,           1,           1,           1,           1,           1,           1,           1,           1,\n",
       "                  1,           1,           1,           1,           1,           1,           1,           1,           1,           1,           1,           1,           1,           1,           1,           1,           1,     0.99998,     0.99993,     0.99988,     0.99984,     0.99979,     0.99974,\n",
       "             0.9997,     0.99965,      0.9996,     0.99956,     0.99951,     0.99946,     0.99942,     0.99937,     0.99932,     0.99928,     0.99923,     0.99919,     0.99914,     0.99909,     0.99905,       0.999,     0.99895,     0.99891,     0.99886,     0.99881,     0.99876,     0.99871,     0.99866,\n",
       "            0.99862,     0.99857,     0.99852,     0.99847,     0.99842,     0.99837,     0.99833,     0.99828,     0.99823,     0.99818,     0.99813,     0.99808,     0.99803,     0.99799,     0.99794,     0.99789,     0.99784,     0.99779,     0.99778,     0.99778,     0.99778,     0.99778,     0.99778,\n",
       "            0.99778,     0.99778,     0.99772,     0.99757,     0.99742,     0.99726,     0.99711,     0.99696,     0.99681,     0.99666,     0.99664,     0.99661,     0.99659,     0.99656,     0.99654,     0.99651,     0.99648,     0.99646,     0.99643,     0.99641,     0.99638,     0.99635,     0.99633,\n",
       "             0.9963,     0.99628,     0.99625,     0.99622,      0.9962,     0.99617,     0.99615,     0.99612,      0.9961,     0.99607,     0.99604,     0.99602,     0.99599,     0.99597,     0.99594,     0.99591,     0.99589,     0.99586,     0.99584,     0.99581,     0.99578,     0.99576,     0.99573,\n",
       "            0.99571,     0.99568,     0.99566,     0.99563,      0.9956,     0.99558,     0.99551,     0.99518,     0.99486,     0.99453,     0.99429,     0.99409,     0.99388,     0.99367,     0.99347,     0.99306,      0.9923,     0.99197,     0.99168,      0.9914,     0.99111,     0.99098,     0.99084,\n",
       "            0.99071,     0.99058,     0.99044,     0.99031,     0.99017,     0.99004,     0.98729,     0.98584,     0.98534,     0.98506,     0.98477,     0.98449,     0.98084,     0.98008,     0.97959,     0.97914,     0.97784,     0.97612,     0.97539,     0.97507,     0.97474,     0.97439,     0.97382,\n",
       "            0.97301,     0.97185,     0.97128,     0.97031,     0.96959,     0.96902,     0.96845,     0.96788,     0.96628,     0.96306,      0.9623,      0.9612,     0.95951,     0.95451,     0.95223,     0.94977,     0.94931,     0.94873,     0.94645,     0.94487,     0.94079,     0.93592,     0.92756,\n",
       "            0.92507,     0.92195,      0.9197,     0.91645,     0.91569,     0.91256,     0.90473,     0.89579,     0.89342,     0.88395,     0.87784,      0.8689,     0.85551,     0.84768,     0.84095,      0.8309,     0.82084,     0.80873,     0.79962,     0.79534,      0.7884,     0.77834,     0.76606,\n",
       "            0.75267,     0.73817,     0.72367,      0.7114,     0.69912,     0.68573,     0.66123,     0.63784,     0.62445,     0.60217,     0.58323,     0.56984,     0.55756,     0.54084,     0.51412,     0.50295,     0.48512,     0.46062,     0.44723,     0.43273,     0.40601,     0.39373,     0.37923,\n",
       "            0.36473,     0.34578,      0.3224,     0.31234,     0.30117,     0.28778,     0.27217,     0.25545,     0.24428,      0.2409,      0.2264,     0.20856,     0.19851,     0.19512,     0.18506,     0.17612,     0.16606,     0.15712,     0.15151,     0.14589,     0.13917,     0.13467,     0.12795,\n",
       "            0.12012,     0.11451,     0.10889,     0.09995,    0.098281,    0.094364,    0.092005,    0.085419,    0.084116,    0.080364,    0.072894,    0.071419,    0.066116,    0.056364,     0.05156,     0.04853,    0.047005,    0.043616,    0.041225,    0.036838,    0.031227,    0.028919,     0.02556,\n",
       "           0.021835,    0.019947,    0.018727,    0.015338,    0.010419,   0.0095199,   0.0085041,   0.0058909,   0.0039087,           0,           0,           0,           0,           0,           0,           0,           0,           0,           0,           0,           0,           0,           0,\n",
       "                  0,           0,           0,           0,           0,           0,           0,           0,           0,           0,           0,           0,           0,           0,           0,           0,           0,           0,           0,           0,           0,           0,           0,\n",
       "                  0,           0,           0,           0,           0,           0,           0,           0,           0,           0,           0,           0,           0,           0,           0,           0,           0,           0,           0,           0,           0,           0,           0,\n",
       "                  0,           0,           0,           0,           0,           0,           0,           0,           0,           0,           0]]), 'Confidence', 'Recall']]\n",
       "fitness: 0.8765214824581365\n",
       "keys: ['metrics/precision(B)', 'metrics/recall(B)', 'metrics/mAP50(B)', 'metrics/mAP50-95(B)']\n",
       "maps: array([    0.86336])\n",
       "names: {0: 'license_plate'}\n",
       "nt_per_class: array([900])\n",
       "nt_per_image: array([900])\n",
       "results_dict: {'metrics/precision(B)': 0.9986012041413125, 'metrics/recall(B)': 1.0, 'metrics/mAP50(B)': 0.995, 'metrics/mAP50-95(B)': 0.8633572027312628, 'fitness': 0.8765214824581365}\n",
       "speed: {'preprocess': 0.1358804566664023, 'inference': 3.070331313333554, 'loss': 0.0015352511112117402, 'postprocess': 1.3339905922228152}\n",
       "stats: {'tp': [], 'conf': [], 'pred_cls': [], 'target_cls': [], 'target_img': []}\n",
       "task: 'detect'"
      ]
     },
     "execution_count": 22,
     "metadata": {},
     "output_type": "execute_result"
    }
   ],
   "source": [
    "from ultralytics import YOLO\n",
    "\n",
    "model = YOLO('yolov8s.pt')  ##using 'small' version\n",
    "\n",
    "model.train(\n",
    "    data='/kaggle/working/data.yaml',       ##path of yaml file created\n",
    "    epochs=50,                              ##higher epochs usually leads to higher accuracy\n",
    "    imgsz=640,                              ##by default image size used in yolo models is 640 X 640\n",
    "    batch=16,\n",
    "    workers=2\n",
    ")"
   ]
  },
  {
   "cell_type": "markdown",
   "metadata": {},
   "source": [
    "**Loading the trained model**"
   ]
  },
  {
   "cell_type": "code",
   "execution_count": null,
   "metadata": {
    "execution": {
     "iopub.execute_input": "2025-06-15T15:09:23.960350Z",
     "iopub.status.busy": "2025-06-15T15:09:23.959794Z",
     "iopub.status.idle": "2025-06-15T15:09:24.065700Z",
     "shell.execute_reply": "2025-06-15T15:09:24.065064Z",
     "shell.execute_reply.started": "2025-06-15T15:09:23.960313Z"
    },
    "trusted": true
   },
   "outputs": [],
   "source": [
    "model = YOLO('/kaggle/working/runs/detect/train/weights/best.pt')    ##load with best-weight"
   ]
  },
  {
   "cell_type": "markdown",
   "metadata": {},
   "source": [
    "**Let's Run Inference on test images**"
   ]
  },
  {
   "cell_type": "code",
   "execution_count": 26,
   "metadata": {
    "execution": {
     "iopub.execute_input": "2025-06-15T15:11:29.441376Z",
     "iopub.status.busy": "2025-06-15T15:11:29.440590Z",
     "iopub.status.idle": "2025-06-15T15:11:38.646676Z",
     "shell.execute_reply": "2025-06-15T15:11:38.646148Z",
     "shell.execute_reply.started": "2025-06-15T15:11:29.441348Z"
    },
    "trusted": true
   },
   "outputs": [
    {
     "name": "stdout",
     "output_type": "stream",
     "text": [
      "\n",
      "image 1/1 /kaggle/input/license-plate-prediction/test/test/test/1075.jpg: 640x480 1 license_plate, 12.1ms\n",
      "Speed: 2.3ms preprocess, 12.1ms inference, 1.8ms postprocess per image at shape (1, 3, 640, 480)\n",
      "\n",
      "image 1/1 /kaggle/input/license-plate-prediction/test/test/test/1031.jpg: 480x640 1 license_plate, 44.9ms\n",
      "Speed: 2.2ms preprocess, 44.9ms inference, 1.7ms postprocess per image at shape (1, 3, 480, 640)\n",
      "\n",
      "image 1/1 /kaggle/input/license-plate-prediction/test/test/test/1024.jpg: 384x640 1 license_plate, 44.0ms\n",
      "Speed: 1.8ms preprocess, 44.0ms inference, 1.6ms postprocess per image at shape (1, 3, 384, 640)\n",
      "\n",
      "image 1/1 /kaggle/input/license-plate-prediction/test/test/test/1009.jpg: 384x640 1 license_plate, 10.8ms\n",
      "Speed: 2.0ms preprocess, 10.8ms inference, 1.7ms postprocess per image at shape (1, 3, 384, 640)\n",
      "\n",
      "image 1/1 /kaggle/input/license-plate-prediction/test/test/test/915.jpg: 384x640 1 license_plate, 10.7ms\n",
      "Speed: 1.9ms preprocess, 10.7ms inference, 1.6ms postprocess per image at shape (1, 3, 384, 640)\n",
      "\n",
      "image 1/1 /kaggle/input/license-plate-prediction/test/test/test/1055.jpg: 640x384 1 license_plate, 43.0ms\n",
      "Speed: 1.8ms preprocess, 43.0ms inference, 1.6ms postprocess per image at shape (1, 3, 640, 384)\n",
      "\n",
      "image 1/1 /kaggle/input/license-plate-prediction/test/test/test/1026.jpg: 640x480 1 license_plate, 13.0ms\n",
      "Speed: 2.0ms preprocess, 13.0ms inference, 1.6ms postprocess per image at shape (1, 3, 640, 480)\n",
      "\n",
      "image 1/1 /kaggle/input/license-plate-prediction/test/test/test/930.jpg: 448x640 1 license_plate, 44.3ms\n",
      "Speed: 2.1ms preprocess, 44.3ms inference, 1.7ms postprocess per image at shape (1, 3, 448, 640)\n",
      "\n",
      "image 1/1 /kaggle/input/license-plate-prediction/test/test/test/1010.jpg: 640x384 1 license_plate, 11.5ms\n",
      "Speed: 1.7ms preprocess, 11.5ms inference, 1.6ms postprocess per image at shape (1, 3, 640, 384)\n",
      "\n",
      "image 1/1 /kaggle/input/license-plate-prediction/test/test/test/1025.jpg: 640x480 1 license_plate, 12.9ms\n",
      "Speed: 2.0ms preprocess, 12.9ms inference, 1.5ms postprocess per image at shape (1, 3, 640, 480)\n",
      "\n",
      "image 1/1 /kaggle/input/license-plate-prediction/test/test/test/1058.jpg: 384x640 1 license_plate, 11.5ms\n",
      "Speed: 1.8ms preprocess, 11.5ms inference, 1.5ms postprocess per image at shape (1, 3, 384, 640)\n",
      "\n",
      "image 1/1 /kaggle/input/license-plate-prediction/test/test/test/1101.jpg: 480x640 1 license_plate, 14.0ms\n",
      "Speed: 2.1ms preprocess, 14.0ms inference, 1.5ms postprocess per image at shape (1, 3, 480, 640)\n",
      "\n",
      "image 1/1 /kaggle/input/license-plate-prediction/test/test/test/988.jpg: 640x480 1 license_plate, 13.2ms\n",
      "Speed: 2.2ms preprocess, 13.2ms inference, 1.8ms postprocess per image at shape (1, 3, 640, 480)\n",
      "\n",
      "image 1/1 /kaggle/input/license-plate-prediction/test/test/test/944.jpg: 640x480 1 license_plate, 12.1ms\n",
      "Speed: 2.1ms preprocess, 12.1ms inference, 1.6ms postprocess per image at shape (1, 3, 640, 480)\n",
      "\n",
      "image 1/1 /kaggle/input/license-plate-prediction/test/test/test/1032.jpg: 640x480 2 license_plates, 12.1ms\n",
      "Speed: 2.1ms preprocess, 12.1ms inference, 1.6ms postprocess per image at shape (1, 3, 640, 480)\n",
      "\n",
      "image 1/1 /kaggle/input/license-plate-prediction/test/test/test/973.jpg: 640x480 1 license_plate, 12.1ms\n",
      "Speed: 2.0ms preprocess, 12.1ms inference, 1.7ms postprocess per image at shape (1, 3, 640, 480)\n",
      "\n",
      "image 1/1 /kaggle/input/license-plate-prediction/test/test/test/1037.jpg: 384x640 1 license_plate, 11.5ms\n",
      "Speed: 1.9ms preprocess, 11.5ms inference, 1.5ms postprocess per image at shape (1, 3, 384, 640)\n",
      "\n",
      "image 1/1 /kaggle/input/license-plate-prediction/test/test/test/950.jpg: 480x640 1 license_plate, 14.0ms\n",
      "Speed: 2.4ms preprocess, 14.0ms inference, 1.5ms postprocess per image at shape (1, 3, 480, 640)\n",
      "\n",
      "image 1/1 /kaggle/input/license-plate-prediction/test/test/test/1089.jpg: 384x640 1 license_plate, 11.5ms\n",
      "Speed: 1.6ms preprocess, 11.5ms inference, 1.5ms postprocess per image at shape (1, 3, 384, 640)\n",
      "\n",
      "image 1/1 /kaggle/input/license-plate-prediction/test/test/test/1002.jpg: 640x480 1 license_plate, 12.8ms\n",
      "Speed: 2.0ms preprocess, 12.8ms inference, 1.6ms postprocess per image at shape (1, 3, 640, 480)\n",
      "\n",
      "image 1/1 /kaggle/input/license-plate-prediction/test/test/test/994.jpg: 640x480 1 license_plate, 12.1ms\n",
      "Speed: 2.1ms preprocess, 12.1ms inference, 1.8ms postprocess per image at shape (1, 3, 640, 480)\n",
      "\n",
      "image 1/1 /kaggle/input/license-plate-prediction/test/test/test/1041.jpg: 384x640 1 license_plate, 11.5ms\n",
      "Speed: 1.7ms preprocess, 11.5ms inference, 1.6ms postprocess per image at shape (1, 3, 384, 640)\n",
      "\n",
      "image 1/1 /kaggle/input/license-plate-prediction/test/test/test/978.jpg: 384x640 1 license_plate, 10.8ms\n",
      "Speed: 1.8ms preprocess, 10.8ms inference, 1.7ms postprocess per image at shape (1, 3, 384, 640)\n",
      "\n",
      "image 1/1 /kaggle/input/license-plate-prediction/test/test/test/949.jpg: 640x384 1 license_plate, 11.4ms\n",
      "Speed: 1.6ms preprocess, 11.4ms inference, 1.5ms postprocess per image at shape (1, 3, 640, 384)\n",
      "\n",
      "image 1/1 /kaggle/input/license-plate-prediction/test/test/test/1071.jpg: 640x480 1 license_plate, 12.9ms\n",
      "Speed: 2.0ms preprocess, 12.9ms inference, 1.5ms postprocess per image at shape (1, 3, 640, 480)\n",
      "\n",
      "image 1/1 /kaggle/input/license-plate-prediction/test/test/test/1019.jpg: 384x640 1 license_plate, 11.5ms\n",
      "Speed: 1.8ms preprocess, 11.5ms inference, 1.5ms postprocess per image at shape (1, 3, 384, 640)\n",
      "\n",
      "image 1/1 /kaggle/input/license-plate-prediction/test/test/test/990.jpg: 640x480 1 license_plate, 12.9ms\n",
      "Speed: 2.0ms preprocess, 12.9ms inference, 1.5ms postprocess per image at shape (1, 3, 640, 480)\n",
      "\n",
      "image 1/1 /kaggle/input/license-plate-prediction/test/test/test/1076.jpg: 640x480 1 license_plate, 12.0ms\n",
      "Speed: 1.9ms preprocess, 12.0ms inference, 1.6ms postprocess per image at shape (1, 3, 640, 480)\n",
      "\n",
      "image 1/1 /kaggle/input/license-plate-prediction/test/test/test/948.jpg: 384x640 1 license_plate, 11.7ms\n",
      "Speed: 2.0ms preprocess, 11.7ms inference, 1.7ms postprocess per image at shape (1, 3, 384, 640)\n",
      "\n",
      "image 1/1 /kaggle/input/license-plate-prediction/test/test/test/951.jpg: 384x640 1 license_plate, 10.8ms\n",
      "Speed: 2.0ms preprocess, 10.8ms inference, 1.7ms postprocess per image at shape (1, 3, 384, 640)\n",
      "\n",
      "image 1/1 /kaggle/input/license-plate-prediction/test/test/test/998.jpg: 640x480 1 license_plate, 12.9ms\n",
      "Speed: 2.1ms preprocess, 12.9ms inference, 1.6ms postprocess per image at shape (1, 3, 640, 480)\n",
      "\n",
      "image 1/1 /kaggle/input/license-plate-prediction/test/test/test/1108.jpg: 480x640 1 license_plate, 14.1ms\n",
      "Speed: 2.1ms preprocess, 14.1ms inference, 1.6ms postprocess per image at shape (1, 3, 480, 640)\n",
      "\n",
      "image 1/1 /kaggle/input/license-plate-prediction/test/test/test/1018.jpg: 480x640 1 license_plate, 13.1ms\n",
      "Speed: 2.2ms preprocess, 13.1ms inference, 1.7ms postprocess per image at shape (1, 3, 480, 640)\n",
      "\n",
      "image 1/1 /kaggle/input/license-plate-prediction/test/test/test/1078.jpg: 640x480 1 license_plate, 12.9ms\n",
      "Speed: 2.2ms preprocess, 12.9ms inference, 1.5ms postprocess per image at shape (1, 3, 640, 480)\n",
      "\n",
      "image 1/1 /kaggle/input/license-plate-prediction/test/test/test/924.jpg: 480x640 1 license_plate, 14.0ms\n",
      "Speed: 2.3ms preprocess, 14.0ms inference, 1.6ms postprocess per image at shape (1, 3, 480, 640)\n",
      "\n",
      "image 1/1 /kaggle/input/license-plate-prediction/test/test/test/965.jpg: 640x480 1 license_plate, 12.8ms\n",
      "Speed: 1.8ms preprocess, 12.8ms inference, 1.5ms postprocess per image at shape (1, 3, 640, 480)\n",
      "\n",
      "image 1/1 /kaggle/input/license-plate-prediction/test/test/test/1067.jpg: 640x480 1 license_plate, 12.1ms\n",
      "Speed: 1.8ms preprocess, 12.1ms inference, 1.6ms postprocess per image at shape (1, 3, 640, 480)\n",
      "\n",
      "image 1/1 /kaggle/input/license-plate-prediction/test/test/test/1094.jpg: 480x640 1 license_plate, 13.9ms\n",
      "Speed: 2.0ms preprocess, 13.9ms inference, 1.5ms postprocess per image at shape (1, 3, 480, 640)\n",
      "\n",
      "image 1/1 /kaggle/input/license-plate-prediction/test/test/test/1080.jpg: 640x480 1 license_plate, 12.8ms\n",
      "Speed: 2.0ms preprocess, 12.8ms inference, 1.5ms postprocess per image at shape (1, 3, 640, 480)\n",
      "\n",
      "image 1/1 /kaggle/input/license-plate-prediction/test/test/test/1091.jpg: 384x640 1 license_plate, 11.4ms\n",
      "Speed: 1.7ms preprocess, 11.4ms inference, 1.4ms postprocess per image at shape (1, 3, 384, 640)\n",
      "\n",
      "image 1/1 /kaggle/input/license-plate-prediction/test/test/test/1012.jpg: 480x640 1 license_plate, 13.9ms\n",
      "Speed: 2.0ms preprocess, 13.9ms inference, 1.5ms postprocess per image at shape (1, 3, 480, 640)\n",
      "\n",
      "image 1/1 /kaggle/input/license-plate-prediction/test/test/test/1034.jpg: 640x480 1 license_plate, 12.8ms\n",
      "Speed: 1.9ms preprocess, 12.8ms inference, 1.4ms postprocess per image at shape (1, 3, 640, 480)\n",
      "\n",
      "image 1/1 /kaggle/input/license-plate-prediction/test/test/test/1048.jpg: 480x640 1 license_plate, 13.8ms\n",
      "Speed: 2.0ms preprocess, 13.8ms inference, 1.4ms postprocess per image at shape (1, 3, 480, 640)\n",
      "\n",
      "image 1/1 /kaggle/input/license-plate-prediction/test/test/test/904.jpg: 384x640 1 license_plate, 11.6ms\n",
      "Speed: 1.9ms preprocess, 11.6ms inference, 1.5ms postprocess per image at shape (1, 3, 384, 640)\n",
      "\n",
      "image 1/1 /kaggle/input/license-plate-prediction/test/test/test/932.jpg: 640x480 1 license_plate, 12.8ms\n",
      "Speed: 2.0ms preprocess, 12.8ms inference, 1.6ms postprocess per image at shape (1, 3, 640, 480)\n",
      "\n",
      "image 1/1 /kaggle/input/license-plate-prediction/test/test/test/1084.jpg: 480x640 1 license_plate, 14.4ms\n",
      "Speed: 2.8ms preprocess, 14.4ms inference, 1.7ms postprocess per image at shape (1, 3, 480, 640)\n",
      "\n",
      "image 1/1 /kaggle/input/license-plate-prediction/test/test/test/1095.jpg: 512x640 1 license_plate, 43.9ms\n",
      "Speed: 2.0ms preprocess, 43.9ms inference, 1.5ms postprocess per image at shape (1, 3, 512, 640)\n",
      "\n",
      "image 1/1 /kaggle/input/license-plate-prediction/test/test/test/938.jpg: 640x576 1 license_plate, 44.8ms\n",
      "Speed: 2.9ms preprocess, 44.8ms inference, 1.5ms postprocess per image at shape (1, 3, 640, 576)\n",
      "\n",
      "image 1/1 /kaggle/input/license-plate-prediction/test/test/test/1044.jpg: 640x480 1 license_plate, 13.0ms\n",
      "Speed: 2.0ms preprocess, 13.0ms inference, 1.6ms postprocess per image at shape (1, 3, 640, 480)\n",
      "\n",
      "image 1/1 /kaggle/input/license-plate-prediction/test/test/test/1099.jpg: 480x640 1 license_plate, 13.9ms\n",
      "Speed: 2.1ms preprocess, 13.9ms inference, 1.4ms postprocess per image at shape (1, 3, 480, 640)\n",
      "\n",
      "image 1/1 /kaggle/input/license-plate-prediction/test/test/test/1082.jpg: 640x480 1 license_plate, 12.8ms\n",
      "Speed: 1.8ms preprocess, 12.8ms inference, 1.4ms postprocess per image at shape (1, 3, 640, 480)\n",
      "\n",
      "image 1/1 /kaggle/input/license-plate-prediction/test/test/test/1054.jpg: 384x640 1 license_plate, 11.4ms\n",
      "Speed: 1.7ms preprocess, 11.4ms inference, 1.4ms postprocess per image at shape (1, 3, 384, 640)\n",
      "\n",
      "image 1/1 /kaggle/input/license-plate-prediction/test/test/test/1017.jpg: 384x640 1 license_plate, 10.7ms\n",
      "Speed: 1.7ms preprocess, 10.7ms inference, 1.5ms postprocess per image at shape (1, 3, 384, 640)\n",
      "\n",
      "image 1/1 /kaggle/input/license-plate-prediction/test/test/test/1060.jpg: 640x416 1 license_plate, 42.1ms\n",
      "Speed: 1.8ms preprocess, 42.1ms inference, 1.5ms postprocess per image at shape (1, 3, 640, 416)\n",
      "\n",
      "image 1/1 /kaggle/input/license-plate-prediction/test/test/test/963.jpg: 384x640 1 license_plate, 11.6ms\n",
      "Speed: 1.7ms preprocess, 11.6ms inference, 1.5ms postprocess per image at shape (1, 3, 384, 640)\n",
      "\n",
      "image 1/1 /kaggle/input/license-plate-prediction/test/test/test/943.jpg: 640x576 1 license_plate, 16.5ms\n",
      "Speed: 2.1ms preprocess, 16.5ms inference, 1.4ms postprocess per image at shape (1, 3, 640, 576)\n",
      "\n",
      "image 1/1 /kaggle/input/license-plate-prediction/test/test/test/928.jpg: 480x640 1 license_plate, 13.9ms\n",
      "Speed: 2.0ms preprocess, 13.9ms inference, 1.5ms postprocess per image at shape (1, 3, 480, 640)\n",
      "\n",
      "image 1/1 /kaggle/input/license-plate-prediction/test/test/test/974.jpg: 448x640 1 license_plate, 13.7ms\n",
      "Speed: 2.0ms preprocess, 13.7ms inference, 1.6ms postprocess per image at shape (1, 3, 448, 640)\n",
      "\n",
      "image 1/1 /kaggle/input/license-plate-prediction/test/test/test/1053.jpg: 640x480 1 license_plate, 12.9ms\n",
      "Speed: 1.9ms preprocess, 12.9ms inference, 1.4ms postprocess per image at shape (1, 3, 640, 480)\n",
      "\n",
      "image 1/1 /kaggle/input/license-plate-prediction/test/test/test/1077.jpg: 480x640 1 license_plate, 14.0ms\n",
      "Speed: 1.8ms preprocess, 14.0ms inference, 1.5ms postprocess per image at shape (1, 3, 480, 640)\n",
      "\n",
      "image 1/1 /kaggle/input/license-plate-prediction/test/test/test/903.jpg: 640x480 1 license_plate, 12.8ms\n",
      "Speed: 2.0ms preprocess, 12.8ms inference, 1.5ms postprocess per image at shape (1, 3, 640, 480)\n",
      "\n",
      "image 1/1 /kaggle/input/license-plate-prediction/test/test/test/905.jpg: 640x480 1 license_plate, 12.0ms\n",
      "Speed: 1.9ms preprocess, 12.0ms inference, 1.5ms postprocess per image at shape (1, 3, 640, 480)\n",
      "\n",
      "image 1/1 /kaggle/input/license-plate-prediction/test/test/test/1029.jpg: 384x640 1 license_plate, 11.6ms\n",
      "Speed: 1.9ms preprocess, 11.6ms inference, 1.5ms postprocess per image at shape (1, 3, 384, 640)\n",
      "\n",
      "image 1/1 /kaggle/input/license-plate-prediction/test/test/test/1042.jpg: 384x640 1 license_plate, 10.7ms\n",
      "Speed: 1.8ms preprocess, 10.7ms inference, 1.5ms postprocess per image at shape (1, 3, 384, 640)\n",
      "\n",
      "image 1/1 /kaggle/input/license-plate-prediction/test/test/test/1093.jpg: 640x384 1 license_plate, 11.4ms\n",
      "Speed: 1.5ms preprocess, 11.4ms inference, 1.4ms postprocess per image at shape (1, 3, 640, 384)\n",
      "\n",
      "image 1/1 /kaggle/input/license-plate-prediction/test/test/test/1079.jpg: 640x384 1 license_plate, 10.6ms\n",
      "Speed: 1.6ms preprocess, 10.6ms inference, 1.4ms postprocess per image at shape (1, 3, 640, 384)\n",
      "\n",
      "image 1/1 /kaggle/input/license-plate-prediction/test/test/test/1038.jpg: 640x384 1 license_plate, 10.6ms\n",
      "Speed: 1.5ms preprocess, 10.6ms inference, 1.5ms postprocess per image at shape (1, 3, 640, 384)\n",
      "\n",
      "image 1/1 /kaggle/input/license-plate-prediction/test/test/test/913.jpg: 480x640 1 license_plate, 14.0ms\n",
      "Speed: 2.1ms preprocess, 14.0ms inference, 1.5ms postprocess per image at shape (1, 3, 480, 640)\n",
      "\n",
      "image 1/1 /kaggle/input/license-plate-prediction/test/test/test/1039.jpg: 384x640 1 license_plate, 11.4ms\n",
      "Speed: 1.8ms preprocess, 11.4ms inference, 1.4ms postprocess per image at shape (1, 3, 384, 640)\n",
      "\n",
      "image 1/1 /kaggle/input/license-plate-prediction/test/test/test/929.jpg: 480x640 1 license_plate, 13.9ms\n",
      "Speed: 2.2ms preprocess, 13.9ms inference, 1.6ms postprocess per image at shape (1, 3, 480, 640)\n",
      "\n",
      "image 1/1 /kaggle/input/license-plate-prediction/test/test/test/920.jpg: 384x640 1 license_plate, 11.4ms\n",
      "Speed: 1.9ms preprocess, 11.4ms inference, 1.5ms postprocess per image at shape (1, 3, 384, 640)\n",
      "\n",
      "image 1/1 /kaggle/input/license-plate-prediction/test/test/test/1109.jpg: 640x384 1 license_plate, 11.4ms\n",
      "Speed: 1.7ms preprocess, 11.4ms inference, 1.6ms postprocess per image at shape (1, 3, 640, 384)\n",
      "\n",
      "image 1/1 /kaggle/input/license-plate-prediction/test/test/test/1074.jpg: 480x640 1 license_plate, 13.9ms\n",
      "Speed: 2.1ms preprocess, 13.9ms inference, 1.5ms postprocess per image at shape (1, 3, 480, 640)\n",
      "\n",
      "image 1/1 /kaggle/input/license-plate-prediction/test/test/test/1088.jpg: 384x640 1 license_plate, 11.4ms\n",
      "Speed: 1.5ms preprocess, 11.4ms inference, 1.5ms postprocess per image at shape (1, 3, 384, 640)\n",
      "\n",
      "image 1/1 /kaggle/input/license-plate-prediction/test/test/test/1028.jpg: 640x480 1 license_plate, 12.8ms\n",
      "Speed: 2.0ms preprocess, 12.8ms inference, 1.6ms postprocess per image at shape (1, 3, 640, 480)\n",
      "\n",
      "image 1/1 /kaggle/input/license-plate-prediction/test/test/test/1011.jpg: 640x384 1 license_plate, 11.5ms\n",
      "Speed: 1.6ms preprocess, 11.5ms inference, 1.4ms postprocess per image at shape (1, 3, 640, 384)\n",
      "\n",
      "image 1/1 /kaggle/input/license-plate-prediction/test/test/test/935.jpg: 640x480 1 license_plate, 12.8ms\n",
      "Speed: 1.9ms preprocess, 12.8ms inference, 1.5ms postprocess per image at shape (1, 3, 640, 480)\n",
      "\n",
      "image 1/1 /kaggle/input/license-plate-prediction/test/test/test/967.jpg: 640x480 1 license_plate, 12.0ms\n",
      "Speed: 1.9ms preprocess, 12.0ms inference, 1.5ms postprocess per image at shape (1, 3, 640, 480)\n",
      "\n",
      "image 1/1 /kaggle/input/license-plate-prediction/test/test/test/1022.jpg: 384x640 1 license_plate, 11.7ms\n",
      "Speed: 1.7ms preprocess, 11.7ms inference, 1.6ms postprocess per image at shape (1, 3, 384, 640)\n",
      "\n",
      "image 1/1 /kaggle/input/license-plate-prediction/test/test/test/997.jpg: 640x480 1 license_plate, 12.8ms\n",
      "Speed: 2.0ms preprocess, 12.8ms inference, 1.5ms postprocess per image at shape (1, 3, 640, 480)\n",
      "\n",
      "image 1/1 /kaggle/input/license-plate-prediction/test/test/test/1100.jpg: 384x640 1 license_plate, 11.4ms\n",
      "Speed: 1.8ms preprocess, 11.4ms inference, 1.4ms postprocess per image at shape (1, 3, 384, 640)\n",
      "\n",
      "image 1/1 /kaggle/input/license-plate-prediction/test/test/test/937.jpg: 480x640 1 license_plate, 13.9ms\n",
      "Speed: 2.0ms preprocess, 13.9ms inference, 1.5ms postprocess per image at shape (1, 3, 480, 640)\n",
      "\n",
      "image 1/1 /kaggle/input/license-plate-prediction/test/test/test/1023.jpg: 384x640 1 license_plate, 11.3ms\n",
      "Speed: 1.6ms preprocess, 11.3ms inference, 1.4ms postprocess per image at shape (1, 3, 384, 640)\n",
      "\n",
      "image 1/1 /kaggle/input/license-plate-prediction/test/test/test/942.jpg: 384x640 1 license_plate, 10.7ms\n",
      "Speed: 1.7ms preprocess, 10.7ms inference, 1.3ms postprocess per image at shape (1, 3, 384, 640)\n",
      "\n",
      "image 1/1 /kaggle/input/license-plate-prediction/test/test/test/1066.jpg: 640x544 1 license_plate, 42.3ms\n",
      "Speed: 2.0ms preprocess, 42.3ms inference, 1.6ms postprocess per image at shape (1, 3, 640, 544)\n",
      "\n",
      "image 1/1 /kaggle/input/license-plate-prediction/test/test/test/993.jpg: 640x384 1 license_plate, 11.4ms\n",
      "Speed: 1.9ms preprocess, 11.4ms inference, 1.6ms postprocess per image at shape (1, 3, 640, 384)\n",
      "\n",
      "image 1/1 /kaggle/input/license-plate-prediction/test/test/test/901.jpg: 640x480 1 license_plate, 12.8ms\n",
      "Speed: 1.9ms preprocess, 12.8ms inference, 1.6ms postprocess per image at shape (1, 3, 640, 480)\n",
      "\n",
      "image 1/1 /kaggle/input/license-plate-prediction/test/test/test/917.jpg: 480x640 2 license_plates, 14.1ms\n",
      "Speed: 2.1ms preprocess, 14.1ms inference, 1.6ms postprocess per image at shape (1, 3, 480, 640)\n",
      "\n",
      "image 1/1 /kaggle/input/license-plate-prediction/test/test/test/908.jpg: 384x640 1 license_plate, 11.5ms\n",
      "Speed: 1.8ms preprocess, 11.5ms inference, 1.9ms postprocess per image at shape (1, 3, 384, 640)\n",
      "\n",
      "image 1/1 /kaggle/input/license-plate-prediction/test/test/test/918.jpg: 480x640 1 license_plate, 13.9ms\n",
      "Speed: 2.1ms preprocess, 13.9ms inference, 1.5ms postprocess per image at shape (1, 3, 480, 640)\n",
      "\n",
      "image 1/1 /kaggle/input/license-plate-prediction/test/test/test/1056.jpg: 640x480 1 license_plate, 12.8ms\n",
      "Speed: 1.9ms preprocess, 12.8ms inference, 1.5ms postprocess per image at shape (1, 3, 640, 480)\n",
      "\n",
      "image 1/1 /kaggle/input/license-plate-prediction/test/test/test/931.jpg: 480x640 1 license_plate, 13.8ms\n",
      "Speed: 2.0ms preprocess, 13.8ms inference, 1.5ms postprocess per image at shape (1, 3, 480, 640)\n",
      "\n",
      "image 1/1 /kaggle/input/license-plate-prediction/test/test/test/1086.jpg: 384x640 1 license_plate, 11.5ms\n",
      "Speed: 1.8ms preprocess, 11.5ms inference, 1.5ms postprocess per image at shape (1, 3, 384, 640)\n",
      "\n",
      "image 1/1 /kaggle/input/license-plate-prediction/test/test/test/992.jpg: 640x480 1 license_plate, 12.7ms\n",
      "Speed: 2.2ms preprocess, 12.7ms inference, 1.4ms postprocess per image at shape (1, 3, 640, 480)\n",
      "\n",
      "image 1/1 /kaggle/input/license-plate-prediction/test/test/test/945.jpg: 384x640 1 license_plate, 11.4ms\n",
      "Speed: 1.8ms preprocess, 11.4ms inference, 1.4ms postprocess per image at shape (1, 3, 384, 640)\n",
      "\n",
      "image 1/1 /kaggle/input/license-plate-prediction/test/test/test/1081.jpg: 640x480 1 license_plate, 12.9ms\n",
      "Speed: 2.1ms preprocess, 12.9ms inference, 1.5ms postprocess per image at shape (1, 3, 640, 480)\n",
      "\n",
      "image 1/1 /kaggle/input/license-plate-prediction/test/test/test/947.jpg: 640x384 2 license_plates, 11.4ms\n",
      "Speed: 1.6ms preprocess, 11.4ms inference, 1.4ms postprocess per image at shape (1, 3, 640, 384)\n",
      "\n",
      "image 1/1 /kaggle/input/license-plate-prediction/test/test/test/1043.jpg: 640x544 1 license_plate, 16.6ms\n",
      "Speed: 2.3ms preprocess, 16.6ms inference, 1.4ms postprocess per image at shape (1, 3, 640, 544)\n",
      "\n",
      "image 1/1 /kaggle/input/license-plate-prediction/test/test/test/926.jpg: 640x512 1 license_plate, 42.0ms\n",
      "Speed: 1.9ms preprocess, 42.0ms inference, 1.6ms postprocess per image at shape (1, 3, 640, 512)\n",
      "\n",
      "image 1/1 /kaggle/input/license-plate-prediction/test/test/test/1064.jpg: 640x384 1 license_plate, 11.3ms\n",
      "Speed: 1.6ms preprocess, 11.3ms inference, 1.5ms postprocess per image at shape (1, 3, 640, 384)\n",
      "\n",
      "image 1/1 /kaggle/input/license-plate-prediction/test/test/test/955.jpg: 640x384 1 license_plate, 10.6ms\n",
      "Speed: 1.6ms preprocess, 10.6ms inference, 1.6ms postprocess per image at shape (1, 3, 640, 384)\n",
      "\n",
      "image 1/1 /kaggle/input/license-plate-prediction/test/test/test/1104.jpg: 640x384 1 license_plate, 10.6ms\n",
      "Speed: 1.6ms preprocess, 10.6ms inference, 1.5ms postprocess per image at shape (1, 3, 640, 384)\n",
      "\n",
      "image 1/1 /kaggle/input/license-plate-prediction/test/test/test/972.jpg: 480x640 2 license_plates, 13.9ms\n",
      "Speed: 2.1ms preprocess, 13.9ms inference, 1.5ms postprocess per image at shape (1, 3, 480, 640)\n",
      "\n",
      "image 1/1 /kaggle/input/license-plate-prediction/test/test/test/1087.jpg: 640x512 1 license_plate, 12.9ms\n",
      "Speed: 2.0ms preprocess, 12.9ms inference, 1.4ms postprocess per image at shape (1, 3, 640, 512)\n",
      "\n",
      "image 1/1 /kaggle/input/license-plate-prediction/test/test/test/999.jpg: 384x640 1 license_plate, 11.6ms\n",
      "Speed: 1.8ms preprocess, 11.6ms inference, 1.6ms postprocess per image at shape (1, 3, 384, 640)\n",
      "\n",
      "image 1/1 /kaggle/input/license-plate-prediction/test/test/test/906.jpg: 384x640 1 license_plate, 10.7ms\n",
      "Speed: 1.7ms preprocess, 10.7ms inference, 1.5ms postprocess per image at shape (1, 3, 384, 640)\n",
      "\n",
      "image 1/1 /kaggle/input/license-plate-prediction/test/test/test/922.jpg: 640x640 1 license_plate, 16.9ms\n",
      "Speed: 2.4ms preprocess, 16.9ms inference, 1.5ms postprocess per image at shape (1, 3, 640, 640)\n",
      "\n",
      "image 1/1 /kaggle/input/license-plate-prediction/test/test/test/907.jpg: 640x480 1 license_plate, 12.9ms\n",
      "Speed: 2.0ms preprocess, 12.9ms inference, 1.5ms postprocess per image at shape (1, 3, 640, 480)\n",
      "\n",
      "image 1/1 /kaggle/input/license-plate-prediction/test/test/test/939.jpg: 480x640 1 license_plate, 13.9ms\n",
      "Speed: 2.0ms preprocess, 13.9ms inference, 1.4ms postprocess per image at shape (1, 3, 480, 640)\n",
      "\n",
      "image 1/1 /kaggle/input/license-plate-prediction/test/test/test/1006.jpg: 640x480 1 license_plate, 12.9ms\n",
      "Speed: 2.0ms preprocess, 12.9ms inference, 1.5ms postprocess per image at shape (1, 3, 640, 480)\n",
      "\n",
      "image 1/1 /kaggle/input/license-plate-prediction/test/test/test/1107.jpg: 480x640 2 license_plates, 13.9ms\n",
      "Speed: 2.1ms preprocess, 13.9ms inference, 1.4ms postprocess per image at shape (1, 3, 480, 640)\n",
      "\n",
      "image 1/1 /kaggle/input/license-plate-prediction/test/test/test/934.jpg: 384x640 1 license_plate, 11.4ms\n",
      "Speed: 1.7ms preprocess, 11.4ms inference, 1.4ms postprocess per image at shape (1, 3, 384, 640)\n",
      "\n",
      "image 1/1 /kaggle/input/license-plate-prediction/test/test/test/1035.jpg: 640x480 1 license_plate, 12.8ms\n",
      "Speed: 1.9ms preprocess, 12.8ms inference, 1.4ms postprocess per image at shape (1, 3, 640, 480)\n",
      "\n",
      "image 1/1 /kaggle/input/license-plate-prediction/test/test/test/968.jpg: 640x480 1 license_plate, 12.1ms\n",
      "Speed: 1.9ms preprocess, 12.1ms inference, 1.6ms postprocess per image at shape (1, 3, 640, 480)\n",
      "\n",
      "image 1/1 /kaggle/input/license-plate-prediction/test/test/test/940.jpg: 448x640 1 license_plate, 13.7ms\n",
      "Speed: 2.0ms preprocess, 13.7ms inference, 1.5ms postprocess per image at shape (1, 3, 448, 640)\n",
      "\n",
      "image 1/1 /kaggle/input/license-plate-prediction/test/test/test/1007.jpg: 640x384 1 license_plate, 11.3ms\n",
      "Speed: 1.6ms preprocess, 11.3ms inference, 1.5ms postprocess per image at shape (1, 3, 640, 384)\n",
      "\n",
      "image 1/1 /kaggle/input/license-plate-prediction/test/test/test/1036.jpg: 640x480 1 license_plate, 12.8ms\n",
      "Speed: 1.9ms preprocess, 12.8ms inference, 1.4ms postprocess per image at shape (1, 3, 640, 480)\n",
      "\n",
      "image 1/1 /kaggle/input/license-plate-prediction/test/test/test/996.jpg: 480x640 1 license_plate, 13.9ms\n",
      "Speed: 1.9ms preprocess, 13.9ms inference, 1.5ms postprocess per image at shape (1, 3, 480, 640)\n",
      "\n",
      "image 1/1 /kaggle/input/license-plate-prediction/test/test/test/1027.jpg: 384x640 1 license_plate, 11.4ms\n",
      "Speed: 1.6ms preprocess, 11.4ms inference, 1.4ms postprocess per image at shape (1, 3, 384, 640)\n",
      "\n",
      "image 1/1 /kaggle/input/license-plate-prediction/test/test/test/1068.jpg: 480x640 1 license_plate, 13.8ms\n",
      "Speed: 2.0ms preprocess, 13.8ms inference, 1.4ms postprocess per image at shape (1, 3, 480, 640)\n",
      "\n",
      "image 1/1 /kaggle/input/license-plate-prediction/test/test/test/1051.jpg: 416x640 1 license_plate, 43.0ms\n",
      "Speed: 1.8ms preprocess, 43.0ms inference, 1.6ms postprocess per image at shape (1, 3, 416, 640)\n",
      "\n",
      "image 1/1 /kaggle/input/license-plate-prediction/test/test/test/1050.jpg: 512x640 2 license_plates, 13.8ms\n",
      "Speed: 2.2ms preprocess, 13.8ms inference, 1.5ms postprocess per image at shape (1, 3, 512, 640)\n",
      "\n",
      "image 1/1 /kaggle/input/license-plate-prediction/test/test/test/946.jpg: 480x640 1 license_plate, 13.8ms\n",
      "Speed: 1.9ms preprocess, 13.8ms inference, 1.3ms postprocess per image at shape (1, 3, 480, 640)\n",
      "\n",
      "image 1/1 /kaggle/input/license-plate-prediction/test/test/test/911.jpg: 640x480 1 license_plate, 12.8ms\n",
      "Speed: 1.9ms preprocess, 12.8ms inference, 1.4ms postprocess per image at shape (1, 3, 640, 480)\n",
      "\n",
      "image 1/1 /kaggle/input/license-plate-prediction/test/test/test/957.jpg: 384x640 1 license_plate, 11.4ms\n",
      "Speed: 1.7ms preprocess, 11.4ms inference, 1.4ms postprocess per image at shape (1, 3, 384, 640)\n",
      "\n",
      "image 1/1 /kaggle/input/license-plate-prediction/test/test/test/1069.jpg: 384x640 1 license_plate, 10.7ms\n",
      "Speed: 1.6ms preprocess, 10.7ms inference, 1.5ms postprocess per image at shape (1, 3, 384, 640)\n",
      "\n",
      "image 1/1 /kaggle/input/license-plate-prediction/test/test/test/1045.jpg: 480x640 1 license_plate, 13.8ms\n",
      "Speed: 1.9ms preprocess, 13.8ms inference, 1.4ms postprocess per image at shape (1, 3, 480, 640)\n",
      "\n",
      "image 1/1 /kaggle/input/license-plate-prediction/test/test/test/956.jpg: 384x640 1 license_plate, 11.6ms\n",
      "Speed: 1.6ms preprocess, 11.6ms inference, 1.8ms postprocess per image at shape (1, 3, 384, 640)\n",
      "\n",
      "image 1/1 /kaggle/input/license-plate-prediction/test/test/test/1059.jpg: 384x640 1 license_plate, 10.7ms\n",
      "Speed: 1.7ms preprocess, 10.7ms inference, 1.7ms postprocess per image at shape (1, 3, 384, 640)\n",
      "\n",
      "image 1/1 /kaggle/input/license-plate-prediction/test/test/test/1112.jpg: 640x480 1 license_plate, 12.9ms\n",
      "Speed: 2.1ms preprocess, 12.9ms inference, 1.6ms postprocess per image at shape (1, 3, 640, 480)\n",
      "\n",
      "image 1/1 /kaggle/input/license-plate-prediction/test/test/test/970.jpg: 384x640 1 license_plate, 11.7ms\n",
      "Speed: 1.9ms preprocess, 11.7ms inference, 1.7ms postprocess per image at shape (1, 3, 384, 640)\n",
      "\n",
      "image 1/1 /kaggle/input/license-plate-prediction/test/test/test/971.jpg: 480x640 1 license_plate, 14.0ms\n",
      "Speed: 2.2ms preprocess, 14.0ms inference, 1.6ms postprocess per image at shape (1, 3, 480, 640)\n",
      "\n",
      "image 1/1 /kaggle/input/license-plate-prediction/test/test/test/1047.jpg: 480x640 1 license_plate, 13.1ms\n",
      "Speed: 2.2ms preprocess, 13.1ms inference, 1.5ms postprocess per image at shape (1, 3, 480, 640)\n",
      "\n",
      "image 1/1 /kaggle/input/license-plate-prediction/test/test/test/991.jpg: 480x640 1 license_plate, 13.1ms\n",
      "Speed: 1.8ms preprocess, 13.1ms inference, 1.5ms postprocess per image at shape (1, 3, 480, 640)\n",
      "\n",
      "image 1/1 /kaggle/input/license-plate-prediction/test/test/test/1063.jpg: 640x480 1 license_plate, 13.0ms\n",
      "Speed: 2.1ms preprocess, 13.0ms inference, 1.6ms postprocess per image at shape (1, 3, 640, 480)\n",
      "\n",
      "image 1/1 /kaggle/input/license-plate-prediction/test/test/test/1103.jpg: 480x640 1 license_plate, 14.1ms\n",
      "Speed: 2.0ms preprocess, 14.1ms inference, 1.6ms postprocess per image at shape (1, 3, 480, 640)\n",
      "\n",
      "image 1/1 /kaggle/input/license-plate-prediction/test/test/test/1098.jpg: 384x640 1 license_plate, 11.5ms\n",
      "Speed: 1.8ms preprocess, 11.5ms inference, 1.6ms postprocess per image at shape (1, 3, 384, 640)\n",
      "\n",
      "image 1/1 /kaggle/input/license-plate-prediction/test/test/test/1000.jpg: 448x640 1 license_plate, 13.8ms\n",
      "Speed: 2.2ms preprocess, 13.8ms inference, 1.6ms postprocess per image at shape (1, 3, 448, 640)\n",
      "\n",
      "image 1/1 /kaggle/input/license-plate-prediction/test/test/test/995.jpg: 480x640 1 license_plate, 14.1ms\n",
      "Speed: 2.1ms preprocess, 14.1ms inference, 1.7ms postprocess per image at shape (1, 3, 480, 640)\n",
      "\n",
      "image 1/1 /kaggle/input/license-plate-prediction/test/test/test/1096.jpg: 480x640 1 license_plate, 13.2ms\n",
      "Speed: 2.2ms preprocess, 13.2ms inference, 1.7ms postprocess per image at shape (1, 3, 480, 640)\n",
      "\n",
      "image 1/1 /kaggle/input/license-plate-prediction/test/test/test/936.jpg: 384x640 1 license_plate, 11.5ms\n",
      "Speed: 1.9ms preprocess, 11.5ms inference, 1.5ms postprocess per image at shape (1, 3, 384, 640)\n",
      "\n",
      "image 1/1 /kaggle/input/license-plate-prediction/test/test/test/1102.jpg: 640x480 1 license_plate, 12.8ms\n",
      "Speed: 2.0ms preprocess, 12.8ms inference, 1.6ms postprocess per image at shape (1, 3, 640, 480)\n",
      "\n",
      "image 1/1 /kaggle/input/license-plate-prediction/test/test/test/1013.jpg: 640x480 1 license_plate, 12.0ms\n",
      "Speed: 1.9ms preprocess, 12.0ms inference, 1.5ms postprocess per image at shape (1, 3, 640, 480)\n",
      "\n",
      "image 1/1 /kaggle/input/license-plate-prediction/test/test/test/1106.jpg: 640x480 1 license_plate, 12.1ms\n",
      "Speed: 1.9ms preprocess, 12.1ms inference, 1.5ms postprocess per image at shape (1, 3, 640, 480)\n",
      "\n",
      "image 1/1 /kaggle/input/license-plate-prediction/test/test/test/979.jpg: 480x640 1 license_plate, 14.1ms\n",
      "Speed: 2.0ms preprocess, 14.1ms inference, 1.7ms postprocess per image at shape (1, 3, 480, 640)\n",
      "\n",
      "image 1/1 /kaggle/input/license-plate-prediction/test/test/test/1004.jpg: 640x384 1 license_plate, 11.4ms\n",
      "Speed: 1.6ms preprocess, 11.4ms inference, 1.4ms postprocess per image at shape (1, 3, 640, 384)\n",
      "\n",
      "image 1/1 /kaggle/input/license-plate-prediction/test/test/test/1110.jpg: 640x480 1 license_plate, 12.7ms\n",
      "Speed: 2.0ms preprocess, 12.7ms inference, 1.4ms postprocess per image at shape (1, 3, 640, 480)\n",
      "\n",
      "image 1/1 /kaggle/input/license-plate-prediction/test/test/test/1040.jpg: 640x480 1 license_plate, 12.0ms\n",
      "Speed: 1.9ms preprocess, 12.0ms inference, 1.4ms postprocess per image at shape (1, 3, 640, 480)\n",
      "\n",
      "image 1/1 /kaggle/input/license-plate-prediction/test/test/test/958.jpg: 384x640 1 license_plate, 11.5ms\n",
      "Speed: 1.7ms preprocess, 11.5ms inference, 1.4ms postprocess per image at shape (1, 3, 384, 640)\n",
      "\n",
      "image 1/1 /kaggle/input/license-plate-prediction/test/test/test/1083.jpg: 640x480 1 license_plate, 12.8ms\n",
      "Speed: 1.9ms preprocess, 12.8ms inference, 2.0ms postprocess per image at shape (1, 3, 640, 480)\n",
      "\n",
      "image 1/1 /kaggle/input/license-plate-prediction/test/test/test/966.jpg: 480x640 1 license_plate, 13.8ms\n",
      "Speed: 1.9ms preprocess, 13.8ms inference, 1.5ms postprocess per image at shape (1, 3, 480, 640)\n",
      "\n",
      "image 1/1 /kaggle/input/license-plate-prediction/test/test/test/961.jpg: 640x480 1 license_plate, 13.0ms\n",
      "Speed: 2.3ms preprocess, 13.0ms inference, 1.6ms postprocess per image at shape (1, 3, 640, 480)\n",
      "\n",
      "image 1/1 /kaggle/input/license-plate-prediction/test/test/test/1062.jpg: 384x640 1 license_plate, 11.6ms\n",
      "Speed: 2.0ms preprocess, 11.6ms inference, 1.6ms postprocess per image at shape (1, 3, 384, 640)\n",
      "\n",
      "image 1/1 /kaggle/input/license-plate-prediction/test/test/test/1105.jpg: 640x480 1 license_plate, 13.0ms\n",
      "Speed: 2.0ms preprocess, 13.0ms inference, 1.6ms postprocess per image at shape (1, 3, 640, 480)\n",
      "\n",
      "image 1/1 /kaggle/input/license-plate-prediction/test/test/test/976.jpg: 480x640 1 license_plate, 14.0ms\n",
      "Speed: 2.3ms preprocess, 14.0ms inference, 1.5ms postprocess per image at shape (1, 3, 480, 640)\n",
      "\n",
      "image 1/1 /kaggle/input/license-plate-prediction/test/test/test/959.jpg: 640x384 1 license_plate, 11.5ms\n",
      "Speed: 1.9ms preprocess, 11.5ms inference, 1.7ms postprocess per image at shape (1, 3, 640, 384)\n",
      "\n",
      "image 1/1 /kaggle/input/license-plate-prediction/test/test/test/1092.jpg: 384x640 1 license_plate, 11.7ms\n",
      "Speed: 2.2ms preprocess, 11.7ms inference, 1.7ms postprocess per image at shape (1, 3, 384, 640)\n",
      "\n",
      "image 1/1 /kaggle/input/license-plate-prediction/test/test/test/912.jpg: 384x640 1 license_plate, 10.7ms\n",
      "Speed: 1.9ms preprocess, 10.7ms inference, 1.7ms postprocess per image at shape (1, 3, 384, 640)\n",
      "\n",
      "image 1/1 /kaggle/input/license-plate-prediction/test/test/test/909.jpg: 640x480 1 license_plate, 12.8ms\n",
      "Speed: 2.0ms preprocess, 12.8ms inference, 1.4ms postprocess per image at shape (1, 3, 640, 480)\n",
      "\n",
      "image 1/1 /kaggle/input/license-plate-prediction/test/test/test/952.jpg: 384x640 1 license_plate, 11.4ms\n",
      "Speed: 1.8ms preprocess, 11.4ms inference, 1.5ms postprocess per image at shape (1, 3, 384, 640)\n",
      "\n",
      "image 1/1 /kaggle/input/license-plate-prediction/test/test/test/1003.jpg: 384x640 1 license_plate, 10.7ms\n",
      "Speed: 1.6ms preprocess, 10.7ms inference, 1.5ms postprocess per image at shape (1, 3, 384, 640)\n",
      "\n",
      "image 1/1 /kaggle/input/license-plate-prediction/test/test/test/984.jpg: 480x640 1 license_plate, 13.9ms\n",
      "Speed: 2.3ms preprocess, 13.9ms inference, 1.5ms postprocess per image at shape (1, 3, 480, 640)\n",
      "\n",
      "image 1/1 /kaggle/input/license-plate-prediction/test/test/test/954.jpg: 384x640 1 license_plate, 11.4ms\n",
      "Speed: 1.8ms preprocess, 11.4ms inference, 1.5ms postprocess per image at shape (1, 3, 384, 640)\n",
      "\n",
      "image 1/1 /kaggle/input/license-plate-prediction/test/test/test/982.jpg: 640x384 1 license_plate, 11.3ms\n",
      "Speed: 1.6ms preprocess, 11.3ms inference, 1.4ms postprocess per image at shape (1, 3, 640, 384)\n",
      "\n",
      "image 1/1 /kaggle/input/license-plate-prediction/test/test/test/1070.jpg: 640x384 1 license_plate, 10.6ms\n",
      "Speed: 1.5ms preprocess, 10.6ms inference, 1.5ms postprocess per image at shape (1, 3, 640, 384)\n",
      "\n",
      "image 1/1 /kaggle/input/license-plate-prediction/test/test/test/1072.jpg: 480x640 1 license_plate, 13.9ms\n",
      "Speed: 2.1ms preprocess, 13.9ms inference, 1.5ms postprocess per image at shape (1, 3, 480, 640)\n",
      "\n",
      "image 1/1 /kaggle/input/license-plate-prediction/test/test/test/975.jpg: 640x384 1 license_plate, 11.4ms\n",
      "Speed: 1.6ms preprocess, 11.4ms inference, 1.5ms postprocess per image at shape (1, 3, 640, 384)\n",
      "\n",
      "image 1/1 /kaggle/input/license-plate-prediction/test/test/test/1033.jpg: 480x640 2 license_plates, 14.1ms\n",
      "Speed: 2.3ms preprocess, 14.1ms inference, 1.6ms postprocess per image at shape (1, 3, 480, 640)\n",
      "\n",
      "image 1/1 /kaggle/input/license-plate-prediction/test/test/test/914.jpg: 384x640 1 license_plate, 11.5ms\n",
      "Speed: 1.8ms preprocess, 11.5ms inference, 1.6ms postprocess per image at shape (1, 3, 384, 640)\n",
      "\n",
      "image 1/1 /kaggle/input/license-plate-prediction/test/test/test/919.jpg: 384x640 1 license_plate, 10.7ms\n",
      "Speed: 1.9ms preprocess, 10.7ms inference, 1.7ms postprocess per image at shape (1, 3, 384, 640)\n",
      "\n",
      "image 1/1 /kaggle/input/license-plate-prediction/test/test/test/1085.jpg: 640x480 1 license_plate, 12.9ms\n",
      "Speed: 1.9ms preprocess, 12.9ms inference, 1.6ms postprocess per image at shape (1, 3, 640, 480)\n",
      "\n",
      "image 1/1 /kaggle/input/license-plate-prediction/test/test/test/1014.jpg: 480x640 1 license_plate, 14.0ms\n",
      "Speed: 2.2ms preprocess, 14.0ms inference, 1.8ms postprocess per image at shape (1, 3, 480, 640)\n",
      "\n",
      "image 1/1 /kaggle/input/license-plate-prediction/test/test/test/1049.jpg: 640x480 1 license_plate, 12.8ms\n",
      "Speed: 2.1ms preprocess, 12.8ms inference, 1.5ms postprocess per image at shape (1, 3, 640, 480)\n",
      "\n",
      "image 1/1 /kaggle/input/license-plate-prediction/test/test/test/910.jpg: 384x640 1 license_plate, 11.6ms\n",
      "Speed: 1.8ms preprocess, 11.6ms inference, 1.5ms postprocess per image at shape (1, 3, 384, 640)\n",
      "\n",
      "image 1/1 /kaggle/input/license-plate-prediction/test/test/test/933.jpg: 640x480 1 license_plate, 12.8ms\n",
      "Speed: 2.0ms preprocess, 12.8ms inference, 1.5ms postprocess per image at shape (1, 3, 640, 480)\n",
      "\n",
      "image 1/1 /kaggle/input/license-plate-prediction/test/test/test/977.jpg: 480x640 1 license_plate, 13.9ms\n",
      "Speed: 2.1ms preprocess, 13.9ms inference, 1.5ms postprocess per image at shape (1, 3, 480, 640)\n",
      "\n",
      "image 1/1 /kaggle/input/license-plate-prediction/test/test/test/1001.jpg: 640x384 1 license_plate, 11.2ms\n",
      "Speed: 1.6ms preprocess, 11.2ms inference, 1.4ms postprocess per image at shape (1, 3, 640, 384)\n",
      "\n",
      "image 1/1 /kaggle/input/license-plate-prediction/test/test/test/981.jpg: 448x640 1 license_plate, 13.9ms\n",
      "Speed: 2.1ms preprocess, 13.9ms inference, 1.5ms postprocess per image at shape (1, 3, 448, 640)\n",
      "\n",
      "image 1/1 /kaggle/input/license-plate-prediction/test/test/test/902.jpg: 384x640 2 license_plates, 11.5ms\n",
      "Speed: 1.8ms preprocess, 11.5ms inference, 1.5ms postprocess per image at shape (1, 3, 384, 640)\n",
      "\n",
      "image 1/1 /kaggle/input/license-plate-prediction/test/test/test/1030.jpg: 384x640 1 license_plate, 10.7ms\n",
      "Speed: 1.7ms preprocess, 10.7ms inference, 1.4ms postprocess per image at shape (1, 3, 384, 640)\n",
      "\n",
      "image 1/1 /kaggle/input/license-plate-prediction/test/test/test/1008.jpg: 384x640 1 license_plate, 10.7ms\n",
      "Speed: 1.8ms preprocess, 10.7ms inference, 1.7ms postprocess per image at shape (1, 3, 384, 640)\n",
      "\n",
      "image 1/1 /kaggle/input/license-plate-prediction/test/test/test/1020.jpg: 640x480 1 license_plate, 12.8ms\n",
      "Speed: 2.0ms preprocess, 12.8ms inference, 1.6ms postprocess per image at shape (1, 3, 640, 480)\n",
      "\n",
      "image 1/1 /kaggle/input/license-plate-prediction/test/test/test/923.jpg: 640x480 1 license_plate, 12.1ms\n",
      "Speed: 1.9ms preprocess, 12.1ms inference, 1.8ms postprocess per image at shape (1, 3, 640, 480)\n",
      "\n",
      "image 1/1 /kaggle/input/license-plate-prediction/test/test/test/941.jpg: 480x640 1 license_plate, 14.4ms\n",
      "Speed: 2.2ms preprocess, 14.4ms inference, 1.6ms postprocess per image at shape (1, 3, 480, 640)\n",
      "\n",
      "image 1/1 /kaggle/input/license-plate-prediction/test/test/test/964.jpg: 480x640 1 license_plate, 13.1ms\n",
      "Speed: 2.1ms preprocess, 13.1ms inference, 1.6ms postprocess per image at shape (1, 3, 480, 640)\n",
      "\n",
      "image 1/1 /kaggle/input/license-plate-prediction/test/test/test/927.jpg: 640x480 1 license_plate, 12.8ms\n",
      "Speed: 1.9ms preprocess, 12.8ms inference, 1.5ms postprocess per image at shape (1, 3, 640, 480)\n",
      "\n",
      "image 1/1 /kaggle/input/license-plate-prediction/test/test/test/1073.jpg: 448x640 1 license_plate, 13.7ms\n",
      "Speed: 2.0ms preprocess, 13.7ms inference, 1.4ms postprocess per image at shape (1, 3, 448, 640)\n",
      "\n",
      "image 1/1 /kaggle/input/license-plate-prediction/test/test/test/1113.jpg: 384x640 2 license_plates, 11.4ms\n",
      "Speed: 1.8ms preprocess, 11.4ms inference, 1.4ms postprocess per image at shape (1, 3, 384, 640)\n",
      "\n",
      "image 1/1 /kaggle/input/license-plate-prediction/test/test/test/983.jpg: 480x640 1 license_plate, 13.9ms\n",
      "Speed: 2.0ms preprocess, 13.9ms inference, 1.6ms postprocess per image at shape (1, 3, 480, 640)\n",
      "\n",
      "image 1/1 /kaggle/input/license-plate-prediction/test/test/test/1065.jpg: 640x544 1 license_plate, 16.7ms\n",
      "Speed: 2.3ms preprocess, 16.7ms inference, 1.5ms postprocess per image at shape (1, 3, 640, 544)\n",
      "\n",
      "image 1/1 /kaggle/input/license-plate-prediction/test/test/test/953.jpg: 480x640 1 license_plate, 13.9ms\n",
      "Speed: 2.1ms preprocess, 13.9ms inference, 1.5ms postprocess per image at shape (1, 3, 480, 640)\n",
      "\n",
      "image 1/1 /kaggle/input/license-plate-prediction/test/test/test/960.jpg: 416x640 1 license_plate, 13.4ms\n",
      "Speed: 1.8ms preprocess, 13.4ms inference, 1.5ms postprocess per image at shape (1, 3, 416, 640)\n",
      "\n",
      "image 1/1 /kaggle/input/license-plate-prediction/test/test/test/1052.jpg: 384x640 2 license_plates, 11.5ms\n",
      "Speed: 1.8ms preprocess, 11.5ms inference, 1.6ms postprocess per image at shape (1, 3, 384, 640)\n",
      "\n",
      "image 1/1 /kaggle/input/license-plate-prediction/test/test/test/1111.jpg: 640x384 1 license_plate, 11.5ms\n",
      "Speed: 1.7ms preprocess, 11.5ms inference, 1.6ms postprocess per image at shape (1, 3, 640, 384)\n",
      "\n",
      "image 1/1 /kaggle/input/license-plate-prediction/test/test/test/985.jpg: 640x480 1 license_plate, 12.7ms\n",
      "Speed: 2.0ms preprocess, 12.7ms inference, 1.4ms postprocess per image at shape (1, 3, 640, 480)\n",
      "\n",
      "image 1/1 /kaggle/input/license-plate-prediction/test/test/test/962.jpg: 384x640 1 license_plate, 11.5ms\n",
      "Speed: 1.7ms preprocess, 11.5ms inference, 1.5ms postprocess per image at shape (1, 3, 384, 640)\n",
      "\n",
      "image 1/1 /kaggle/input/license-plate-prediction/test/test/test/1005.jpg: 640x384 1 license_plate, 11.4ms\n",
      "Speed: 1.6ms preprocess, 11.4ms inference, 1.4ms postprocess per image at shape (1, 3, 640, 384)\n",
      "\n",
      "image 1/1 /kaggle/input/license-plate-prediction/test/test/test/969.jpg: 640x480 1 license_plate, 12.7ms\n",
      "Speed: 1.9ms preprocess, 12.7ms inference, 1.4ms postprocess per image at shape (1, 3, 640, 480)\n",
      "\n",
      "image 1/1 /kaggle/input/license-plate-prediction/test/test/test/1046.jpg: 640x480 1 license_plate, 12.0ms\n",
      "Speed: 1.8ms preprocess, 12.0ms inference, 1.6ms postprocess per image at shape (1, 3, 640, 480)\n",
      "\n",
      "image 1/1 /kaggle/input/license-plate-prediction/test/test/test/986.jpg: 480x640 1 license_plate, 14.1ms\n",
      "Speed: 2.3ms preprocess, 14.1ms inference, 1.6ms postprocess per image at shape (1, 3, 480, 640)\n",
      "\n",
      "image 1/1 /kaggle/input/license-plate-prediction/test/test/test/1057.jpg: 640x544 1 license_plate, 16.6ms\n",
      "Speed: 2.2ms preprocess, 16.6ms inference, 1.6ms postprocess per image at shape (1, 3, 640, 544)\n",
      "\n",
      "image 1/1 /kaggle/input/license-plate-prediction/test/test/test/1090.jpg: 640x480 1 license_plate, 13.0ms\n",
      "Speed: 2.0ms preprocess, 13.0ms inference, 1.5ms postprocess per image at shape (1, 3, 640, 480)\n",
      "\n",
      "image 1/1 /kaggle/input/license-plate-prediction/test/test/test/1061.jpg: 640x384 1 license_plate, 11.4ms\n",
      "Speed: 1.6ms preprocess, 11.4ms inference, 1.6ms postprocess per image at shape (1, 3, 640, 384)\n",
      "\n",
      "image 1/1 /kaggle/input/license-plate-prediction/test/test/test/989.jpg: 384x640 1 license_plate, 11.5ms\n",
      "Speed: 2.0ms preprocess, 11.5ms inference, 1.5ms postprocess per image at shape (1, 3, 384, 640)\n",
      "\n",
      "image 1/1 /kaggle/input/license-plate-prediction/test/test/test/1016.jpg: 480x640 1 license_plate, 13.8ms\n",
      "Speed: 2.0ms preprocess, 13.8ms inference, 1.4ms postprocess per image at shape (1, 3, 480, 640)\n",
      "\n",
      "image 1/1 /kaggle/input/license-plate-prediction/test/test/test/987.jpg: 480x640 1 license_plate, 13.1ms\n",
      "Speed: 2.1ms preprocess, 13.1ms inference, 1.5ms postprocess per image at shape (1, 3, 480, 640)\n",
      "\n",
      "image 1/1 /kaggle/input/license-plate-prediction/test/test/test/1021.jpg: 640x384 1 license_plate, 11.5ms\n",
      "Speed: 1.7ms preprocess, 11.5ms inference, 1.5ms postprocess per image at shape (1, 3, 640, 384)\n",
      "\n",
      "image 1/1 /kaggle/input/license-plate-prediction/test/test/test/1015.jpg: 480x640 1 license_plate, 13.9ms\n",
      "Speed: 2.2ms preprocess, 13.9ms inference, 1.7ms postprocess per image at shape (1, 3, 480, 640)\n",
      "\n",
      "image 1/1 /kaggle/input/license-plate-prediction/test/test/test/925.jpg: 640x384 1 license_plate, 11.5ms\n",
      "Speed: 1.7ms preprocess, 11.5ms inference, 1.5ms postprocess per image at shape (1, 3, 640, 384)\n",
      "\n",
      "image 1/1 /kaggle/input/license-plate-prediction/test/test/test/921.jpg: 480x640 3 license_plates, 13.8ms\n",
      "Speed: 2.2ms preprocess, 13.8ms inference, 1.6ms postprocess per image at shape (1, 3, 480, 640)\n"
     ]
    }
   ],
   "source": [
    "import cv2 \n",
    "import os\n",
    "\n",
    "# Directory paths\n",
    "test_dir = '/kaggle/input/license-plate-prediction/test/test/test'  ##providing path of the test images\n",
    "crop_output_dir = '/kaggle/working/cropped_plates'\n",
    "os.makedirs(crop_output_dir, exist_ok=True)\n",
    "\n",
    "# Run inference on each image\n",
    "for img_file in os.listdir(test_dir):\n",
    "    img_path = os.path.join(test_dir, img_file)\n",
    "    results = model(img_path)\n",
    "\n",
    "    for i, box in enumerate(results[0].boxes.data):\n",
    "        x1, y1, x2, y2 = map(int, box[:4])\n",
    "        img = cv2.imread(img_path)\n",
    "        cropped = img[y1:y2, x1:x2]\n",
    "        save_path = os.path.join(crop_output_dir, f\"{os.path.splitext(img_file)[0]}_{i}.jpg\")\n",
    "        cv2.imwrite(save_path, cropped)"
   ]
  },
  {
   "cell_type": "markdown",
   "metadata": {},
   "source": [
    "**To view a random cropped image**"
   ]
  },
  {
   "cell_type": "code",
   "execution_count": 28,
   "metadata": {
    "execution": {
     "iopub.execute_input": "2025-06-15T15:14:33.772847Z",
     "iopub.status.busy": "2025-06-15T15:14:33.772549Z",
     "iopub.status.idle": "2025-06-15T15:14:33.854802Z",
     "shell.execute_reply": "2025-06-15T15:14:33.854056Z",
     "shell.execute_reply.started": "2025-06-15T15:14:33.772825Z"
    },
    "trusted": true
   },
   "outputs": [
    {
     "data": {
      "image/png": "[encoded data removed]",
      "text/plain": [
       "<Figure size 600x400 with 1 Axes>"
      ]
     },
     "metadata": {},
     "output_type": "display_data"
    }
   ],
   "source": [
    "import matplotlib.pyplot as plt \n",
    "import random\n",
    "\n",
    "def show_random_cropped_image(crop_dir):\n",
    "    # Get all image filenames in the directory\n",
    "    images = [f for f in os.listdir(crop_dir) if f.endswith(('.jpg', '.png'))]\n",
    "    \n",
    "    if not images:\n",
    "        print(\"No images found in the directory.\")\n",
    "        return\n",
    "\n",
    "    # Choose a random image\n",
    "    random_img = random.choice(images)\n",
    "    img_path = os.path.join(crop_dir, random_img)\n",
    "\n",
    "    # Read and display the image\n",
    "    img = cv2.imread(img_path)\n",
    "    img = cv2.cvtColor(img, cv2.COLOR_BGR2RGB)  # Convert BGR to RGB for matplotlib\n",
    "\n",
    "    plt.figure(figsize=(6, 4))\n",
    "    plt.imshow(img)\n",
    "    plt.title(f\"Random Cropped Plate: {random_img}\")\n",
    "    plt.axis('off')\n",
    "    plt.show()\n",
    "\n",
    "# Call the function\n",
    "show_random_cropped_image('/kaggle/working/cropped_plates')"
   ]
  },
  {
   "cell_type": "markdown",
   "metadata": {},
   "source": [
    "**Let's Export our model for Deployment process**"
   ]
  },
  {
   "cell_type": "code",
   "execution_count": 31,
   "metadata": {
    "execution": {
     "iopub.execute_input": "2025-06-15T15:27:22.227708Z",
     "iopub.status.busy": "2025-06-15T15:27:22.226977Z",
     "iopub.status.idle": "2025-06-15T15:27:30.503606Z",
     "shell.execute_reply": "2025-06-15T15:27:30.502980Z",
     "shell.execute_reply.started": "2025-06-15T15:27:22.227689Z"
    },
    "trusted": true
   },
   "outputs": [
    {
     "name": "stdout",
     "output_type": "stream",
     "text": [
      "Ultralytics 8.3.155 🚀 Python-3.11.11 torch-2.6.0+cu124 CPU (Intel Xeon 2.00GHz)\n",
      "💡 ProTip: Export to OpenVINO format for best performance on Intel CPUs. Learn more at https://docs.ultralytics.com/integrations/openvino/\n",
      "\n",
      "\u001b[34m\u001b[1mPyTorch:\u001b[0m starting from '/kaggle/working/runs/detect/train/weights/best.pt' with input shape (1, 3, 640, 640) BCHW and output shape(s) (1, 5, 8400) (21.5 MB)\n",
      "\u001b[31m\u001b[1mrequirements:\u001b[0m Ultralytics requirements ['onnxslim>=0.1.56', 'onnxruntime-gpu'] not found, attempting AutoUpdate...\n",
      "\n",
      "\u001b[31m\u001b[1mrequirements:\u001b[0m AutoUpdate success ✅ 4.4s\n",
      "WARNING ⚠️ \u001b[31m\u001b[1mrequirements:\u001b[0m \u001b[1mRestart runtime or rerun command for updates to take effect\u001b[0m\n",
      "\n",
      "\n",
      "\u001b[34m\u001b[1mONNX:\u001b[0m starting export with onnx 1.17.0 opset 19...\n",
      "\u001b[34m\u001b[1mONNX:\u001b[0m slimming with onnxslim 0.1.57...\n",
      "\u001b[34m\u001b[1mONNX:\u001b[0m export success ✅ 7.6s, saved as '/kaggle/working/runs/detect/train/weights/best.onnx' (42.7 MB)\n",
      "\n",
      "Export complete (8.3s)\n",
      "Results saved to \u001b[1m/kaggle/working/runs/detect/train/weights\u001b[0m\n",
      "Predict:         yolo predict task=detect model=/kaggle/working/runs/detect/train/weights/best.onnx imgsz=640  \n",
      "Validate:        yolo val task=detect model=/kaggle/working/runs/detect/train/weights/best.onnx imgsz=640 data=/kaggle/working/data.yaml  \n",
      "Visualize:       https://netron.app\n"
     ]
    },
    {
     "data": {
      "text/plain": [
       "'/kaggle/working/runs/detect/train/weights/best.onnx'"
      ]
     },
     "execution_count": 31,
     "metadata": {},
     "output_type": "execute_result"
    }
   ],
   "source": [
    "model.export(format='onnx')"
   ]
  },
  {
   "cell_type": "markdown",
   "metadata": {},
   "source": [
    "**Converting my 'cropped images' to a zip ffile so that I can perform 'Character Recogntion process' on a different notebook**"
   ]
  },
  {
   "cell_type": "code",
   "execution_count": 29,
   "metadata": {
    "execution": {
     "iopub.execute_input": "2025-06-15T15:24:35.372300Z",
     "iopub.status.busy": "2025-06-15T15:24:35.371856Z",
     "iopub.status.idle": "2025-06-15T15:24:35.427609Z",
     "shell.execute_reply": "2025-06-15T15:24:35.426965Z",
     "shell.execute_reply.started": "2025-06-15T15:24:35.372277Z"
    },
    "trusted": true
   },
   "outputs": [
    {
     "data": {
      "text/plain": [
       "'/kaggle/working/cropped_plates.zip'"
      ]
     },
     "execution_count": 29,
     "metadata": {},
     "output_type": "execute_result"
    }
   ],
   "source": [
    "import shutil\n",
    "\n",
    "# Zip the cropped image directory\n",
    "shutil.make_archive('cropped_plates', 'zip', '/kaggle/working/cropped_plates')\n"
   ]
  },
  {
   "cell_type": "markdown",
   "metadata": {},
   "source": [
    "**A new file named cropped_plated.zip is created**"
   ]
  },
  {
   "cell_type": "code",
   "execution_count": 30,
   "metadata": {
    "execution": {
     "iopub.execute_input": "2025-06-15T15:25:50.632333Z",
     "iopub.status.busy": "2025-06-15T15:25:50.631542Z",
     "iopub.status.idle": "2025-06-15T15:25:50.637445Z",
     "shell.execute_reply": "2025-06-15T15:25:50.636827Z",
     "shell.execute_reply.started": "2025-06-15T15:25:50.632306Z"
    },
    "trusted": true
   },
   "outputs": [
    {
     "data": {
      "text/html": [
       "<a href='/kaggle/working/cropped_plates.zip' target='_blank'>/kaggle/working/cropped_plates.zip</a><br>"
      ],
      "text/plain": [
       "/kaggle/working/cropped_plates.zip"
      ]
     },
     "execution_count": 30,
     "metadata": {},
     "output_type": "execute_result"
    }
   ],
   "source": [
    "##Downloading the ZIP file\n",
    "from IPython.display import FileLink\n",
    "FileLink('/kaggle/working/cropped_plates.zip')\n"
   ]
  },
  {
   "cell_type": "code",
   "execution_count": null,
   "metadata": {
    "trusted": true
   },
   "outputs": [],
   "source": []
  },
  {
   "cell_type": "code",
   "execution_count": null,
   "metadata": {
    "trusted": true
   },
   "outputs": [],
   "source": []
  },
  {
   "cell_type": "code",
   "execution_count": null,
   "metadata": {
    "trusted": true
   },
   "outputs": [],
   "source": []
  },
  {
   "cell_type": "code",
   "execution_count": null,
   "metadata": {
    "trusted": true
   },
   "outputs": [],
   "source": []
  },
  {
   "cell_type": "code",
   "execution_count": null,
   "metadata": {
    "trusted": true
   },
   "outputs": [],
   "source": []
  },
  {
   "cell_type": "code",
   "execution_count": null,
   "metadata": {
    "trusted": true
   },
   "outputs": [],
   "source": []
  },
  {
   "cell_type": "code",
   "execution_count": null,
   "metadata": {
    "trusted": true
   },
   "outputs": [],
   "source": []
  }
 ],
 "metadata": {
  "kaggle": {
   "accelerator": "nvidiaTeslaT4",
   "dataSources": [
    {
     "datasetId": 7667356,
     "sourceId": 12174033,
     "sourceType": "datasetVersion"
    }
   ],
   "dockerImageVersionId": 31041,
   "isGpuEnabled": true,
   "isInternetEnabled": true,
   "language": "python",
   "sourceType": "notebook"
  },
  "kernelspec": {
   "display_name": "Python 3",
   "language": "python",
   "name": "python3"
  },
  "language_info": {
   "codemirror_mode": {
    "name": "ipython",
    "version": 3
   },
   "file_extension": ".py",
   "mimetype": "text/x-python",
   "name": "python",
   "nbconvert_exporter": "python",
   "pygments_lexer": "ipython3",
   "version": "3.11.11"
  }
 },
 "nbformat": 4,
 "nbformat_minor": 4
}
